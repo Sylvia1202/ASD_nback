{
 "cells": [
  {
   "cell_type": "code",
   "execution_count": 83,
   "metadata": {},
   "outputs": [],
   "source": [
    "peakPupil = read.csv(file=\"/Users/Michael/Documents/CMU/Research/ASD/nback/tidyData.csv\")\n",
    "peakPupil$subjectNumber = factor(peakPupil$subjectNumber)\n",
    "peakPupil$diagnosis = factor(peakPupil$diagnosis)\n",
    "peakPupil$female = factor(peakPupil$female)\n",
    "peakPupil$caffeine = factor(peakPupil$caffeine)\n",
    "peakPupil$meds = factor(peakPupil$meds)\n",
    "peakPupil$glasses = factor(peakPupil$glasses)\n",
    "peakPupil$hit = factor(peakPupil$hit)\n",
    "peakPupil$FA = factor(peakPupil$FA)\n",
    "peakPupil$miss = factor(peakPupil$miss)\n",
    "peakPupil$aud = factor(peakPupil$aud)\n",
    "peakPupil$distractors = factor(peakPupil$distractors)"
   ]
  },
  {
   "cell_type": "code",
   "execution_count": 84,
   "metadata": {},
   "outputs": [],
   "source": [
    "library(dplyr)\n",
    "dataMeth = peakPupil %>%\n",
    "subset(hit == 1 & FA == 0 & miss == 0 & aud == 0 & distractors == 0)"
   ]
  },
  {
   "cell_type": "code",
   "execution_count": 85,
   "metadata": {},
   "outputs": [
    {
     "name": "stderr",
     "output_type": "stream",
     "text": [
      "Warning message in FUN(newX[, i], ...):\n",
      "“no non-missing arguments to min; returning Inf”Warning message in FUN(newX[, i], ...):\n",
      "“no non-missing arguments to min; returning Inf”Warning message in FUN(newX[, i], ...):\n",
      "“no non-missing arguments to min; returning Inf”Warning message in FUN(newX[, i], ...):\n",
      "“no non-missing arguments to min; returning Inf”Warning message in FUN(newX[, i], ...):\n",
      "“no non-missing arguments to min; returning Inf”Warning message in FUN(newX[, i], ...):\n",
      "“no non-missing arguments to min; returning Inf”Warning message in FUN(newX[, i], ...):\n",
      "“no non-missing arguments to min; returning Inf”Warning message in FUN(newX[, i], ...):\n",
      "“no non-missing arguments to max; returning -Inf”Warning message in FUN(newX[, i], ...):\n",
      "“no non-missing arguments to max; returning -Inf”Warning message in FUN(newX[, i], ...):\n",
      "“no non-missing arguments to max; returning -Inf”Warning message in FUN(newX[, i], ...):\n",
      "“no non-missing arguments to max; returning -Inf”Warning message in FUN(newX[, i], ...):\n",
      "“no non-missing arguments to max; returning -Inf”Warning message in FUN(newX[, i], ...):\n",
      "“no non-missing arguments to max; returning -Inf”Warning message in FUN(newX[, i], ...):\n",
      "“no non-missing arguments to max; returning -Inf”"
     ]
    },
    {
     "data": {
      "text/plain": [
       "\n",
       " Descriptive statistics by group \n",
       "group: 0\n",
       "               vars  n   mean    sd median trimmed   mad    min    max  range\n",
       "subjectNumber*    1 24  25.62 13.72  24.50   25.40 17.05   6.00  47.00  41.00\n",
       "diagnosis*        2 24   1.00  0.00   1.00    1.00  0.00   1.00   1.00   0.00\n",
       "age               3 24  28.38  6.74  25.50   27.45  5.19  21.00  47.00  26.00\n",
       "female*           4 24   1.08  0.28   1.00    1.00  0.00   1.00   2.00   1.00\n",
       "handedness        5 24  59.16 45.41  70.00   66.78 36.19 -85.71 100.00 185.71\n",
       "caffeine*         6 24   1.54  0.51   2.00    1.55  0.00   1.00   2.00   1.00\n",
       "meds*             7 24   1.04  0.20   1.00    1.00  0.00   1.00   2.00   1.00\n",
       "glasses*          8 24   1.42  0.50   1.00    1.40  0.00   1.00   2.00   1.00\n",
       "pupilContrast     9 24  77.29  9.09  80.00   77.25  7.41  55.00 100.00  45.00\n",
       "corneaContrast   10 24 250.00  0.00 250.00  250.00  0.00 250.00 250.00   0.00\n",
       "ADOSComm         11  0    NaN    NA     NA     NaN    NA    Inf   -Inf   -Inf\n",
       "ADOSSoc          12  0    NaN    NA     NA     NaN    NA    Inf   -Inf   -Inf\n",
       "ADOSSocComm      13  0    NaN    NA     NA     NaN    NA    Inf   -Inf   -Inf\n",
       "ADOSBeh          14  0    NaN    NA     NA     NaN    NA    Inf   -Inf   -Inf\n",
       "VIQ              15  0    NaN    NA     NA     NaN    NA    Inf   -Inf   -Inf\n",
       "PIQ              16  0    NaN    NA     NA     NaN    NA    Inf   -Inf   -Inf\n",
       "FIQ              17  0    NaN    NA     NA     NaN    NA    Inf   -Inf   -Inf\n",
       "baseline         18 24  77.16 16.45  75.54   76.11  9.32  45.40 120.50  75.10\n",
       "dprime           19 24   3.55  0.68   3.46    3.57  0.66   2.01   4.74   2.73\n",
       "criterion        20 24   0.80  0.31   0.82    0.78  0.20   0.26   1.65   1.39\n",
       "RT               21 24   0.65  0.07   0.63    0.64  0.05   0.56   0.82   0.26\n",
       "peak             22 24   0.00  0.00   0.00    0.00  0.00   0.00   0.01   0.01\n",
       "hit*             23 24   2.00  0.00   2.00    2.00  0.00   2.00   2.00   0.00\n",
       "FA*              24 24   1.00  0.00   1.00    1.00  0.00   1.00   1.00   0.00\n",
       "miss*            25 24   1.00  0.00   1.00    1.00  0.00   1.00   1.00   0.00\n",
       "aud*             26 24   1.00  0.00   1.00    1.00  0.00   1.00   1.00   0.00\n",
       "distractors*     27 24   1.00  0.00   1.00    1.00  0.00   1.00   1.00   0.00\n",
       "                skew kurtosis   se\n",
       "subjectNumber*  0.19    -1.46 2.80\n",
       "diagnosis*       NaN      NaN 0.00\n",
       "age             1.15     0.53 1.38\n",
       "female*         2.83     6.27 0.06\n",
       "handedness     -1.55     2.19 9.27\n",
       "caffeine*      -0.16    -2.06 0.10\n",
       "meds*           4.30    17.24 0.04\n",
       "glasses*        0.32    -1.98 0.10\n",
       "pupilContrast   0.00     0.79 1.85\n",
       "corneaContrast   NaN      NaN 0.00\n",
       "ADOSComm          NA       NA   NA\n",
       "ADOSSoc           NA       NA   NA\n",
       "ADOSSocComm       NA       NA   NA\n",
       "ADOSBeh           NA       NA   NA\n",
       "VIQ               NA       NA   NA\n",
       "PIQ               NA       NA   NA\n",
       "FIQ               NA       NA   NA\n",
       "baseline        0.86     0.84 3.36\n",
       "dprime         -0.32    -0.28 0.14\n",
       "criterion       0.69     1.00 0.06\n",
       "RT              1.22     0.97 0.01\n",
       "peak            0.18    -0.90 0.00\n",
       "hit*             NaN      NaN 0.00\n",
       "FA*              NaN      NaN 0.00\n",
       "miss*            NaN      NaN 0.00\n",
       "aud*             NaN      NaN 0.00\n",
       "distractors*     NaN      NaN 0.00\n",
       "------------------------------------------------------------ \n",
       "group: 1\n",
       "               vars  n   mean    sd median trimmed   mad    min    max  range\n",
       "subjectNumber*    1 23  22.30 13.80  24.00   22.58 17.79   1.00  41.00  40.00\n",
       "diagnosis*        2 23   2.00  0.00   2.00    2.00  0.00   2.00   2.00   0.00\n",
       "age               3 23  32.04  8.12  29.00   31.58  8.90  21.00  49.00  28.00\n",
       "female*           4 23   1.09  0.29   1.00    1.00  0.00   1.00   2.00   1.00\n",
       "handedness        5 23  60.84 50.23  80.00   69.44 29.65 -70.00 100.00 170.00\n",
       "caffeine*         6 23   1.43  0.51   1.00    1.42  0.00   1.00   2.00   1.00\n",
       "meds*             7 23   1.57  0.51   2.00    1.58  0.00   1.00   2.00   1.00\n",
       "glasses*          8 23   1.52  0.51   2.00    1.53  0.00   1.00   2.00   1.00\n",
       "pupilContrast     9 23  81.30  8.29  80.00   80.53  7.41  70.00 110.00  40.00\n",
       "corneaContrast   10 23 250.43  1.44 250.00  250.00  0.00 250.00 255.00   5.00\n",
       "ADOSComm         11 23   3.78  1.44   4.00    3.63  1.48   2.00   8.00   6.00\n",
       "ADOSSoc          12 23   7.17  2.06   7.00    7.00  1.48   4.00  12.00   8.00\n",
       "ADOSSocComm      13 23  10.96  2.79  11.00   10.74  2.97   7.00  17.00  10.00\n",
       "ADOSBeh          14 23   1.70  1.64   2.00    1.53  1.48   0.00   6.00   6.00\n",
       "VIQ              15 23 112.57 12.63 115.00  112.47  8.90  91.00 141.00  50.00\n",
       "PIQ              16 23 110.70 17.61 119.00  111.21 20.76  81.00 134.00  53.00\n",
       "FIQ              17 23 113.83 15.02 113.00  114.63 19.27  86.00 134.00  48.00\n",
       "baseline         18 22  77.54 12.41  81.11   77.61 16.39  54.47  96.62  42.15\n",
       "dprime           19 23   3.16  1.05   3.40    3.20  1.23   1.27   4.69   3.42\n",
       "criterion        20 23   0.91  0.44   0.88    0.88  0.31   0.26   2.24   1.98\n",
       "RT               21 23   0.63  0.06   0.60    0.62  0.06   0.54   0.74   0.20\n",
       "peak             22 23   0.00  0.00   0.00    0.00  0.00   0.00   0.01   0.01\n",
       "hit*             23 23   2.00  0.00   2.00    2.00  0.00   2.00   2.00   0.00\n",
       "FA*              24 23   1.00  0.00   1.00    1.00  0.00   1.00   1.00   0.00\n",
       "miss*            25 23   1.00  0.00   1.00    1.00  0.00   1.00   1.00   0.00\n",
       "aud*             26 23   1.00  0.00   1.00    1.00  0.00   1.00   1.00   0.00\n",
       "distractors*     27 23   1.00  0.00   1.00    1.00  0.00   1.00   1.00   0.00\n",
       "                skew kurtosis    se\n",
       "subjectNumber* -0.19    -1.49  2.88\n",
       "diagnosis*       NaN      NaN  0.00\n",
       "age             0.51    -1.03  1.69\n",
       "female*         2.74     5.78  0.06\n",
       "handedness     -1.25     0.58 10.47\n",
       "caffeine*       0.25    -2.02  0.11\n",
       "meds*          -0.25    -2.02  0.11\n",
       "glasses*       -0.08    -2.08  0.11\n",
       "pupilContrast   1.66     3.77  1.73\n",
       "corneaContrast  2.74     5.78  0.30\n",
       "ADOSComm        0.88     0.98  0.30\n",
       "ADOSSoc         0.58    -0.43  0.43\n",
       "ADOSSocComm     0.58    -0.34  0.58\n",
       "ADOSBeh         0.83    -0.03  0.34\n",
       "VIQ            -0.01    -0.64  2.63\n",
       "PIQ            -0.28    -1.57  3.67\n",
       "FIQ            -0.24    -1.27  3.13\n",
       "baseline       -0.08    -1.35  2.65\n",
       "dprime         -0.37    -0.97  0.22\n",
       "criterion       0.95     1.55  0.09\n",
       "RT              0.51    -1.14  0.01\n",
       "peak            1.08     0.96  0.00\n",
       "hit*             NaN      NaN  0.00\n",
       "FA*              NaN      NaN  0.00\n",
       "miss*            NaN      NaN  0.00\n",
       "aud*             NaN      NaN  0.00\n",
       "distractors*     NaN      NaN  0.00"
      ]
     },
     "metadata": {},
     "output_type": "display_data"
    }
   ],
   "source": [
    "library(psych)\n",
    "describeBy(dataMeth, group = dataMeth$diagnosis)"
   ]
  },
  {
   "cell_type": "code",
   "execution_count": 86,
   "metadata": {},
   "outputs": [
    {
     "data": {
      "text/plain": [
       "\n",
       "Call:\n",
       "glm(formula = diagnosis ~ age + female + handedness, family = binomial, \n",
       "    data = dataMeth)\n",
       "\n",
       "Deviance Residuals: \n",
       "    Min       1Q   Median       3Q      Max  \n",
       "-1.6696  -1.0442  -0.9054   1.2098   1.4855  \n",
       "\n",
       "Coefficients:\n",
       "             Estimate Std. Error z value Pr(>|z|)\n",
       "(Intercept) -2.172206   1.365181  -1.591    0.112\n",
       "age          0.068647   0.042135   1.629    0.103\n",
       "female1      0.051023   1.066384   0.048    0.962\n",
       "handedness   0.001010   0.006483   0.156    0.876\n",
       "\n",
       "(Dispersion parameter for binomial family taken to be 1)\n",
       "\n",
       "    Null deviance: 65.135  on 46  degrees of freedom\n",
       "Residual deviance: 62.236  on 43  degrees of freedom\n",
       "AIC: 70.236\n",
       "\n",
       "Number of Fisher Scoring iterations: 4\n"
      ]
     },
     "metadata": {},
     "output_type": "display_data"
    }
   ],
   "source": [
    "glm.fit = glm(diagnosis ~ age + female + handedness, data = dataMeth, family = binomial)\n",
    "summary(glm.fit)"
   ]
  },
  {
   "cell_type": "code",
   "execution_count": 87,
   "metadata": {},
   "outputs": [
    {
     "data": {
      "text/plain": [
       "\n",
       "Call:\n",
       "glm(formula = diagnosis ~ caffeine + glasses + meds, family = binomial, \n",
       "    data = dataMeth)\n",
       "\n",
       "Deviance Residuals: \n",
       "    Min       1Q   Median       3Q      Max  \n",
       "-2.1294  -0.8264  -0.6275   0.4677   1.8558  \n",
       "\n",
       "Coefficients:\n",
       "            Estimate Std. Error z value Pr(>|z|)   \n",
       "(Intercept)  -0.4548     0.5794  -0.785  0.43246   \n",
       "caffeine1    -1.0703     0.7801  -1.372  0.17007   \n",
       "glasses1      0.1168     0.7357   0.159  0.87392   \n",
       "meds1         3.6828     1.1675   3.155  0.00161 **\n",
       "---\n",
       "Signif. codes:  0 ‘***’ 0.001 ‘**’ 0.01 ‘*’ 0.05 ‘.’ 0.1 ‘ ’ 1\n",
       "\n",
       "(Dispersion parameter for binomial family taken to be 1)\n",
       "\n",
       "    Null deviance: 65.135  on 46  degrees of freedom\n",
       "Residual deviance: 45.600  on 43  degrees of freedom\n",
       "AIC: 53.6\n",
       "\n",
       "Number of Fisher Scoring iterations: 5\n"
      ]
     },
     "metadata": {},
     "output_type": "display_data"
    }
   ],
   "source": [
    "glm.fit = glm(diagnosis ~ caffeine + glasses + meds, data = dataMeth, family = binomial)\n",
    "summary(glm.fit)"
   ]
  },
  {
   "cell_type": "code",
   "execution_count": 88,
   "metadata": {},
   "outputs": [
    {
     "data": {
      "text/plain": [
       "\n",
       "Call:\n",
       "glm(formula = diagnosis ~ pupilContrast + corneaContrast, family = binomial, \n",
       "    data = dataMeth)\n",
       "\n",
       "Deviance Residuals: \n",
       "    Min       1Q   Median       3Q      Max  \n",
       "-1.6424  -1.1389  -0.6301   1.2164   1.4679  \n",
       "\n",
       "Coefficients:\n",
       "                 Estimate Std. Error z value Pr(>|z|)\n",
       "(Intercept)    -8.375e+02  8.484e+04  -0.010    0.992\n",
       "pupilContrast   5.698e-02  3.868e-02   1.473    0.141\n",
       "corneaContrast  3.331e+00  3.393e+02   0.010    0.992\n",
       "\n",
       "(Dispersion parameter for binomial family taken to be 1)\n",
       "\n",
       "    Null deviance: 65.135  on 46  degrees of freedom\n",
       "Residual deviance: 59.673  on 44  degrees of freedom\n",
       "AIC: 65.673\n",
       "\n",
       "Number of Fisher Scoring iterations: 15\n"
      ]
     },
     "metadata": {},
     "output_type": "display_data"
    }
   ],
   "source": [
    "glm.fit = glm(diagnosis ~ pupilContrast + corneaContrast, data = dataMeth, family = binomial)\n",
    "summary(glm.fit)"
   ]
  },
  {
   "cell_type": "code",
   "execution_count": 89,
   "metadata": {},
   "outputs": [],
   "source": [
    "dataBeh = peakPupil %>%\n",
    "subset(hit == 1 & FA == 0 & miss == 0 & aud == 0)"
   ]
  },
  {
   "cell_type": "code",
   "execution_count": 90,
   "metadata": {},
   "outputs": [
    {
     "data": {
      "text/plain": [
       "Linear mixed model fit by REML. t-tests use Satterthwaite's method [\n",
       "lmerModLmerTest]\n",
       "Formula: dprime ~ diagnosis * distractors + (1 | subjectNumber)\n",
       "   Data: dataBeh\n",
       "\n",
       "REML criterion at convergence: 194.2\n",
       "\n",
       "Scaled residuals: \n",
       "     Min       1Q   Median       3Q      Max \n",
       "-2.18957 -0.36942  0.00733  0.42376  2.29364 \n",
       "\n",
       "Random effects:\n",
       " Groups        Name        Variance Std.Dev.\n",
       " subjectNumber (Intercept) 0.5378   0.7333  \n",
       " Residual                  0.1571   0.3964  \n",
       "Number of obs: 94, groups:  subjectNumber, 47\n",
       "\n",
       "Fixed effects:\n",
       "                        Estimate Std. Error       df t value Pr(>|t|)    \n",
       "(Intercept)              3.54566    0.17016 56.28907  20.838   <2e-16 ***\n",
       "diagnosis1              -0.38152    0.24324 56.28907  -1.568    0.122    \n",
       "distractors1             0.07513    0.11443 45.00000   0.657    0.515    \n",
       "diagnosis1:distractors1 -0.02547    0.16358 45.00000  -0.156    0.877    \n",
       "---\n",
       "Signif. codes:  0 ‘***’ 0.001 ‘**’ 0.01 ‘*’ 0.05 ‘.’ 0.1 ‘ ’ 1\n",
       "\n",
       "Correlation of Fixed Effects:\n",
       "            (Intr) dgnss1 dstrc1\n",
       "diagnosis1  -0.700              \n",
       "distractrs1 -0.336  0.235       \n",
       "dgnss1:dst1  0.235 -0.336 -0.700"
      ]
     },
     "metadata": {},
     "output_type": "display_data"
    },
    {
     "data": {
      "text/plain": [
       "Linear mixed model fit by REML. t-tests use Satterthwaite's method [\n",
       "lmerModLmerTest]\n",
       "Formula: dprime ~ diagnosis * distractors * meds + (1 | subjectNumber)\n",
       "   Data: dataBeh\n",
       "\n",
       "REML criterion at convergence: 190.8\n",
       "\n",
       "Scaled residuals: \n",
       "     Min       1Q   Median       3Q      Max \n",
       "-2.35341 -0.38737  0.00177  0.39190  2.41189 \n",
       "\n",
       "Random effects:\n",
       " Groups        Name        Variance Std.Dev.\n",
       " subjectNumber (Intercept) 0.5485   0.7406  \n",
       " Residual                  0.1591   0.3988  \n",
       "Number of obs: 94, groups:  subjectNumber, 47\n",
       "\n",
       "Fixed effects:\n",
       "                              Estimate Std. Error       df t value Pr(>|t|)    \n",
       "(Intercept)                    3.57668    0.17539 53.72007  20.392   <2e-16 ***\n",
       "diagnosis1                    -0.58344    0.31862 53.72007  -1.831   0.0726 .  \n",
       "distractors1                   0.07824    0.11761 43.00001   0.665   0.5095    \n",
       "meds1                         -0.74426    0.85924 53.72007  -0.866   0.3902    \n",
       "diagnosis1:distractors1        0.13195    0.21365 43.00001   0.618   0.5401    \n",
       "diagnosis1:meds1               1.04664    0.92923 53.72007   1.126   0.2650    \n",
       "distractors1:meds1            -0.07448    0.57618 43.00001  -0.129   0.8977    \n",
       "diagnosis1:distractors1:meds1 -0.20952    0.62311 43.00001  -0.336   0.7383    \n",
       "---\n",
       "Signif. codes:  0 ‘***’ 0.001 ‘**’ 0.01 ‘*’ 0.05 ‘.’ 0.1 ‘ ’ 1\n",
       "\n",
       "Correlation of Fixed Effects:\n",
       "            (Intr) dgnss1 dstrc1 meds1  dgnss1:d1 dgnss1:m1 dst1:1\n",
       "diagnosis1  -0.550                                                \n",
       "distractrs1 -0.335  0.185                                         \n",
       "meds1       -0.204  0.112  0.068                                  \n",
       "dgnss1:dst1  0.185 -0.335 -0.550 -0.038                           \n",
       "dgnss1:mds1  0.189 -0.343 -0.063 -0.925  0.115                    \n",
       "dstrctrs1:1  0.068 -0.038 -0.204 -0.335  0.112     0.310          \n",
       "dgnss1:d1:1 -0.063  0.115  0.189  0.310 -0.343    -0.335    -0.925"
      ]
     },
     "metadata": {},
     "output_type": "display_data"
    },
    {
     "data": {
      "text/html": [
       "221.426881862742"
      ],
      "text/latex": [
       "221.426881862742"
      ],
      "text/markdown": [
       "221.426881862742"
      ],
      "text/plain": [
       "[1] 221.4269"
      ]
     },
     "metadata": {},
     "output_type": "display_data"
    },
    {
     "data": {
      "text/html": [
       "236.246567886429"
      ],
      "text/latex": [
       "236.246567886429"
      ],
      "text/markdown": [
       "236.246567886429"
      ],
      "text/plain": [
       "[1] 236.2466"
      ]
     },
     "metadata": {},
     "output_type": "display_data"
    }
   ],
   "source": [
    "library(lme4)\n",
    "library(lmerTest)\n",
    "nocon.fit = lmer(dprime ~ diagnosis*distractors + (1 | subjectNumber), data = dataBeh)\n",
    "summary(nocon.fit)\n",
    "con.fit = lmer(dprime ~ diagnosis*distractors*meds + (1 | subjectNumber), data = dataBeh)\n",
    "summary(con.fit)\n",
    "BIC(nocon.fit)\n",
    "BIC(con.fit)"
   ]
  },
  {
   "cell_type": "code",
   "execution_count": 91,
   "metadata": {},
   "outputs": [
    {
     "data": {
      "text/html": [
       "3262.08160104446"
      ],
      "text/latex": [
       "3262.08160104446"
      ],
      "text/markdown": [
       "3262.08160104446"
      ],
      "text/plain": [
       "[1] 3262.082"
      ]
     },
     "metadata": {},
     "output_type": "display_data"
    }
   ],
   "source": [
    "no.fit = lmer(dprime ~ (1 | subjectNumber), data = dataBeh)\n",
    "exp((BIC(nocon.fit)-BIC(no.fit))/2) "
   ]
  },
  {
   "cell_type": "code",
   "execution_count": 92,
   "metadata": {},
   "outputs": [
    {
     "name": "stderr",
     "output_type": "stream",
     "text": [
      "Scale for 'colour' is already present. Adding another scale for 'colour',\n",
      "which will replace the existing scale.\n"
     ]
    },
    {
     "data": {
      "image/png": "[encoded data removed]",
      "text/plain": [
       "plot without title"
      ]
     },
     "metadata": {},
     "output_type": "display_data"
    }
   ],
   "source": [
    "library(tidyverse)\n",
    "\n",
    "ggplot(data = dataBeh) +\n",
    "geom_point(mapping = aes(x = distractors, y = dprime)) +\n",
    "aes(x = distractors, color = diagnosis, group = diagnosis, y = dprime) + \n",
    "stat_summary(fun.y = mean, geom = \"line\", size = 1) + \n",
    "stat_summary(fun.data = mean_se, geom = \"errorbar\", width = 0.2, size = 1) + \n",
    "scale_x_discrete(breaks = c(\"0\",\"1\"), labels = c(\"ABSENCE of Distractors\",\"PRESENCE of Distractors\")) +\n",
    "scale_color_discrete(breaks = c(\"1\",\"0\"), labels = c(\"Autism\",\"Control\")) +\n",
    "scale_color_manual(breaks = c(\"1\",\"0\"), labels = c(\"Autism\", \"Control\"), values=c(\"blue\", \"red\")) +\n",
    "scale_y_continuous(breaks = 0:5,limits = c(0,5.5)) +\n",
    "ylab(\"d'\") +\n",
    "xlab(\"Condition\") +\n",
    "theme_classic() +\n",
    "theme(legend.position=c(0.9,0.1)) +\n",
    "theme(legend.title=element_blank()) +\n",
    "theme(axis.text=element_text(size=14)) +\n",
    "theme(axis.title=element_text(size=14)) +\n",
    "theme(legend.text=element_text(size=14))"
   ]
  },
  {
   "cell_type": "code",
   "execution_count": 93,
   "metadata": {},
   "outputs": [
    {
     "data": {
      "text/plain": [
       "Linear mixed model fit by REML. t-tests use Satterthwaite's method [\n",
       "lmerModLmerTest]\n",
       "Formula: criterion ~ diagnosis * distractors + (1 | subjectNumber)\n",
       "   Data: dataBeh\n",
       "\n",
       "REML criterion at convergence: 66.3\n",
       "\n",
       "Scaled residuals: \n",
       "    Min      1Q  Median      3Q     Max \n",
       "-1.6793 -0.3720 -0.0615  0.3027  3.3128 \n",
       "\n",
       "Random effects:\n",
       " Groups        Name        Variance Std.Dev.\n",
       " subjectNumber (Intercept) 0.07927  0.2815  \n",
       " Residual                  0.05336  0.2310  \n",
       "Number of obs: 94, groups:  subjectNumber, 47\n",
       "\n",
       "Fixed effects:\n",
       "                        Estimate Std. Error       df t value Pr(>|t|)    \n",
       "(Intercept)              0.80481    0.07434 66.31271  10.826 2.66e-16 ***\n",
       "diagnosis1               0.10820    0.10627 66.31271   1.018   0.3123    \n",
       "distractors1             0.12410    0.06668 45.00000   1.861   0.0693 .  \n",
       "diagnosis1:distractors1 -0.04712    0.09533 45.00000  -0.494   0.6235    \n",
       "---\n",
       "Signif. codes:  0 ‘***’ 0.001 ‘**’ 0.01 ‘*’ 0.05 ‘.’ 0.1 ‘ ’ 1\n",
       "\n",
       "Correlation of Fixed Effects:\n",
       "            (Intr) dgnss1 dstrc1\n",
       "diagnosis1  -0.700              \n",
       "distractrs1 -0.449  0.314       \n",
       "dgnss1:dst1  0.314 -0.449 -0.700"
      ]
     },
     "metadata": {},
     "output_type": "display_data"
    },
    {
     "data": {
      "text/plain": [
       "Linear mixed model fit by REML. t-tests use Satterthwaite's method [\n",
       "lmerModLmerTest]\n",
       "Formula: criterion ~ diagnosis * distractors * meds + (1 | subjectNumber)\n",
       "   Data: dataBeh\n",
       "\n",
       "REML criterion at convergence: 68.9\n",
       "\n",
       "Scaled residuals: \n",
       "     Min       1Q   Median       3Q      Max \n",
       "-1.42702 -0.46937 -0.03983  0.34424  3.08108 \n",
       "\n",
       "Random effects:\n",
       " Groups        Name        Variance Std.Dev.\n",
       " subjectNumber (Intercept) 0.08355  0.2891  \n",
       " Residual                  0.05319  0.2306  \n",
       "Number of obs: 94, groups:  subjectNumber, 47\n",
       "\n",
       "Fixed effects:\n",
       "                              Estimate Std. Error       df t value Pr(>|t|)    \n",
       "(Intercept)                    0.80630    0.07711 62.62051  10.457 2.29e-15 ***\n",
       "diagnosis1                     0.12271    0.14007 62.62051   0.876   0.3843    \n",
       "distractors1                   0.12511    0.06801 43.00000   1.840   0.0727 .  \n",
       "meds1                         -0.03572    0.37773 62.62051  -0.095   0.9250    \n",
       "diagnosis1:distractors1       -0.16162    0.12354 43.00000  -1.308   0.1978    \n",
       "diagnosis1:meds1               0.00742    0.40850 62.62051   0.018   0.9856    \n",
       "distractors1:meds1            -0.02425    0.33317 43.00000  -0.073   0.9423    \n",
       "diagnosis1:distractors1:meds1  0.22505    0.36031 43.00000   0.625   0.5355    \n",
       "---\n",
       "Signif. codes:  0 ‘***’ 0.001 ‘**’ 0.01 ‘*’ 0.05 ‘.’ 0.1 ‘ ’ 1\n",
       "\n",
       "Correlation of Fixed Effects:\n",
       "            (Intr) dgnss1 dstrc1 meds1  dgnss1:d1 dgnss1:m1 dst1:1\n",
       "diagnosis1  -0.550                                                \n",
       "distractrs1 -0.441  0.243                                         \n",
       "meds1       -0.204  0.112  0.090                                  \n",
       "dgnss1:dst1  0.243 -0.441 -0.550 -0.050                           \n",
       "dgnss1:mds1  0.189 -0.343 -0.083 -0.925  0.151                    \n",
       "dstrctrs1:1  0.090 -0.050 -0.204 -0.441  0.112     0.408          \n",
       "dgnss1:d1:1 -0.083  0.151  0.189  0.408 -0.343    -0.441    -0.925"
      ]
     },
     "metadata": {},
     "output_type": "display_data"
    },
    {
     "data": {
      "text/html": [
       "93.5928381550782"
      ],
      "text/latex": [
       "93.5928381550782"
      ],
      "text/markdown": [
       "93.5928381550782"
      ],
      "text/plain": [
       "[1] 93.59284"
      ]
     },
     "metadata": {},
     "output_type": "display_data"
    },
    {
     "data": {
      "text/html": [
       "114.286499825565"
      ],
      "text/latex": [
       "114.286499825565"
      ],
      "text/markdown": [
       "114.286499825565"
      ],
      "text/plain": [
       "[1] 114.2865"
      ]
     },
     "metadata": {},
     "output_type": "display_data"
    }
   ],
   "source": [
    "nocon.fit = lmer(criterion ~ diagnosis*distractors + (1 | subjectNumber), data = dataBeh)\n",
    "summary(nocon.fit)\n",
    "con.fit = lmer(criterion ~ diagnosis*distractors*meds + (1 | subjectNumber), data = dataBeh)\n",
    "summary(con.fit)\n",
    "BIC(nocon.fit)\n",
    "BIC(con.fit)"
   ]
  },
  {
   "cell_type": "code",
   "execution_count": 94,
   "metadata": {},
   "outputs": [
    {
     "data": {
      "text/html": [
       "8760.18919110935"
      ],
      "text/latex": [
       "8760.18919110935"
      ],
      "text/markdown": [
       "8760.18919110935"
      ],
      "text/plain": [
       "[1] 8760.189"
      ]
     },
     "metadata": {},
     "output_type": "display_data"
    }
   ],
   "source": [
    "no.fit = lmer(criterion ~ (1 | subjectNumber), data = dataBeh)\n",
    "exp((BIC(nocon.fit)-BIC(no.fit))/2)"
   ]
  },
  {
   "cell_type": "code",
   "execution_count": 95,
   "metadata": {},
   "outputs": [
    {
     "name": "stderr",
     "output_type": "stream",
     "text": [
      "Scale for 'colour' is already present. Adding another scale for 'colour',\n",
      "which will replace the existing scale.\n"
     ]
    },
    {
     "data": {
      "image/png": "[encoded data removed]",
      "text/plain": [
       "plot without title"
      ]
     },
     "metadata": {},
     "output_type": "display_data"
    }
   ],
   "source": [
    "ggplot(data = dataBeh) +\n",
    "geom_point(mapping = aes(x = distractors, y = criterion)) +\n",
    "aes(x = distractors, color = diagnosis, group = diagnosis, y = criterion) + \n",
    "stat_summary(fun.y = mean, geom = \"line\", size = 1) + \n",
    "stat_summary(fun.data = mean_se, geom = \"errorbar\", width = 0.2, size = 1) + \n",
    "scale_x_discrete(breaks = c(\"0\",\"1\"), labels = c(\"ABSENCE of Distractors\",\"PRESENCE of Distractors\")) +\n",
    "scale_color_discrete(breaks = c(\"1\",\"0\"), labels = c(\"Autism\",\"Control\")) +\n",
    "scale_color_manual(breaks = c(\"1\",\"0\"), labels = c(\"Autism\", \"Control\"), values=c(\"blue\", \"red\")) +\n",
    "scale_y_continuous(breaks = 0:2,limits = c(0,2.5)) +\n",
    "ylab(\"C\") +\n",
    "xlab(\"Condition\") +\n",
    "theme_classic() +\n",
    "theme(legend.position=c(0.9,0.1)) +\n",
    "theme(legend.title=element_blank()) +\n",
    "theme(axis.text=element_text(size=14)) +\n",
    "theme(axis.title=element_text(size=14)) +\n",
    "theme(legend.text=element_text(size=14))"
   ]
  },
  {
   "cell_type": "code",
   "execution_count": 96,
   "metadata": {},
   "outputs": [
    {
     "data": {
      "text/plain": [
       "Linear mixed model fit by REML. t-tests use Satterthwaite's method [\n",
       "lmerModLmerTest]\n",
       "Formula: RT ~ diagnosis * distractors + (1 | subjectNumber)\n",
       "   Data: dataBeh\n",
       "\n",
       "REML criterion at convergence: -293.8\n",
       "\n",
       "Scaled residuals: \n",
       "     Min       1Q   Median       3Q      Max \n",
       "-1.78201 -0.43617 -0.02152  0.41157  2.33154 \n",
       "\n",
       "Random effects:\n",
       " Groups        Name        Variance  Std.Dev.\n",
       " subjectNumber (Intercept) 0.0036964 0.06080 \n",
       " Residual                  0.0004799 0.02191 \n",
       "Number of obs: 94, groups:  subjectNumber, 47\n",
       "\n",
       "Fixed effects:\n",
       "                         Estimate Std. Error        df t value Pr(>|t|)    \n",
       "(Intercept)              0.648617   0.013191 50.466266  49.170   <2e-16 ***\n",
       "diagnosis1              -0.022831   0.018857 50.466266  -1.211    0.232    \n",
       "distractors1            -0.001205   0.006324 45.000002  -0.191    0.850    \n",
       "diagnosis1:distractors1  0.006621   0.009040 45.000002   0.732    0.468    \n",
       "---\n",
       "Signif. codes:  0 ‘***’ 0.001 ‘**’ 0.01 ‘*’ 0.05 ‘.’ 0.1 ‘ ’ 1\n",
       "\n",
       "Correlation of Fixed Effects:\n",
       "            (Intr) dgnss1 dstrc1\n",
       "diagnosis1  -0.700              \n",
       "distractrs1 -0.240  0.168       \n",
       "dgnss1:dst1  0.168 -0.240 -0.700"
      ]
     },
     "metadata": {},
     "output_type": "display_data"
    },
    {
     "data": {
      "text/plain": [
       "Linear mixed model fit by REML. t-tests use Satterthwaite's method [\n",
       "lmerModLmerTest]\n",
       "Formula: RT ~ diagnosis * distractors * meds + (1 | subjectNumber)\n",
       "   Data: dataBeh\n",
       "\n",
       "REML criterion at convergence: -274.3\n",
       "\n",
       "Scaled residuals: \n",
       "    Min      1Q  Median      3Q     Max \n",
       "-1.7518 -0.4231 -0.0058  0.3957  2.2900 \n",
       "\n",
       "Random effects:\n",
       " Groups        Name        Variance  Std.Dev.\n",
       " subjectNumber (Intercept) 0.0037659 0.06137 \n",
       " Residual                  0.0004989 0.02234 \n",
       "Number of obs: 94, groups:  subjectNumber, 47\n",
       "\n",
       "Fixed effects:\n",
       "                               Estimate Std. Error        df t value Pr(>|t|)\n",
       "(Intercept)                    0.651788   0.013617 48.322284  47.865   <2e-16\n",
       "diagnosis1                    -0.028711   0.024737 48.322284  -1.161    0.251\n",
       "distractors1                  -0.001926   0.006587 43.000002  -0.292    0.771\n",
       "meds1                         -0.076088   0.066710 48.322284  -1.141    0.260\n",
       "diagnosis1:distractors1        0.007552   0.011965 43.000002   0.631    0.531\n",
       "diagnosis1:meds1               0.080882   0.072144 48.322284   1.121    0.268\n",
       "distractors1:meds1             0.017313   0.032268 43.000002   0.537    0.594\n",
       "diagnosis1:distractors1:meds1 -0.017685   0.034896 43.000002  -0.507    0.615\n",
       "                                 \n",
       "(Intercept)                   ***\n",
       "diagnosis1                       \n",
       "distractors1                     \n",
       "meds1                            \n",
       "diagnosis1:distractors1          \n",
       "diagnosis1:meds1                 \n",
       "distractors1:meds1               \n",
       "diagnosis1:distractors1:meds1    \n",
       "---\n",
       "Signif. codes:  0 ‘***’ 0.001 ‘**’ 0.01 ‘*’ 0.05 ‘.’ 0.1 ‘ ’ 1\n",
       "\n",
       "Correlation of Fixed Effects:\n",
       "            (Intr) dgnss1 dstrc1 meds1  dgnss1:d1 dgnss1:m1 dst1:1\n",
       "diagnosis1  -0.550                                                \n",
       "distractrs1 -0.242  0.133                                         \n",
       "meds1       -0.204  0.112  0.049                                  \n",
       "dgnss1:dst1  0.133 -0.242 -0.550 -0.027                           \n",
       "dgnss1:mds1  0.189 -0.343 -0.046 -0.925  0.083                    \n",
       "dstrctrs1:1  0.049 -0.027 -0.204 -0.242  0.112     0.224          \n",
       "dgnss1:d1:1 -0.046  0.083  0.189  0.224 -0.343    -0.242    -0.925"
      ]
     },
     "metadata": {},
     "output_type": "display_data"
    },
    {
     "data": {
      "text/html": [
       "-266.58349268761"
      ],
      "text/latex": [
       "-266.58349268761"
      ],
      "text/markdown": [
       "-266.58349268761"
      ],
      "text/plain": [
       "[1] -266.5835"
      ]
     },
     "metadata": {},
     "output_type": "display_data"
    },
    {
     "data": {
      "text/html": [
       "-228.889284784117"
      ],
      "text/latex": [
       "-228.889284784117"
      ],
      "text/markdown": [
       "-228.889284784117"
      ],
      "text/plain": [
       "[1] -228.8893"
      ]
     },
     "metadata": {},
     "output_type": "display_data"
    }
   ],
   "source": [
    "nocon.fit = lmer(RT ~ diagnosis*distractors + (1 | subjectNumber), data = dataBeh)\n",
    "summary(nocon.fit)\n",
    "con.fit = lmer(RT ~ diagnosis*distractors*meds + (1 | subjectNumber), data = dataBeh)\n",
    "summary(con.fit)\n",
    "BIC(nocon.fit)\n",
    "BIC(con.fit)"
   ]
  },
  {
   "cell_type": "code",
   "execution_count": 97,
   "metadata": {},
   "outputs": [
    {
     "data": {
      "text/html": [
       "30545766.1793571"
      ],
      "text/latex": [
       "30545766.1793571"
      ],
      "text/markdown": [
       "30545766.1793571"
      ],
      "text/plain": [
       "[1] 30545766"
      ]
     },
     "metadata": {},
     "output_type": "display_data"
    }
   ],
   "source": [
    "no.fit = lmer(RT ~ (1 | subjectNumber), data = dataBeh)\n",
    "exp((BIC(nocon.fit)-BIC(no.fit))/2)"
   ]
  },
  {
   "cell_type": "code",
   "execution_count": 98,
   "metadata": {},
   "outputs": [
    {
     "name": "stderr",
     "output_type": "stream",
     "text": [
      "Scale for 'colour' is already present. Adding another scale for 'colour',\n",
      "which will replace the existing scale.\n"
     ]
    },
    {
     "data": {
      "image/png": "[encoded data removed]",
      "text/plain": [
       "plot without title"
      ]
     },
     "metadata": {},
     "output_type": "display_data"
    }
   ],
   "source": [
    "ggplot(data = dataBeh) +\n",
    "geom_point(mapping = aes(x = distractors, y = RT)) +\n",
    "aes(x = distractors, color = diagnosis, group = diagnosis, y = RT) + \n",
    "stat_summary(fun.y = mean, geom = \"line\", size = 1) + \n",
    "stat_summary(fun.data = mean_se, geom = \"errorbar\", width = 0.2, size = 1) + \n",
    "scale_x_discrete(breaks = c(\"0\",\"1\"), labels = c(\"ABSENCE of Distractors\",\"PRESENCE of Distractors\")) +\n",
    "scale_color_discrete(breaks = c(\"1\",\"0\"), labels = c(\"Autism\",\"Control\")) +\n",
    "scale_color_manual(breaks = c(\"1\",\"0\"), labels = c(\"Autism\", \"Control\"), values=c(\"blue\", \"red\")) +\n",
    "scale_y_continuous(limits = c(0.5,0.9)) +\n",
    "ylab(\"Mean RT (s)\") +\n",
    "xlab(\"Condition\") +\n",
    "theme_classic() +\n",
    "theme(legend.position=c(0.9,0.1)) +\n",
    "theme(legend.title=element_blank()) +\n",
    "theme(axis.text=element_text(size=14)) +\n",
    "theme(axis.title=element_text(size=14)) +\n",
    "theme(legend.text=element_text(size=14))"
   ]
  },
  {
   "cell_type": "code",
   "execution_count": 99,
   "metadata": {},
   "outputs": [],
   "source": [
    "dataBase = peakPupil %>%\n",
    "subset(hit == 1 & FA == 0 & miss == 0 & aud == 0 & distractors == 0)"
   ]
  },
  {
   "cell_type": "code",
   "execution_count": 100,
   "metadata": {},
   "outputs": [
    {
     "data": {
      "text/plain": [
       "\n",
       "Call:\n",
       "lm(formula = baseline ~ diagnosis, data = dataBase)\n",
       "\n",
       "Residuals:\n",
       "    Min      1Q  Median      3Q     Max \n",
       "-31.756  -9.246  -1.175   6.321  43.346 \n",
       "\n",
       "Coefficients:\n",
       "            Estimate Std. Error t value Pr(>|t|)    \n",
       "(Intercept)  77.1579     2.9932  25.778   <2e-16 ***\n",
       "diagnosis1    0.3844     4.3281   0.089     0.93    \n",
       "---\n",
       "Signif. codes:  0 ‘***’ 0.001 ‘**’ 0.01 ‘*’ 0.05 ‘.’ 0.1 ‘ ’ 1\n",
       "\n",
       "Residual standard error: 14.66 on 44 degrees of freedom\n",
       "  (1 observation deleted due to missingness)\n",
       "Multiple R-squared:  0.0001792,\tAdjusted R-squared:  -0.02254 \n",
       "F-statistic: 0.007886 on 1 and 44 DF,  p-value: 0.9296\n"
      ]
     },
     "metadata": {},
     "output_type": "display_data"
    },
    {
     "data": {
      "text/plain": [
       "\n",
       "Call:\n",
       "lm(formula = baseline ~ diagnosis * meds, data = dataBase)\n",
       "\n",
       "Residuals:\n",
       "    Min      1Q  Median      3Q     Max \n",
       "-31.652  -8.279  -1.071   7.779  43.450 \n",
       "\n",
       "Coefficients:\n",
       "                 Estimate Std. Error t value Pr(>|t|)    \n",
       "(Intercept)        77.054      3.110  24.775   <2e-16 ***\n",
       "diagnosis1         -1.973      5.650  -0.349    0.729    \n",
       "meds1               2.495     15.236   0.164    0.871    \n",
       "diagnosis1:meds1    2.018     16.521   0.122    0.903    \n",
       "---\n",
       "Signif. codes:  0 ‘***’ 0.001 ‘**’ 0.01 ‘*’ 0.05 ‘.’ 0.1 ‘ ’ 1\n",
       "\n",
       "Residual standard error: 14.92 on 42 degrees of freedom\n",
       "  (1 observation deleted due to missingness)\n",
       "Multiple R-squared:  0.01255,\tAdjusted R-squared:  -0.05798 \n",
       "F-statistic: 0.1779 on 3 and 42 DF,  p-value: 0.9108\n"
      ]
     },
     "metadata": {},
     "output_type": "display_data"
    },
    {
     "data": {
      "text/html": [
       "387.037126597106"
      ],
      "text/latex": [
       "387.037126597106"
      ],
      "text/markdown": [
       "387.037126597106"
      ],
      "text/plain": [
       "[1] 387.0371"
      ]
     },
     "metadata": {},
     "output_type": "display_data"
    },
    {
     "data": {
      "text/html": [
       "394.121671515135"
      ],
      "text/latex": [
       "394.121671515135"
      ],
      "text/markdown": [
       "394.121671515135"
      ],
      "text/plain": [
       "[1] 394.1217"
      ]
     },
     "metadata": {},
     "output_type": "display_data"
    }
   ],
   "source": [
    "nocon.fit = lm(baseline ~ diagnosis, data = dataBase)\n",
    "summary(nocon.fit)\n",
    "con.fit = lm(baseline ~ diagnosis*meds, data = dataBase)\n",
    "summary(con.fit)\n",
    "BIC(nocon.fit)\n",
    "BIC(con.fit)"
   ]
  },
  {
   "cell_type": "code",
   "execution_count": 101,
   "metadata": {},
   "outputs": [
    {
     "data": {
      "text/html": [
       "6.75443100728523"
      ],
      "text/latex": [
       "6.75443100728523"
      ],
      "text/markdown": [
       "6.75443100728523"
      ],
      "text/plain": [
       "[1] 6.754431"
      ]
     },
     "metadata": {},
     "output_type": "display_data"
    }
   ],
   "source": [
    "no.fit = lm(baseline ~ 1, data = dataBase)\n",
    "exp((BIC(nocon.fit)-BIC(no.fit))/2)"
   ]
  },
  {
   "cell_type": "code",
   "execution_count": 102,
   "metadata": {},
   "outputs": [
    {
     "name": "stderr",
     "output_type": "stream",
     "text": [
      "Warning message:\n",
      "“Removed 1 rows containing non-finite values (stat_summary).”Warning message:\n",
      "“Removed 1 rows containing missing values (geom_point).”"
     ]
    },
    {
     "data": {
      "image/png": "[encoded data removed]",
      "text/plain": [
       "plot without title"
      ]
     },
     "metadata": {},
     "output_type": "display_data"
    }
   ],
   "source": [
    "ggplot(data = dataBase) +\n",
    "geom_point(mapping = aes(x = diagnosis, y = baseline)) +\n",
    "aes(x = diagnosis, color = diagnosis, y = baseline) + \n",
    "stat_summary(fun.data = mean_se, geom = \"errorbar\", width = 0.2, size = 1) + \n",
    "scale_x_discrete(breaks = c(\"1\",\"0\"), labels = c(\"Autism\",\"Control\")) +\n",
    "scale_color_manual(breaks = c(\"1\",\"0\"), labels = c(\"Autism\", \"Control\"), values=c(\"blue\", \"red\")) +\n",
    "#scale_y_continuous(limits = c(0.5,0.9)) +\n",
    "ylab(\"Baseline pupil size (au)\") +\n",
    "xlab(\"Diagnosis\") +\n",
    "theme_classic() +\n",
    "theme(legend.position=\"none\") +\n",
    "theme(axis.text=element_text(size=14)) +\n",
    "theme(axis.title=element_text(size=14))"
   ]
  },
  {
   "cell_type": "code",
   "execution_count": 103,
   "metadata": {},
   "outputs": [],
   "source": [
    "dataHit = peakPupil %>%\n",
    "subset(hit == 1 & FA == 0 & miss == 0 & aud == 0)"
   ]
  },
  {
   "cell_type": "code",
   "execution_count": 104,
   "metadata": {},
   "outputs": [
    {
     "data": {
      "text/plain": [
       "Linear mixed model fit by REML. t-tests use Satterthwaite's method [\n",
       "lmerModLmerTest]\n",
       "Formula: peak ~ diagnosis * distractors + (1 | subjectNumber)\n",
       "   Data: dataHit\n",
       "\n",
       "REML criterion at convergence: -849.3\n",
       "\n",
       "Scaled residuals: \n",
       "    Min      1Q  Median      3Q     Max \n",
       "-1.5411 -0.5152 -0.1990  0.3810  3.3484 \n",
       "\n",
       "Random effects:\n",
       " Groups        Name        Variance  Std.Dev.\n",
       " subjectNumber (Intercept) 2.455e-06 0.001567\n",
       " Residual                  1.933e-06 0.001390\n",
       "Number of obs: 93, groups:  subjectNumber, 47\n",
       "\n",
       "Fixed effects:\n",
       "                          Estimate Std. Error         df t value Pr(>|t|)    \n",
       "(Intercept)              4.878e-03  4.276e-04  6.746e+01  11.408  < 2e-16 ***\n",
       "diagnosis1               5.386e-05  6.112e-04  6.746e+01   0.088  0.93005    \n",
       "distractors1             1.182e-03  4.013e-04  4.328e+01   2.946  0.00517 ** \n",
       "diagnosis1:distractors1 -1.785e-03  5.788e-04  4.363e+01  -3.084  0.00353 ** \n",
       "---\n",
       "Signif. codes:  0 ‘***’ 0.001 ‘**’ 0.01 ‘*’ 0.05 ‘.’ 0.1 ‘ ’ 1\n",
       "\n",
       "Correlation of Fixed Effects:\n",
       "            (Intr) dgnss1 dstrc1\n",
       "diagnosis1  -0.700              \n",
       "distractrs1 -0.469  0.328       \n",
       "dgnss1:dst1  0.325 -0.465 -0.693"
      ]
     },
     "metadata": {},
     "output_type": "display_data"
    },
    {
     "data": {
      "text/plain": [
       "Linear mixed model fit by REML. t-tests use Satterthwaite's method [\n",
       "lmerModLmerTest]\n",
       "Formula: peak ~ diagnosis * distractors * meds + (1 | subjectNumber)\n",
       "   Data: dataHit\n",
       "\n",
       "REML criterion at convergence: -810.3\n",
       "\n",
       "Scaled residuals: \n",
       "    Min      1Q  Median      3Q     Max \n",
       "-1.4551 -0.4918 -0.1198  0.4126  3.0295 \n",
       "\n",
       "Random effects:\n",
       " Groups        Name        Variance  Std.Dev.\n",
       " subjectNumber (Intercept) 2.340e-06 0.00153 \n",
       " Residual                  1.878e-06 0.00137 \n",
       "Number of obs: 93, groups:  subjectNumber, 47\n",
       "\n",
       "Fixed effects:\n",
       "                                Estimate Std. Error         df t value Pr(>|t|)\n",
       "(Intercept)                    0.0048237  0.0004282 64.1771817  11.264  < 2e-16\n",
       "diagnosis1                     0.0011145  0.0007779 64.1771817   1.433  0.15679\n",
       "distractors1                   0.0010949  0.0004041 40.5953001   2.709  0.00983\n",
       "meds1                          0.0012936  0.0020979 64.1771817   0.617  0.53966\n",
       "diagnosis1:distractors1       -0.0023492  0.0007341 40.5953001  -3.200  0.00267\n",
       "diagnosis1:meds1              -0.0030749  0.0022688 64.1771817  -1.355  0.18008\n",
       "distractors1:meds1             0.0020943  0.0019798 40.5953001   1.058  0.29639\n",
       "diagnosis1:distractors1:meds1 -0.0009306  0.0021455 40.6716802  -0.434  0.66675\n",
       "                                 \n",
       "(Intercept)                   ***\n",
       "diagnosis1                       \n",
       "distractors1                  ** \n",
       "meds1                            \n",
       "diagnosis1:distractors1       ** \n",
       "diagnosis1:meds1                 \n",
       "distractors1:meds1               \n",
       "diagnosis1:distractors1:meds1    \n",
       "---\n",
       "Signif. codes:  0 ‘***’ 0.001 ‘**’ 0.01 ‘*’ 0.05 ‘.’ 0.1 ‘ ’ 1\n",
       "\n",
       "Correlation of Fixed Effects:\n",
       "            (Intr) dgnss1 dstrc1 meds1  dgnss1:d1 dgnss1:m1 dst1:1\n",
       "diagnosis1  -0.550                                                \n",
       "distractrs1 -0.472  0.260                                         \n",
       "meds1       -0.204  0.112  0.096                                  \n",
       "dgnss1:dst1  0.260 -0.472 -0.550 -0.053                           \n",
       "dgnss1:mds1  0.189 -0.343 -0.089 -0.925  0.162                    \n",
       "dstrctrs1:1  0.096 -0.053 -0.204 -0.472  0.112     0.436          \n",
       "dgnss1:d1:1 -0.089  0.161  0.188  0.435 -0.342    -0.471    -0.923"
      ]
     },
     "metadata": {},
     "output_type": "display_data"
    },
    {
     "data": {
      "text/html": [
       "-822.141693707969"
      ],
      "text/latex": [
       "-822.141693707969"
      ],
      "text/markdown": [
       "-822.141693707969"
      ],
      "text/plain": [
       "[1] -822.1417"
      ]
     },
     "metadata": {},
     "output_type": "display_data"
    },
    {
     "data": {
      "text/html": [
       "-764.948615052151"
      ],
      "text/latex": [
       "-764.948615052151"
      ],
      "text/markdown": [
       "-764.948615052151"
      ],
      "text/plain": [
       "[1] -764.9486"
      ]
     },
     "metadata": {},
     "output_type": "display_data"
    }
   ],
   "source": [
    "nocon.fit = lmer(peak ~ diagnosis*distractors + (1 | subjectNumber), data = dataHit)\n",
    "summary(nocon.fit)\n",
    "con.fit = lmer(peak ~ diagnosis*distractors*meds + (1 | subjectNumber), data = dataHit)\n",
    "summary(con.fit)\n",
    "BIC(nocon.fit)\n",
    "BIC(con.fit)"
   ]
  },
  {
   "cell_type": "code",
   "execution_count": 105,
   "metadata": {},
   "outputs": [
    {
     "data": {
      "text/plain": [
       "Linear mixed model fit by REML. t-tests use Satterthwaite's method [\n",
       "lmerModLmerTest]\n",
       "Formula: peak ~ diagnosis * distractors + (1 | subjectNumber)\n",
       "   Data: dataHit\n",
       "\n",
       "REML criterion at convergence: -849.3\n",
       "\n",
       "Scaled residuals: \n",
       "    Min      1Q  Median      3Q     Max \n",
       "-1.5411 -0.5152 -0.1990  0.3810  3.3484 \n",
       "\n",
       "Random effects:\n",
       " Groups        Name        Variance  Std.Dev.\n",
       " subjectNumber (Intercept) 2.455e-06 0.001567\n",
       " Residual                  1.933e-06 0.001390\n",
       "Number of obs: 93, groups:  subjectNumber, 47\n",
       "\n",
       "Fixed effects:\n",
       "                          Estimate Std. Error         df t value Pr(>|t|)    \n",
       "(Intercept)              4.878e-03  4.276e-04  6.746e+01  11.408  < 2e-16 ***\n",
       "diagnosis1               5.386e-05  6.112e-04  6.746e+01   0.088  0.93005    \n",
       "distractors1             1.182e-03  4.013e-04  4.328e+01   2.946  0.00517 ** \n",
       "diagnosis1:distractors1 -1.785e-03  5.788e-04  4.363e+01  -3.084  0.00353 ** \n",
       "---\n",
       "Signif. codes:  0 ‘***’ 0.001 ‘**’ 0.01 ‘*’ 0.05 ‘.’ 0.1 ‘ ’ 1\n",
       "\n",
       "Correlation of Fixed Effects:\n",
       "            (Intr) dgnss1 dstrc1\n",
       "diagnosis1  -0.700              \n",
       "distractrs1 -0.469  0.328       \n",
       "dgnss1:dst1  0.325 -0.465 -0.693"
      ]
     },
     "metadata": {},
     "output_type": "display_data"
    },
    {
     "data": {
      "text/plain": [
       "\n",
       "\t Simultaneous Tests for General Linear Hypotheses\n",
       "\n",
       "Fit: lmer(formula = peak ~ diagnosis * distractors + (1 | subjectNumber), \n",
       "    data = dataHit)\n",
       "\n",
       "Linear Hypotheses:\n",
       "         Estimate Std. Error z value Pr(>|z|)\n",
       "1 == 0 -0.0006031  0.0004171  -1.446    0.148\n",
       "(Adjusted p values reported -- single-step method)\n"
      ]
     },
     "metadata": {},
     "output_type": "display_data"
    },
    {
     "data": {
      "text/plain": [
       "\n",
       "\t Simultaneous Tests for General Linear Hypotheses\n",
       "\n",
       "Fit: lmer(formula = peak ~ diagnosis * distractors + (1 | subjectNumber), \n",
       "    data = dataHit)\n",
       "\n",
       "Linear Hypotheses:\n",
       "        Estimate Std. Error z value Pr(>|z|)   \n",
       "1 == 0 0.0011822  0.0004013   2.946  0.00322 **\n",
       "---\n",
       "Signif. codes:  0 ‘***’ 0.001 ‘**’ 0.01 ‘*’ 0.05 ‘.’ 0.1 ‘ ’ 1\n",
       "(Adjusted p values reported -- single-step method)\n"
      ]
     },
     "metadata": {},
     "output_type": "display_data"
    },
    {
     "data": {
      "text/plain": [
       "\n",
       "\t Simultaneous Tests for General Linear Hypotheses\n",
       "\n",
       "Fit: lmer(formula = peak ~ diagnosis * distractors + (1 | subjectNumber), \n",
       "    data = dataHit)\n",
       "\n",
       "Linear Hypotheses:\n",
       "        Estimate Std. Error z value Pr(>|z|)\n",
       "1 == 0 5.386e-05  6.112e-04   0.088     0.93\n",
       "(Adjusted p values reported -- single-step method)\n"
      ]
     },
     "metadata": {},
     "output_type": "display_data"
    },
    {
     "data": {
      "text/plain": [
       "\n",
       "\t Simultaneous Tests for General Linear Hypotheses\n",
       "\n",
       "Fit: lmer(formula = peak ~ diagnosis * distractors + (1 | subjectNumber), \n",
       "    data = dataHit)\n",
       "\n",
       "Linear Hypotheses:\n",
       "         Estimate Std. Error z value Pr(>|z|)   \n",
       "1 == 0 -0.0017314  0.0006161   -2.81  0.00495 **\n",
       "---\n",
       "Signif. codes:  0 ‘***’ 0.001 ‘**’ 0.01 ‘*’ 0.05 ‘.’ 0.1 ‘ ’ 1\n",
       "(Adjusted p values reported -- single-step method)\n"
      ]
     },
     "metadata": {},
     "output_type": "display_data"
    }
   ],
   "source": [
    "library(multcomp)\n",
    "\n",
    "me.fit = lmer(peak ~ diagnosis*distractors + (1  | subjectNumber), data = dataHit)\n",
    "summary(me.fit)\n",
    "\n",
    "MAutAut = matrix(c(0,0,1,1),1) #comparison of autism participants across the two conditions (null)\n",
    "MConCon = matrix(c(0,0,1,0),1) #comparison of controls across the two conditions (null)\n",
    "MAutConNoDis = matrix(c(0,1,0,0),1) #comparison of autism and control participants in the no distractor condition (null)\n",
    "MAutConDis = matrix(c(0,1,0,1),1) #comparison of autism and control participants in the distractor condition (null)\n",
    "\n",
    "AutAut = glht(me.fit,linfct = MAutAut)\n",
    "summary(AutAut)\n",
    "\n",
    "ConCon = glht(me.fit,linfct = MConCon)\n",
    "summary(ConCon)\n",
    "\n",
    "AutConNoDis = glht(me.fit,linfct = MAutConNoDis)\n",
    "summary(AutConNoDis)\n",
    "\n",
    "AutConDis = glht(me.fit,linfct = MAutConDis)\n",
    "summary(AutConDis)"
   ]
  },
  {
   "cell_type": "code",
   "execution_count": 106,
   "metadata": {},
   "outputs": [
    {
     "name": "stderr",
     "output_type": "stream",
     "text": [
      "Scale for 'colour' is already present. Adding another scale for 'colour',\n",
      "which will replace the existing scale.\n",
      "Warning message:\n",
      "“Removed 1 rows containing non-finite values (stat_summary).”Warning message:\n",
      "“Removed 1 rows containing non-finite values (stat_summary).”Warning message:\n",
      "“Removed 1 rows containing missing values (geom_point).”"
     ]
    },
    {
     "data": {
      "image/png": "[encoded data removed]",
      "text/plain": [
       "plot without title"
      ]
     },
     "metadata": {},
     "output_type": "display_data"
    }
   ],
   "source": [
    "ggplot(data = dataHit) +\n",
    "geom_point(mapping = aes(x = distractors, y = peak)) +\n",
    "aes(x = distractors, color = diagnosis, group = diagnosis, y = peak) + \n",
    "stat_summary(fun.y = mean, geom = \"line\", size = 1) + \n",
    "stat_summary(fun.data = mean_se, geom = \"errorbar\", width = 0.2, size = 1) + \n",
    "scale_x_discrete(breaks = c(\"0\",\"1\"), labels = c(\"ABSENCE of Distractors\",\"PRESENCE of Distractors\")) +\n",
    "scale_color_discrete(breaks = c(\"1\",\"0\"), labels = c(\"Autism\",\"Control\")) +\n",
    "scale_color_manual(breaks = c(\"1\",\"0\"), labels = c(\"Autism\", \"Control\"), values=c(\"blue\", \"red\")) +\n",
    "scale_y_continuous(breaks = (c(0.005,0.01,0.015,0.02)),limits=c(0, 0.02)) +\n",
    "ylab(\"Normalized Peak Pupil Amplitude\") +\n",
    "xlab(\"Condition\") +\n",
    "theme_classic() +\n",
    "theme(legend.position=c(0.9,0.1)) +\n",
    "theme(legend.title=element_blank()) +\n",
    "theme(axis.text=element_text(size=14, color = \"black\")) +\n",
    "theme(axis.title=element_text(size=14, color = \"black\")) +\n",
    "theme(legend.text=element_text(size=14)) +\n",
    " theme( axis.line = element_line(colour = \"black\", \n",
    "                      linetype = \"solid\"))+\n",
    "ggtitle(\"Pupillary Response to Hits\")+\n",
    "  theme(plot.title = element_text(hjust = 0.5))"
   ]
  },
  {
   "cell_type": "code",
   "execution_count": 107,
   "metadata": {},
   "outputs": [],
   "source": [
    "dataFA = peakPupil %>%\n",
    "subset(hit == 0 & FA == 1 & miss == 0 & aud == 0)"
   ]
  },
  {
   "cell_type": "code",
   "execution_count": 108,
   "metadata": {},
   "outputs": [
    {
     "data": {
      "text/plain": [
       "Linear mixed model fit by REML. t-tests use Satterthwaite's method [\n",
       "lmerModLmerTest]\n",
       "Formula: peak ~ diagnosis * distractors + (1 | subjectNumber)\n",
       "   Data: dataFA\n",
       "\n",
       "REML criterion at convergence: -733.4\n",
       "\n",
       "Scaled residuals: \n",
       "    Min      1Q  Median      3Q     Max \n",
       "-1.6917 -0.6028 -0.1142  0.5206  1.9840 \n",
       "\n",
       "Random effects:\n",
       " Groups        Name        Variance  Std.Dev.\n",
       " subjectNumber (Intercept) 5.536e-06 0.002353\n",
       " Residual                  5.036e-06 0.002244\n",
       "Number of obs: 89, groups:  subjectNumber, 46\n",
       "\n",
       "Fixed effects:\n",
       "                          Estimate Std. Error         df t value Pr(>|t|)    \n",
       "(Intercept)              0.0082893  0.0006637 67.4835466  12.490  < 2e-16 ***\n",
       "diagnosis1               0.0001584  0.0009597 67.4835466   0.165  0.86938    \n",
       "distractors1             0.0007635  0.0006699 42.6699586   1.140  0.26072    \n",
       "diagnosis1:distractors1 -0.0025960  0.0009608 42.3575774  -2.702  0.00987 ** \n",
       "---\n",
       "Signif. codes:  0 ‘***’ 0.001 ‘**’ 0.01 ‘*’ 0.05 ‘.’ 0.1 ‘ ’ 1\n",
       "\n",
       "Correlation of Fixed Effects:\n",
       "            (Intr) dgnss1 dstrc1\n",
       "diagnosis1  -0.692              \n",
       "distractrs1 -0.472  0.326       \n",
       "dgnss1:dst1  0.329 -0.476 -0.697"
      ]
     },
     "metadata": {},
     "output_type": "display_data"
    },
    {
     "data": {
      "text/plain": [
       "Linear mixed model fit by REML. t-tests use Satterthwaite's method [\n",
       "lmerModLmerTest]\n",
       "Formula: peak ~ diagnosis * distractors * meds + (1 | subjectNumber)\n",
       "   Data: dataFA\n",
       "\n",
       "REML criterion at convergence: -695.8\n",
       "\n",
       "Scaled residuals: \n",
       "     Min       1Q   Median       3Q      Max \n",
       "-1.69258 -0.60149 -0.05591  0.50273  2.11950 \n",
       "\n",
       "Random effects:\n",
       " Groups        Name        Variance  Std.Dev.\n",
       " subjectNumber (Intercept) 5.289e-06 0.002300\n",
       " Residual                  5.079e-06 0.002254\n",
       "Number of obs: 89, groups:  subjectNumber, 46\n",
       "\n",
       "Fixed effects:\n",
       "                                Estimate Std. Error         df t value Pr(>|t|)\n",
       "(Intercept)                    0.0080086  0.0006714 65.0762820  11.928   <2e-16\n",
       "diagnosis1                     0.0001276  0.0012197 65.0762820   0.105   0.9170\n",
       "distractors1                   0.0009110  0.0006881 40.7880426   1.324   0.1929\n",
       "meds1                          0.0067367  0.0032892 65.0762820   2.048   0.0446\n",
       "diagnosis1:distractors1       -0.0021376  0.0012203 39.8776714  -1.752   0.0875\n",
       "diagnosis1:meds1              -0.0061656  0.0035665 65.0762820  -1.729   0.0886\n",
       "distractors1:meds1            -0.0034900  0.0032606 39.5186154  -1.070   0.2910\n",
       "diagnosis1:distractors1:meds1  0.0023390  0.0035429 39.6000108   0.660   0.5129\n",
       "                                 \n",
       "(Intercept)                   ***\n",
       "diagnosis1                       \n",
       "distractors1                     \n",
       "meds1                         *  \n",
       "diagnosis1:distractors1       .  \n",
       "diagnosis1:meds1              .  \n",
       "distractors1:meds1               \n",
       "diagnosis1:distractors1:meds1    \n",
       "---\n",
       "Signif. codes:  0 ‘***’ 0.001 ‘**’ 0.01 ‘*’ 0.05 ‘.’ 0.1 ‘ ’ 1\n",
       "\n",
       "Correlation of Fixed Effects:\n",
       "            (Intr) dgnss1 dstrc1 meds1  dgnss1:d1 dgnss1:m1 dst1:1\n",
       "diagnosis1  -0.550                                                \n",
       "distractrs1 -0.478  0.263                                         \n",
       "meds1       -0.204  0.112  0.098                                  \n",
       "dgnss1:dst1  0.270 -0.490 -0.564 -0.055                           \n",
       "dgnss1:mds1  0.188 -0.342 -0.090 -0.922  0.167                    \n",
       "dstrctrs1:1  0.101 -0.056 -0.211 -0.494  0.119     0.456          \n",
       "dgnss1:d1:1 -0.093  0.169  0.194  0.455 -0.344    -0.493    -0.920"
      ]
     },
     "metadata": {},
     "output_type": "display_data"
    },
    {
     "data": {
      "text/html": [
       "-706.456230733319"
      ],
      "text/latex": [
       "-706.456230733319"
      ],
      "text/markdown": [
       "-706.456230733319"
      ],
      "text/plain": [
       "[1] -706.4562"
      ]
     },
     "metadata": {},
     "output_type": "display_data"
    },
    {
     "data": {
      "text/html": [
       "-650.950312034088"
      ],
      "text/latex": [
       "-650.950312034088"
      ],
      "text/markdown": [
       "-650.950312034088"
      ],
      "text/plain": [
       "[1] -650.9503"
      ]
     },
     "metadata": {},
     "output_type": "display_data"
    }
   ],
   "source": [
    "nocon.fit = lmer(peak ~ diagnosis*distractors + (1 | subjectNumber), data = dataFA)\n",
    "summary(nocon.fit)\n",
    "con.fit = lmer(peak ~ diagnosis*distractors*meds + (1 | subjectNumber), data = dataFA)\n",
    "summary(con.fit)\n",
    "BIC(nocon.fit)\n",
    "BIC(con.fit)"
   ]
  },
  {
   "cell_type": "code",
   "execution_count": 109,
   "metadata": {},
   "outputs": [
    {
     "data": {
      "text/plain": [
       "Linear mixed model fit by REML. t-tests use Satterthwaite's method [\n",
       "lmerModLmerTest]\n",
       "Formula: peak ~ diagnosis * distractors + (1 | subjectNumber)\n",
       "   Data: dataFA\n",
       "\n",
       "REML criterion at convergence: -733.4\n",
       "\n",
       "Scaled residuals: \n",
       "    Min      1Q  Median      3Q     Max \n",
       "-1.6917 -0.6028 -0.1142  0.5206  1.9840 \n",
       "\n",
       "Random effects:\n",
       " Groups        Name        Variance  Std.Dev.\n",
       " subjectNumber (Intercept) 5.536e-06 0.002353\n",
       " Residual                  5.036e-06 0.002244\n",
       "Number of obs: 89, groups:  subjectNumber, 46\n",
       "\n",
       "Fixed effects:\n",
       "                          Estimate Std. Error         df t value Pr(>|t|)    \n",
       "(Intercept)              0.0082893  0.0006637 67.4835466  12.490  < 2e-16 ***\n",
       "diagnosis1               0.0001584  0.0009597 67.4835466   0.165  0.86938    \n",
       "distractors1             0.0007635  0.0006699 42.6699586   1.140  0.26072    \n",
       "diagnosis1:distractors1 -0.0025960  0.0009608 42.3575774  -2.702  0.00987 ** \n",
       "---\n",
       "Signif. codes:  0 ‘***’ 0.001 ‘**’ 0.01 ‘*’ 0.05 ‘.’ 0.1 ‘ ’ 1\n",
       "\n",
       "Correlation of Fixed Effects:\n",
       "            (Intr) dgnss1 dstrc1\n",
       "diagnosis1  -0.692              \n",
       "distractrs1 -0.472  0.326       \n",
       "dgnss1:dst1  0.329 -0.476 -0.697"
      ]
     },
     "metadata": {},
     "output_type": "display_data"
    },
    {
     "data": {
      "text/plain": [
       "\n",
       "\t Simultaneous Tests for General Linear Hypotheses\n",
       "\n",
       "Fit: lmer(formula = peak ~ diagnosis * distractors + (1 | subjectNumber), \n",
       "    data = dataFA)\n",
       "\n",
       "Linear Hypotheses:\n",
       "         Estimate Std. Error z value Pr(>|z|)   \n",
       "1 == 0 -0.0018325  0.0006888  -2.661   0.0078 **\n",
       "---\n",
       "Signif. codes:  0 ‘***’ 0.001 ‘**’ 0.01 ‘*’ 0.05 ‘.’ 0.1 ‘ ’ 1\n",
       "(Adjusted p values reported -- single-step method)\n"
      ]
     },
     "metadata": {},
     "output_type": "display_data"
    },
    {
     "data": {
      "text/plain": [
       "\n",
       "\t Simultaneous Tests for General Linear Hypotheses\n",
       "\n",
       "Fit: lmer(formula = peak ~ diagnosis * distractors + (1 | subjectNumber), \n",
       "    data = dataFA)\n",
       "\n",
       "Linear Hypotheses:\n",
       "        Estimate Std. Error z value Pr(>|z|)\n",
       "1 == 0 0.0007635  0.0006699    1.14    0.254\n",
       "(Adjusted p values reported -- single-step method)\n"
      ]
     },
     "metadata": {},
     "output_type": "display_data"
    },
    {
     "data": {
      "text/plain": [
       "\n",
       "\t Simultaneous Tests for General Linear Hypotheses\n",
       "\n",
       "Fit: lmer(formula = peak ~ diagnosis * distractors + (1 | subjectNumber), \n",
       "    data = dataFA)\n",
       "\n",
       "Linear Hypotheses:\n",
       "        Estimate Std. Error z value Pr(>|z|)\n",
       "1 == 0 0.0001584  0.0009597   0.165    0.869\n",
       "(Adjusted p values reported -- single-step method)\n"
      ]
     },
     "metadata": {},
     "output_type": "display_data"
    },
    {
     "data": {
      "text/plain": [
       "\n",
       "\t Simultaneous Tests for General Linear Hypotheses\n",
       "\n",
       "Fit: lmer(formula = peak ~ diagnosis * distractors + (1 | subjectNumber), \n",
       "    data = dataFA)\n",
       "\n",
       "Linear Hypotheses:\n",
       "         Estimate Std. Error z value Pr(>|z|)  \n",
       "1 == 0 -0.0024376  0.0009832  -2.479   0.0132 *\n",
       "---\n",
       "Signif. codes:  0 ‘***’ 0.001 ‘**’ 0.01 ‘*’ 0.05 ‘.’ 0.1 ‘ ’ 1\n",
       "(Adjusted p values reported -- single-step method)\n"
      ]
     },
     "metadata": {},
     "output_type": "display_data"
    }
   ],
   "source": [
    "me.fit = lmer(peak ~ diagnosis*distractors + (1  | subjectNumber), data = dataFA)\n",
    "summary(me.fit)\n",
    "\n",
    "MAutAut = matrix(c(0,0,1,1),1) #comparison of autism participants across the two conditions (null)\n",
    "MConCon = matrix(c(0,0,1,0),1) #comparison of controls across the two conditions (null)\n",
    "MAutConNoDis = matrix(c(0,1,0,0),1) #comparison of autism and control participants in the no distractor condition (null)\n",
    "MAutConDis = matrix(c(0,1,0,1),1) #comparison of autism and control participants in the distractor condition (null)\n",
    "\n",
    "AutAut = glht(me.fit,linfct = MAutAut)\n",
    "summary(AutAut)\n",
    "\n",
    "ConCon = glht(me.fit,linfct = MConCon)\n",
    "summary(ConCon)\n",
    "\n",
    "AutConNoDis = glht(me.fit,linfct = MAutConNoDis)\n",
    "summary(AutConNoDis)\n",
    "\n",
    "AutConDis = glht(me.fit,linfct = MAutConDis)\n",
    "summary(AutConDis)"
   ]
  },
  {
   "cell_type": "code",
   "execution_count": 110,
   "metadata": {},
   "outputs": [
    {
     "name": "stderr",
     "output_type": "stream",
     "text": [
      "Scale for 'colour' is already present. Adding another scale for 'colour',\n",
      "which will replace the existing scale.\n",
      "Warning message:\n",
      "“Removed 5 rows containing non-finite values (stat_summary).”Warning message:\n",
      "“Removed 5 rows containing non-finite values (stat_summary).”Warning message:\n",
      "“Removed 5 rows containing missing values (geom_point).”"
     ]
    },
    {
     "data": {
      "image/png": "[encoded data removed]",
      "text/plain": [
       "plot without title"
      ]
     },
     "metadata": {},
     "output_type": "display_data"
    }
   ],
   "source": [
    "ggplot(data = dataFA) +\n",
    "geom_point(mapping = aes(x = distractors, y = peak)) +\n",
    "aes(x = distractors, color = diagnosis, group = diagnosis, y = peak) + \n",
    "stat_summary(fun.y = mean, geom = \"line\", size = 1) + \n",
    "stat_summary(fun.data = mean_se, geom = \"errorbar\", width = 0.2, size = 1) + \n",
    "scale_x_discrete(breaks = c(\"0\",\"1\"), labels = c(\"ABSENCE of Distractors\",\"PRESENCE of Distractors\")) +\n",
    "scale_color_discrete(breaks = c(\"1\",\"0\"), labels = c(\"Autism\",\"Control\")) +\n",
    "scale_color_manual(breaks = c(\"1\",\"0\"), labels = c(\"Autism\", \"Control\"), values=c(\"blue\", \"red\")) +\n",
    "scale_y_continuous(breaks = (c(0.005,0.01,0.015,0.02)),limits=c(0, 0.02)) +\n",
    "ylab(\"Normalized Peak Pupil Amplitude\") +\n",
    "xlab(\"Condition\") +\n",
    "theme_classic() +\n",
    "theme(legend.position=c(0.9,0.1)) +\n",
    "theme(legend.title=element_blank()) +\n",
    "theme(axis.text=element_text(size=14, color = \"black\")) +\n",
    "theme(axis.title=element_text(size=14, color = \"black\")) +\n",
    "theme(legend.text=element_text(size=14)) +\n",
    " theme( axis.line = element_line(colour = \"black\", \n",
    "                      linetype = \"solid\"))+\n",
    "ggtitle(\"Pupillary Response to False Alarms\")+\n",
    "  theme(plot.title = element_text(hjust = 0.5))"
   ]
  },
  {
   "cell_type": "code",
   "execution_count": 111,
   "metadata": {},
   "outputs": [],
   "source": [
    "dataMiss = peakPupil %>%\n",
    "subset(hit == 0 & FA == 0 & miss == 1 & aud == 0)"
   ]
  },
  {
   "cell_type": "code",
   "execution_count": 112,
   "metadata": {},
   "outputs": [
    {
     "data": {
      "text/plain": [
       "Linear mixed model fit by REML. t-tests use Satterthwaite's method [\n",
       "lmerModLmerTest]\n",
       "Formula: peak ~ diagnosis * distractors + (1 | subjectNumber)\n",
       "   Data: dataMiss\n",
       "\n",
       "REML criterion at convergence: -787.4\n",
       "\n",
       "Scaled residuals: \n",
       "    Min      1Q  Median      3Q     Max \n",
       "-1.4860 -0.4966 -0.1130  0.3910  3.2125 \n",
       "\n",
       "Random effects:\n",
       " Groups        Name        Variance  Std.Dev.\n",
       " subjectNumber (Intercept) 3.857e-06 0.001964\n",
       " Residual                  3.787e-06 0.001946\n",
       "Number of obs: 92, groups:  subjectNumber, 46\n",
       "\n",
       "Fixed effects:\n",
       "                          Estimate Std. Error         df t value Pr(>|t|)    \n",
       "(Intercept)              0.0064343  0.0005644 70.1402355  11.401  < 2e-16 ***\n",
       "diagnosis1              -0.0019340  0.0008161 70.1402355  -2.370  0.02055 *  \n",
       "distractors1            -0.0016648  0.0005618 44.0000466  -2.963  0.00489 ** \n",
       "diagnosis1:distractors1  0.0012272  0.0008123 44.0000466   1.511  0.13801    \n",
       "---\n",
       "Signif. codes:  0 ‘***’ 0.001 ‘**’ 0.01 ‘*’ 0.05 ‘.’ 0.1 ‘ ’ 1\n",
       "\n",
       "Correlation of Fixed Effects:\n",
       "            (Intr) dgnss1 dstrc1\n",
       "diagnosis1  -0.692              \n",
       "distractrs1 -0.498  0.344       \n",
       "dgnss1:dst1  0.344 -0.498 -0.692"
      ]
     },
     "metadata": {},
     "output_type": "display_data"
    },
    {
     "data": {
      "text/plain": [
       "Linear mixed model fit by REML. t-tests use Satterthwaite's method [\n",
       "lmerModLmerTest]\n",
       "Formula: peak ~ diagnosis * distractors * meds + (1 | subjectNumber)\n",
       "   Data: dataMiss\n",
       "\n",
       "REML criterion at convergence: -752.6\n",
       "\n",
       "Scaled residuals: \n",
       "    Min      1Q  Median      3Q     Max \n",
       "-1.5222 -0.4221 -0.0814  0.2516  3.2212 \n",
       "\n",
       "Random effects:\n",
       " Groups        Name        Variance  Std.Dev.\n",
       " subjectNumber (Intercept) 4.308e-06 0.002076\n",
       " Residual                  3.268e-06 0.001808\n",
       "Number of obs: 92, groups:  subjectNumber, 46\n",
       "\n",
       "Fixed effects:\n",
       "                                Estimate Std. Error         df t value Pr(>|t|)\n",
       "(Intercept)                    0.0065274  0.0005739 63.4752709  11.373  < 2e-16\n",
       "diagnosis1                    -0.0021253  0.0010426 63.4752709  -2.038  0.04567\n",
       "distractors1                  -0.0019482  0.0005331 42.0000002  -3.655  0.00071\n",
       "meds1                         -0.0022346  0.0028116 63.4752709  -0.795  0.42971\n",
       "diagnosis1:distractors1        0.0023968  0.0009684 42.0000003   2.475  0.01744\n",
       "diagnosis1:meds1               0.0024146  0.0030486 63.4752709   0.792  0.43129\n",
       "distractors1:meds1             0.0068037  0.0026115 42.0000002   2.605  0.01264\n",
       "diagnosis1:distractors1:meds1 -0.0084282  0.0028316 42.0000002  -2.976  0.00482\n",
       "                                 \n",
       "(Intercept)                   ***\n",
       "diagnosis1                    *  \n",
       "distractors1                  ***\n",
       "meds1                            \n",
       "diagnosis1:distractors1       *  \n",
       "diagnosis1:meds1                 \n",
       "distractors1:meds1            *  \n",
       "diagnosis1:distractors1:meds1 ** \n",
       "---\n",
       "Signif. codes:  0 ‘***’ 0.001 ‘**’ 0.01 ‘*’ 0.05 ‘.’ 0.1 ‘ ’ 1\n",
       "\n",
       "Correlation of Fixed Effects:\n",
       "            (Intr) dgnss1 dstrc1 meds1  dgnss1:d1 dgnss1:m1 dst1:1\n",
       "diagnosis1  -0.550                                                \n",
       "distractrs1 -0.464  0.256                                         \n",
       "meds1       -0.204  0.112  0.095                                  \n",
       "dgnss1:dst1  0.256 -0.464 -0.550 -0.052                           \n",
       "dgnss1:mds1  0.188 -0.342 -0.087 -0.922  0.159                    \n",
       "dstrctrs1:1  0.095 -0.052 -0.204 -0.464  0.112     0.428          \n",
       "dgnss1:d1:1 -0.087  0.159  0.188  0.428 -0.342    -0.464    -0.922"
      ]
     },
     "metadata": {},
     "output_type": "display_data"
    },
    {
     "data": {
      "text/html": [
       "-760.302736458692"
      ],
      "text/latex": [
       "-760.302736458692"
      ],
      "text/markdown": [
       "-760.302736458692"
      ],
      "text/plain": [
       "[1] -760.3027"
      ]
     },
     "metadata": {},
     "output_type": "display_data"
    },
    {
     "data": {
      "text/html": [
       "-707.366709195288"
      ],
      "text/latex": [
       "-707.366709195288"
      ],
      "text/markdown": [
       "-707.366709195288"
      ],
      "text/plain": [
       "[1] -707.3667"
      ]
     },
     "metadata": {},
     "output_type": "display_data"
    }
   ],
   "source": [
    "nocon.fit = lmer(peak ~ diagnosis*distractors + (1 | subjectNumber), data = dataMiss)\n",
    "summary(nocon.fit)\n",
    "con.fit = lmer(peak ~ diagnosis*distractors*meds + (1 | subjectNumber), data = dataMiss)\n",
    "summary(con.fit)\n",
    "BIC(nocon.fit)\n",
    "BIC(con.fit)"
   ]
  },
  {
   "cell_type": "code",
   "execution_count": 113,
   "metadata": {},
   "outputs": [
    {
     "name": "stderr",
     "output_type": "stream",
     "text": [
      "Scale for 'colour' is already present. Adding another scale for 'colour',\n",
      "which will replace the existing scale.\n",
      "Warning message:\n",
      "“Removed 2 rows containing non-finite values (stat_summary).”Warning message:\n",
      "“Removed 2 rows containing non-finite values (stat_summary).”Warning message:\n",
      "“Removed 2 rows containing missing values (geom_point).”"
     ]
    },
    {
     "data": {
      "image/png": "[encoded data removed]",
      "text/plain": [
       "plot without title"
      ]
     },
     "metadata": {},
     "output_type": "display_data"
    }
   ],
   "source": [
    "ggplot(data = dataMiss) +\n",
    "geom_point(mapping = aes(x = distractors, y = peak)) +\n",
    "aes(x = distractors, color = diagnosis, group = diagnosis, y = peak) + \n",
    "stat_summary(fun.y = mean, geom = \"line\", size = 1) + \n",
    "stat_summary(fun.data = mean_se, geom = \"errorbar\", width = 0.2, size = 1) + \n",
    "scale_x_discrete(breaks = c(\"0\",\"1\"), labels = c(\"ABSENCE of Distractors\",\"PRESENCE of Distractors\")) +\n",
    "scale_color_discrete(breaks = c(\"1\",\"0\"), labels = c(\"Autism\",\"Control\")) +\n",
    "scale_color_manual(breaks = c(\"1\",\"0\"), labels = c(\"Autism\", \"Control\"), values=c(\"blue\", \"red\")) +\n",
    "scale_y_continuous(breaks = (c(0.005,0.01,0.015,0.02)),limits=c(0, 0.02)) +\n",
    "ylab(\"Normalized Peak Pupil Amplitude\") +\n",
    "xlab(\"Condition\") +\n",
    "theme_classic() +\n",
    "theme(legend.position=c(0.9,0.1)) +\n",
    "theme(legend.title=element_blank()) +\n",
    "theme(axis.text=element_text(size=14, color = \"black\")) +\n",
    "theme(axis.title=element_text(size=14, color = \"black\")) +\n",
    "theme(legend.text=element_text(size=14)) +\n",
    " theme( axis.line = element_line(colour = \"black\", \n",
    "                      linetype = \"solid\"))+\n",
    "ggtitle(\"Pupillary Response to Misses\")+\n",
    "  theme(plot.title = element_text(hjust = 0.5))"
   ]
  },
  {
   "cell_type": "code",
   "execution_count": 114,
   "metadata": {},
   "outputs": [],
   "source": [
    "dataAud = peakPupil %>%\n",
    "subset(hit == 0 & FA == 0 & miss == 0 & aud == 1 & distractors == 1)"
   ]
  },
  {
   "cell_type": "code",
   "execution_count": 115,
   "metadata": {},
   "outputs": [
    {
     "data": {
      "text/plain": [
       "\n",
       "Call:\n",
       "glm(formula = peak ~ diagnosis, data = dataAud)\n",
       "\n",
       "Deviance Residuals: \n",
       "       Min          1Q      Median          3Q         Max  \n",
       "-0.0015821  -0.0004790  -0.0002070   0.0003512   0.0025280  \n",
       "\n",
       "Coefficients:\n",
       "              Estimate Std. Error t value Pr(>|t|)    \n",
       "(Intercept)  0.0021798  0.0001705  12.781   <2e-16 ***\n",
       "diagnosis1  -0.0004091  0.0002466  -1.659    0.104    \n",
       "---\n",
       "Signif. codes:  0 ‘***’ 0.001 ‘**’ 0.01 ‘*’ 0.05 ‘.’ 0.1 ‘ ’ 1\n",
       "\n",
       "(Dispersion parameter for gaussian family taken to be 6.98061e-07)\n",
       "\n",
       "    Null deviance: 3.2636e-05  on 45  degrees of freedom\n",
       "Residual deviance: 3.0715e-05  on 44  degrees of freedom\n",
       "  (1 observation deleted due to missingness)\n",
       "AIC: -517.55\n",
       "\n",
       "Number of Fisher Scoring iterations: 2\n"
      ]
     },
     "metadata": {},
     "output_type": "display_data"
    },
    {
     "data": {
      "text/plain": [
       "\n",
       "Call:\n",
       "glm(formula = peak ~ diagnosis * meds, data = dataAud)\n",
       "\n",
       "Deviance Residuals: \n",
       "       Min          1Q      Median          3Q         Max  \n",
       "-0.0015525  -0.0004494  -0.0001819   0.0002473   0.0025266  \n",
       "\n",
       "Coefficients:\n",
       "                   Estimate Std. Error t value Pr(>|t|)    \n",
       "(Intercept)       0.0021502  0.0001769  12.155 2.43e-15 ***\n",
       "diagnosis1       -0.0003815  0.0003336  -1.144    0.259    \n",
       "meds1             0.0007110  0.0008666   0.820    0.417    \n",
       "diagnosis1:meds1 -0.0007077  0.0009415  -0.752    0.456    \n",
       "---\n",
       "Signif. codes:  0 ‘***’ 0.001 ‘**’ 0.01 ‘*’ 0.05 ‘.’ 0.1 ‘ ’ 1\n",
       "\n",
       "(Dispersion parameter for gaussian family taken to be 7.197642e-07)\n",
       "\n",
       "    Null deviance: 3.2636e-05  on 45  degrees of freedom\n",
       "Residual deviance: 3.0230e-05  on 42  degrees of freedom\n",
       "  (1 observation deleted due to missingness)\n",
       "AIC: -514.28\n",
       "\n",
       "Number of Fisher Scoring iterations: 2\n"
      ]
     },
     "metadata": {},
     "output_type": "display_data"
    },
    {
     "data": {
      "text/html": [
       "-512.06464270348"
      ],
      "text/latex": [
       "-512.06464270348"
      ],
      "text/markdown": [
       "-512.06464270348"
      ],
      "text/plain": [
       "[1] -512.0646"
      ]
     },
     "metadata": {},
     "output_type": "display_data"
    },
    {
     "data": {
      "text/html": [
       "-505.138887064594"
      ],
      "text/latex": [
       "-505.138887064594"
      ],
      "text/markdown": [
       "-505.138887064594"
      ],
      "text/plain": [
       "[1] -505.1389"
      ]
     },
     "metadata": {},
     "output_type": "display_data"
    }
   ],
   "source": [
    "nocon.fit = glm(peak ~ diagnosis, data = dataAud)\n",
    "summary(nocon.fit)\n",
    "con.fit = glm(peak ~ diagnosis*meds, data = dataAud)\n",
    "summary(con.fit)\n",
    "BIC(nocon.fit)\n",
    "BIC(con.fit)"
   ]
  },
  {
   "cell_type": "code",
   "execution_count": 116,
   "metadata": {},
   "outputs": [
    {
     "data": {
      "text/html": [
       "1.67981853301537"
      ],
      "text/latex": [
       "1.67981853301537"
      ],
      "text/markdown": [
       "1.67981853301537"
      ],
      "text/plain": [
       "[1] 1.679819"
      ]
     },
     "metadata": {},
     "output_type": "display_data"
    }
   ],
   "source": [
    "no.fit = lm(peak ~ 1, data = dataAud)\n",
    "exp((BIC(nocon.fit)-BIC(no.fit))/2)"
   ]
  },
  {
   "cell_type": "code",
   "execution_count": 117,
   "metadata": {},
   "outputs": [
    {
     "name": "stderr",
     "output_type": "stream",
     "text": [
      "Warning message:\n",
      "“Removed 1 rows containing non-finite values (stat_summary).”Warning message:\n",
      "“Removed 1 rows containing missing values (geom_point).”"
     ]
    },
    {
     "data": {
      "image/png": "[encoded data removed]",
      "text/plain": [
       "plot without title"
      ]
     },
     "metadata": {},
     "output_type": "display_data"
    }
   ],
   "source": [
    "ggplot(data = dataAud) +\n",
    "geom_point(mapping = aes(x = diagnosis, y = peak)) +\n",
    "aes(x = diagnosis, color = diagnosis, y = peak) + \n",
    "stat_summary(fun.data = mean_se, geom = \"errorbar\", width = 0.2, size = 1) + \n",
    "scale_x_discrete(breaks = c(\"1\",\"0\"), labels = c(\"Autism\",\"Control\")) +\n",
    "scale_color_manual(breaks = c(\"1\",\"0\"), labels = c(\"Autism\", \"Control\"), values=c(\"blue\", \"red\")) +\n",
    "#scale_y_continuous(limits = c(0.5,0.9)) +\n",
    "ylab(\"Normalized Peak Pupil Amplitude\") +\n",
    "xlab(\"Diagnosis\") +\n",
    "theme_classic() +\n",
    "theme(legend.position=\"none\") +\n",
    "theme(axis.text=element_text(size=14)) +\n",
    "theme(axis.title=element_text(size=14))"
   ]
  },
  {
   "cell_type": "code",
   "execution_count": null,
   "metadata": {},
   "outputs": [],
   "source": []
  }
 ],
 "metadata": {
  "kernelspec": {
   "display_name": "R",
   "language": "R",
   "name": "ir"
  },
  "language_info": {
   "codemirror_mode": "r",
   "file_extension": ".r",
   "mimetype": "text/x-r-source",
   "name": "R",
   "pygments_lexer": "r",
   "version": "3.5.2"
  }
 },
 "nbformat": 4,
 "nbformat_minor": 2
}
