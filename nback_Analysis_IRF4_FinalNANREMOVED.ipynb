{
 "cells": [
  {
   "cell_type": "markdown",
   "metadata": {},
   "source": [
    "# LOAD LIBRARIES AND DATA"
   ]
  },
  {
   "cell_type": "code",
   "execution_count": 1,
   "metadata": {},
   "outputs": [
    {
     "name": "stderr",
     "output_type": "stream",
     "text": [
      "\n",
      "Attaching package: ‘dplyr’\n",
      "\n",
      "The following objects are masked from ‘package:stats’:\n",
      "\n",
      "    filter, lag\n",
      "\n",
      "The following objects are masked from ‘package:base’:\n",
      "\n",
      "    intersect, setdiff, setequal, union\n",
      "\n",
      "Loading required package: Matrix\n",
      "\n",
      "Attaching package: ‘lmerTest’\n",
      "\n",
      "The following object is masked from ‘package:lme4’:\n",
      "\n",
      "    lmer\n",
      "\n",
      "The following object is masked from ‘package:stats’:\n",
      "\n",
      "    step\n",
      "\n",
      "── \u001b[1mAttaching packages\u001b[22m ─────────────────────────────────────── tidyverse 1.2.1 ──\n",
      "\u001b[32m✔\u001b[39m \u001b[34mggplot2\u001b[39m 3.1.1     \u001b[32m✔\u001b[39m \u001b[34mreadr  \u001b[39m 1.3.1\n",
      "\u001b[32m✔\u001b[39m \u001b[34mtibble \u001b[39m 2.1.1     \u001b[32m✔\u001b[39m \u001b[34mpurrr  \u001b[39m 0.3.2\n",
      "\u001b[32m✔\u001b[39m \u001b[34mtidyr  \u001b[39m 0.8.3     \u001b[32m✔\u001b[39m \u001b[34mstringr\u001b[39m 1.4.0\n",
      "\u001b[32m✔\u001b[39m \u001b[34mggplot2\u001b[39m 3.1.1     \u001b[32m✔\u001b[39m \u001b[34mforcats\u001b[39m 0.4.0\n",
      "── \u001b[1mConflicts\u001b[22m ────────────────────────────────────────── tidyverse_conflicts() ──\n",
      "\u001b[31m✖\u001b[39m \u001b[34mggplot2\u001b[39m::\u001b[32m%+%()\u001b[39m   masks \u001b[34mpsych\u001b[39m::%+%()\n",
      "\u001b[31m✖\u001b[39m \u001b[34mggplot2\u001b[39m::\u001b[32malpha()\u001b[39m masks \u001b[34mpsych\u001b[39m::alpha()\n",
      "\u001b[31m✖\u001b[39m \u001b[34mtidyr\u001b[39m::\u001b[32mexpand()\u001b[39m  masks \u001b[34mMatrix\u001b[39m::expand()\n",
      "\u001b[31m✖\u001b[39m \u001b[34mdplyr\u001b[39m::\u001b[32mfilter()\u001b[39m  masks \u001b[34mstats\u001b[39m::filter()\n",
      "\u001b[31m✖\u001b[39m \u001b[34mdplyr\u001b[39m::\u001b[32mlag()\u001b[39m     masks \u001b[34mstats\u001b[39m::lag()\n",
      "Loading required package: mvtnorm\n",
      "Loading required package: survival\n",
      "Loading required package: TH.data\n",
      "Loading required package: MASS\n",
      "\n",
      "Attaching package: ‘MASS’\n",
      "\n",
      "The following object is masked from ‘package:dplyr’:\n",
      "\n",
      "    select\n",
      "\n",
      "\n",
      "Attaching package: ‘TH.data’\n",
      "\n",
      "The following object is masked from ‘package:MASS’:\n",
      "\n",
      "    geyser\n",
      "\n",
      "\n",
      "Attaching package: ‘effsize’\n",
      "\n",
      "The following object is masked from ‘package:psych’:\n",
      "\n",
      "    cohen.d\n",
      "\n"
     ]
    }
   ],
   "source": [
    "#load necessary libraries\n",
    "\n",
    "library(dplyr)\n",
    "library(psych)\n",
    "library(lme4)\n",
    "library(lmerTest)\n",
    "library(tidyverse)\n",
    "library(multcomp)\n",
    "library(EMAtools)\n",
    "library(effsize)\n",
    "library(leaps)"
   ]
  },
  {
   "cell_type": "code",
   "execution_count": 2,
   "metadata": {},
   "outputs": [],
   "source": [
    "#load data and designate categorical variables as factors\n",
    "\n",
    "peakPupil = read.csv(file=\"/Users/Michael/Documents/CMU/Research/ASD/nback/tidyData_IRF4_SANITY.csv\")\n",
    "peakPupil$subjectNumber = factor(peakPupil$subjectNumber)\n",
    "peakPupil$diagnosis = factor(peakPupil$diagnosis)\n",
    "peakPupil$female = factor(peakPupil$female)\n",
    "peakPupil$caffeine = factor(peakPupil$caffeine)\n",
    "peakPupil$meds = factor(peakPupil$meds)\n",
    "peakPupil$glasses = factor(peakPupil$glasses)\n",
    "peakPupil$hit = factor(peakPupil$hit)\n",
    "peakPupil$FA = factor(peakPupil$FA)\n",
    "peakPupil$miss = factor(peakPupil$miss)\n",
    "peakPupil$aud = factor(peakPupil$aud)\n",
    "peakPupil$distractors = factor(peakPupil$distractors)\n",
    "peakPupil$ADOS = peakPupil$ADOSComm + peakPupil$ADOSSoc + peakPupil$ADOSBeh"
   ]
  },
  {
   "cell_type": "code",
   "execution_count": 3,
   "metadata": {},
   "outputs": [],
   "source": [
    "#create subset of data with ASD participants only\n",
    "\n",
    "dataAut = peakPupil %>%\n",
    "subset(diagnosis == 1)"
   ]
  },
  {
   "cell_type": "markdown",
   "metadata": {},
   "source": [
    "# COMPARISON OF GROUPS FOR METHODS"
   ]
  },
  {
   "cell_type": "code",
   "execution_count": 4,
   "metadata": {},
   "outputs": [],
   "source": [
    "#create subset of data such that measures for each participant are observed only once\n",
    "\n",
    "dataMeth = peakPupil %>%\n",
    "subset(hit == 1 & FA == 0 & miss == 0 & aud == 0 & distractors == 0)"
   ]
  },
  {
   "cell_type": "code",
   "execution_count": 5,
   "metadata": {
    "scrolled": false
   },
   "outputs": [
    {
     "name": "stderr",
     "output_type": "stream",
     "text": [
      "Warning message in FUN(newX[, i], ...):\n",
      "“no non-missing arguments to min; returning Inf”Warning message in FUN(newX[, i], ...):\n",
      "“no non-missing arguments to min; returning Inf”Warning message in FUN(newX[, i], ...):\n",
      "“no non-missing arguments to min; returning Inf”Warning message in FUN(newX[, i], ...):\n",
      "“no non-missing arguments to min; returning Inf”Warning message in FUN(newX[, i], ...):\n",
      "“no non-missing arguments to min; returning Inf”Warning message in FUN(newX[, i], ...):\n",
      "“no non-missing arguments to min; returning Inf”Warning message in FUN(newX[, i], ...):\n",
      "“no non-missing arguments to min; returning Inf”Warning message in FUN(newX[, i], ...):\n",
      "“no non-missing arguments to min; returning Inf”Warning message in FUN(newX[, i], ...):\n",
      "“no non-missing arguments to max; returning -Inf”Warning message in FUN(newX[, i], ...):\n",
      "“no non-missing arguments to max; returning -Inf”Warning message in FUN(newX[, i], ...):\n",
      "“no non-missing arguments to max; returning -Inf”Warning message in FUN(newX[, i], ...):\n",
      "“no non-missing arguments to max; returning -Inf”Warning message in FUN(newX[, i], ...):\n",
      "“no non-missing arguments to max; returning -Inf”Warning message in FUN(newX[, i], ...):\n",
      "“no non-missing arguments to max; returning -Inf”Warning message in FUN(newX[, i], ...):\n",
      "“no non-missing arguments to max; returning -Inf”Warning message in FUN(newX[, i], ...):\n",
      "“no non-missing arguments to max; returning -Inf”"
     ]
    },
    {
     "data": {
      "text/plain": [
       "\n",
       " Descriptive statistics by group \n",
       "group: 0\n",
       "               vars  n   mean    sd median trimmed   mad    min    max  range\n",
       "subjectNumber*    1 24  25.62 13.72  24.50   25.40 17.05   6.00  47.00  41.00\n",
       "diagnosis*        2 24   1.00  0.00   1.00    1.00  0.00   1.00   1.00   0.00\n",
       "age               3 24  28.38  6.74  25.50   27.45  5.19  21.00  47.00  26.00\n",
       "female*           4 24   1.08  0.28   1.00    1.00  0.00   1.00   2.00   1.00\n",
       "handedness        5 24  59.16 45.41  70.00   66.78 36.19 -85.71 100.00 185.71\n",
       "caffeine*         6 24   1.54  0.51   2.00    1.55  0.00   1.00   2.00   1.00\n",
       "meds*             7 24   1.04  0.20   1.00    1.00  0.00   1.00   2.00   1.00\n",
       "glasses*          8 24   1.42  0.50   1.00    1.40  0.00   1.00   2.00   1.00\n",
       "pupilContrast     9 24  77.29  9.09  80.00   77.25  7.41  55.00 100.00  45.00\n",
       "corneaContrast   10 24 250.00  0.00 250.00  250.00  0.00 250.00 250.00   0.00\n",
       "ADOSComm         11  0    NaN    NA     NA     NaN    NA    Inf   -Inf   -Inf\n",
       "ADOSSoc          12  0    NaN    NA     NA     NaN    NA    Inf   -Inf   -Inf\n",
       "ADOSSocComm      13  0    NaN    NA     NA     NaN    NA    Inf   -Inf   -Inf\n",
       "ADOSBeh          14  0    NaN    NA     NA     NaN    NA    Inf   -Inf   -Inf\n",
       "VIQ              15  0    NaN    NA     NA     NaN    NA    Inf   -Inf   -Inf\n",
       "PIQ              16  0    NaN    NA     NA     NaN    NA    Inf   -Inf   -Inf\n",
       "FIQ              17  0    NaN    NA     NA     NaN    NA    Inf   -Inf   -Inf\n",
       "RatHit           18 24   1.34  0.44   1.32    1.30  0.37   0.63   2.73   2.10\n",
       "RatFA            19 22   1.17  0.44   1.13    1.17  0.51   0.43   1.91   1.47\n",
       "RatMiss          20 24   0.86  0.45   0.70    0.81  0.28   0.36   2.13   1.77\n",
       "baseline         21 24  77.16 16.45  75.54   76.11  9.32  45.40 120.50  75.10\n",
       "dprime           22 24   3.55  0.68   3.46    3.57  0.66   2.01   4.74   2.73\n",
       "criterion        23 24   0.80  0.31   0.82    0.78  0.20   0.26   1.65   1.39\n",
       "RT               24 24  -0.20  0.04  -0.21   -0.20  0.03  -0.26  -0.09   0.16\n",
       "peak             25 24   0.00  0.00   0.00    0.00  0.00   0.00   0.01   0.01\n",
       "hit*             26 24   2.00  0.00   2.00    2.00  0.00   2.00   2.00   0.00\n",
       "FA*              27 24   1.00  0.00   1.00    1.00  0.00   1.00   1.00   0.00\n",
       "miss*            28 24   1.00  0.00   1.00    1.00  0.00   1.00   1.00   0.00\n",
       "aud*             29 24   1.00  0.00   1.00    1.00  0.00   1.00   1.00   0.00\n",
       "distractors*     30 24   1.00  0.00   1.00    1.00  0.00   1.00   1.00   0.00\n",
       "ADOS             31  0    NaN    NA     NA     NaN    NA    Inf   -Inf   -Inf\n",
       "                skew kurtosis   se\n",
       "subjectNumber*  0.19    -1.46 2.80\n",
       "diagnosis*       NaN      NaN 0.00\n",
       "age             1.15     0.53 1.38\n",
       "female*         2.83     6.27 0.06\n",
       "handedness     -1.55     2.19 9.27\n",
       "caffeine*      -0.16    -2.06 0.10\n",
       "meds*           4.30    17.24 0.04\n",
       "glasses*        0.32    -1.98 0.10\n",
       "pupilContrast   0.00     0.79 1.85\n",
       "corneaContrast   NaN      NaN 0.00\n",
       "ADOSComm          NA       NA   NA\n",
       "ADOSSoc           NA       NA   NA\n",
       "ADOSSocComm       NA       NA   NA\n",
       "ADOSBeh           NA       NA   NA\n",
       "VIQ               NA       NA   NA\n",
       "PIQ               NA       NA   NA\n",
       "FIQ               NA       NA   NA\n",
       "RatHit          1.00     1.98 0.09\n",
       "RatFA           0.09    -1.34 0.09\n",
       "RatMiss         1.10     0.47 0.09\n",
       "baseline        0.86     0.84 3.36\n",
       "dprime         -0.32    -0.28 0.14\n",
       "criterion       0.69     1.00 0.06\n",
       "RT              1.04     0.53 0.01\n",
       "peak            0.18    -0.90 0.00\n",
       "hit*             NaN      NaN 0.00\n",
       "FA*              NaN      NaN 0.00\n",
       "miss*            NaN      NaN 0.00\n",
       "aud*             NaN      NaN 0.00\n",
       "distractors*     NaN      NaN 0.00\n",
       "ADOS              NA       NA   NA\n",
       "------------------------------------------------------------ \n",
       "group: 1\n",
       "               vars  n   mean    sd median trimmed   mad    min    max  range\n",
       "subjectNumber*    1 23  22.30 13.80  24.00   22.58 17.79   1.00  41.00  40.00\n",
       "diagnosis*        2 23   2.00  0.00   2.00    2.00  0.00   2.00   2.00   0.00\n",
       "age               3 23  32.04  8.12  29.00   31.58  8.90  21.00  49.00  28.00\n",
       "female*           4 23   1.09  0.29   1.00    1.00  0.00   1.00   2.00   1.00\n",
       "handedness        5 23  60.84 50.23  80.00   69.44 29.65 -70.00 100.00 170.00\n",
       "caffeine*         6 23   1.43  0.51   1.00    1.42  0.00   1.00   2.00   1.00\n",
       "meds*             7 23   1.57  0.51   2.00    1.58  0.00   1.00   2.00   1.00\n",
       "glasses*          8 23   1.52  0.51   2.00    1.53  0.00   1.00   2.00   1.00\n",
       "pupilContrast     9 23  81.30  8.29  80.00   80.53  7.41  70.00 110.00  40.00\n",
       "corneaContrast   10 23 250.43  1.44 250.00  250.00  0.00 250.00 255.00   5.00\n",
       "ADOSComm         11 23   3.78  1.44   4.00    3.63  1.48   2.00   8.00   6.00\n",
       "ADOSSoc          12 23   7.17  2.06   7.00    7.00  1.48   4.00  12.00   8.00\n",
       "ADOSSocComm      13 23  10.96  2.79  11.00   10.74  2.97   7.00  17.00  10.00\n",
       "ADOSBeh          14 23   1.70  1.64   2.00    1.53  1.48   0.00   6.00   6.00\n",
       "VIQ              15 23 112.57 12.63 115.00  112.47  8.90  91.00 141.00  50.00\n",
       "PIQ              16 23 110.70 17.61 119.00  111.21 20.76  81.00 134.00  53.00\n",
       "FIQ              17 23 113.83 15.02 113.00  114.63 19.27  86.00 134.00  48.00\n",
       "RatHit           18 22   0.98  0.32   0.95    0.96  0.32   0.42   1.74   1.32\n",
       "RatFA            19 21   0.82  0.36   0.80    0.81  0.39   0.25   1.49   1.23\n",
       "RatMiss          20 22   0.91  0.47   0.89    0.88  0.51   0.22   2.20   1.98\n",
       "baseline         21 22  77.54 12.41  81.11   77.61 16.39  54.47  96.62  42.15\n",
       "dprime           22 23   3.16  1.05   3.40    3.20  1.23   1.27   4.69   3.42\n",
       "criterion        23 23   0.91  0.44   0.88    0.88  0.31   0.26   2.24   1.98\n",
       "RT               24 23  -0.22  0.05  -0.23   -0.22  0.05  -0.32  -0.14   0.18\n",
       "peak             25 23   0.00  0.00   0.00    0.00  0.00   0.00   0.01   0.01\n",
       "hit*             26 23   2.00  0.00   2.00    2.00  0.00   2.00   2.00   0.00\n",
       "FA*              27 23   1.00  0.00   1.00    1.00  0.00   1.00   1.00   0.00\n",
       "miss*            28 23   1.00  0.00   1.00    1.00  0.00   1.00   1.00   0.00\n",
       "aud*             29 23   1.00  0.00   1.00    1.00  0.00   1.00   1.00   0.00\n",
       "distractors*     30 23   1.00  0.00   1.00    1.00  0.00   1.00   1.00   0.00\n",
       "ADOS             31 23  12.65  3.30  13.00   12.42  2.97   8.00  19.00  11.00\n",
       "                skew kurtosis    se\n",
       "subjectNumber* -0.19    -1.49  2.88\n",
       "diagnosis*       NaN      NaN  0.00\n",
       "age             0.51    -1.03  1.69\n",
       "female*         2.74     5.78  0.06\n",
       "handedness     -1.25     0.58 10.47\n",
       "caffeine*       0.25    -2.02  0.11\n",
       "meds*          -0.25    -2.02  0.11\n",
       "glasses*       -0.08    -2.08  0.11\n",
       "pupilContrast   1.66     3.77  1.73\n",
       "corneaContrast  2.74     5.78  0.30\n",
       "ADOSComm        0.88     0.98  0.30\n",
       "ADOSSoc         0.58    -0.43  0.43\n",
       "ADOSSocComm     0.58    -0.34  0.58\n",
       "ADOSBeh         0.83    -0.03  0.34\n",
       "VIQ            -0.01    -0.64  2.63\n",
       "PIQ            -0.28    -1.57  3.67\n",
       "FIQ            -0.24    -1.27  3.13\n",
       "RatHit          0.44    -0.28  0.07\n",
       "RatFA          -0.04    -1.07  0.08\n",
       "RatMiss         0.66     0.23  0.10\n",
       "baseline       -0.08    -1.35  2.65\n",
       "dprime         -0.37    -0.97  0.22\n",
       "criterion       0.95     1.55  0.09\n",
       "RT              0.03    -0.80  0.01\n",
       "peak            1.07     0.93  0.00\n",
       "hit*             NaN      NaN  0.00\n",
       "FA*              NaN      NaN  0.00\n",
       "miss*            NaN      NaN  0.00\n",
       "aud*             NaN      NaN  0.00\n",
       "distractors*     NaN      NaN  0.00\n",
       "ADOS            0.55    -0.86  0.69"
      ]
     },
     "metadata": {},
     "output_type": "display_data"
    }
   ],
   "source": [
    "#get summary statistics of participant info.\n",
    "\n",
    "describeBy(dataMeth, group = dataMeth$diagnosis)"
   ]
  },
  {
   "cell_type": "code",
   "execution_count": 6,
   "metadata": {},
   "outputs": [
    {
     "data": {
      "text/plain": [
       "\n",
       "Call:\n",
       "glm(formula = diagnosis ~ age + female + handedness, family = binomial, \n",
       "    data = dataMeth)\n",
       "\n",
       "Deviance Residuals: \n",
       "    Min       1Q   Median       3Q      Max  \n",
       "-1.6696  -1.0442  -0.9054   1.2098   1.4855  \n",
       "\n",
       "Coefficients:\n",
       "             Estimate Std. Error z value Pr(>|z|)\n",
       "(Intercept) -2.172206   1.365181  -1.591    0.112\n",
       "age          0.068647   0.042135   1.629    0.103\n",
       "female1      0.051023   1.066384   0.048    0.962\n",
       "handedness   0.001010   0.006483   0.156    0.876\n",
       "\n",
       "(Dispersion parameter for binomial family taken to be 1)\n",
       "\n",
       "    Null deviance: 65.135  on 46  degrees of freedom\n",
       "Residual deviance: 62.236  on 43  degrees of freedom\n",
       "AIC: 70.236\n",
       "\n",
       "Number of Fisher Scoring iterations: 4\n"
      ]
     },
     "metadata": {},
     "output_type": "display_data"
    }
   ],
   "source": [
    "#run logistic regression on general participant info.\n",
    "\n",
    "glm.fit = glm(diagnosis ~ age + female + handedness, data = dataMeth, family = binomial)\n",
    "summary(glm.fit)\n",
    "# cohen.d(dataMeth$age,dataMeth$diagnosis,pooled=TRUE,paired=FALSE,na.rm=TRUE)\n",
    "# cohen.d(dataMeth$female,dataMeth$diagnosis,pooled=TRUE,paired=FALSE,na.rm=TRUE)\n",
    "# cohen.d(dataMeth$handedness,dataMeth$diagnosis,pooled=TRUE,paired=FALSE,na.rm=TRUE)"
   ]
  },
  {
   "cell_type": "code",
   "execution_count": 7,
   "metadata": {},
   "outputs": [
    {
     "data": {
      "text/plain": [
       "\n",
       "Call:\n",
       "glm(formula = diagnosis ~ caffeine + glasses + meds, family = binomial, \n",
       "    data = dataMeth)\n",
       "\n",
       "Deviance Residuals: \n",
       "    Min       1Q   Median       3Q      Max  \n",
       "-2.1294  -0.8264  -0.6275   0.4677   1.8558  \n",
       "\n",
       "Coefficients:\n",
       "            Estimate Std. Error z value Pr(>|z|)   \n",
       "(Intercept)  -0.4548     0.5794  -0.785  0.43246   \n",
       "caffeine1    -1.0703     0.7801  -1.372  0.17007   \n",
       "glasses1      0.1168     0.7357   0.159  0.87392   \n",
       "meds1         3.6828     1.1675   3.155  0.00161 **\n",
       "---\n",
       "Signif. codes:  0 ‘***’ 0.001 ‘**’ 0.01 ‘*’ 0.05 ‘.’ 0.1 ‘ ’ 1\n",
       "\n",
       "(Dispersion parameter for binomial family taken to be 1)\n",
       "\n",
       "    Null deviance: 65.135  on 46  degrees of freedom\n",
       "Residual deviance: 45.600  on 43  degrees of freedom\n",
       "AIC: 53.6\n",
       "\n",
       "Number of Fisher Scoring iterations: 5\n"
      ]
     },
     "metadata": {},
     "output_type": "display_data"
    }
   ],
   "source": [
    "#run logistic regression on variables that could affect pupil size\n",
    "\n",
    "glm.fit = glm(diagnosis ~ caffeine + glasses + meds, data = dataMeth, family = binomial)\n",
    "summary(glm.fit)"
   ]
  },
  {
   "cell_type": "code",
   "execution_count": 8,
   "metadata": {},
   "outputs": [
    {
     "data": {
      "text/plain": [
       "\n",
       "Call:\n",
       "glm(formula = diagnosis ~ pupilContrast + corneaContrast, family = binomial, \n",
       "    data = dataMeth)\n",
       "\n",
       "Deviance Residuals: \n",
       "    Min       1Q   Median       3Q      Max  \n",
       "-1.6424  -1.1389  -0.6301   1.2164   1.4679  \n",
       "\n",
       "Coefficients:\n",
       "                 Estimate Std. Error z value Pr(>|z|)\n",
       "(Intercept)    -8.375e+02  8.484e+04  -0.010    0.992\n",
       "pupilContrast   5.698e-02  3.868e-02   1.473    0.141\n",
       "corneaContrast  3.331e+00  3.393e+02   0.010    0.992\n",
       "\n",
       "(Dispersion parameter for binomial family taken to be 1)\n",
       "\n",
       "    Null deviance: 65.135  on 46  degrees of freedom\n",
       "Residual deviance: 59.673  on 44  degrees of freedom\n",
       "AIC: 65.673\n",
       "\n",
       "Number of Fisher Scoring iterations: 15\n"
      ]
     },
     "metadata": {},
     "output_type": "display_data"
    }
   ],
   "source": [
    "#run logistic rregression on eye-tracker settings\n",
    "\n",
    "glm.fit = glm(diagnosis ~ pupilContrast + corneaContrast, data = dataMeth, family = binomial)\n",
    "summary(glm.fit)"
   ]
  },
  {
   "cell_type": "markdown",
   "metadata": {},
   "source": [
    "# BEHAVIOURAL DATA ANALYSIS"
   ]
  },
  {
   "cell_type": "code",
   "execution_count": 9,
   "metadata": {},
   "outputs": [],
   "source": [
    "#get subset of data such that behavioural measures per participant are observed only once per condition\n",
    "\n",
    "dataBeh = peakPupil %>%\n",
    "subset(hit == 1 & FA == 0 & miss == 0 & aud == 0)\n",
    "\n",
    "dataAutBeh = dataAut %>%\n",
    "subset(hit == 1 & FA == 0 & miss == 0 & aud == 0)"
   ]
  },
  {
   "cell_type": "markdown",
   "metadata": {},
   "source": [
    "## d'"
   ]
  },
  {
   "cell_type": "code",
   "execution_count": 10,
   "metadata": {},
   "outputs": [
    {
     "data": {
      "text/plain": [
       "Linear mixed model fit by REML. t-tests use Satterthwaite's method [\n",
       "lmerModLmerTest]\n",
       "Formula: dprime ~ diagnosis * distractors + (1 | subjectNumber)\n",
       "   Data: dataBeh\n",
       "\n",
       "REML criterion at convergence: 193.4\n",
       "\n",
       "Scaled residuals: \n",
       "     Min       1Q   Median       3Q      Max \n",
       "-2.14796 -0.37964  0.01247  0.41270  2.25185 \n",
       "\n",
       "Random effects:\n",
       " Groups        Name        Variance Std.Dev.\n",
       " subjectNumber (Intercept) 0.5303   0.7282  \n",
       " Residual                  0.1617   0.4021  \n",
       "Number of obs: 93, groups:  subjectNumber, 47\n",
       "\n",
       "Fixed effects:\n",
       "                        Estimate Std. Error       df t value Pr(>|t|)    \n",
       "(Intercept)              3.54566    0.16980 55.59260  20.881   <2e-16 ***\n",
       "diagnosis1              -0.38152    0.24273 55.59260  -1.572    0.122    \n",
       "distractors1             0.07513    0.11608 43.10286   0.647    0.521    \n",
       "diagnosis1:distractors1 -0.01764    0.16764 43.31027  -0.105    0.917    \n",
       "---\n",
       "Signif. codes:  0 ‘***’ 0.001 ‘**’ 0.01 ‘*’ 0.05 ‘.’ 0.1 ‘ ’ 1\n",
       "\n",
       "Correlation of Fixed Effects:\n",
       "            (Intr) dgnss1 dstrc1\n",
       "diagnosis1  -0.700              \n",
       "distractrs1 -0.342  0.239       \n",
       "dgnss1:dst1  0.237 -0.338 -0.692"
      ]
     },
     "metadata": {},
     "output_type": "display_data"
    },
    {
     "data": {
      "text/html": [
       "<table>\n",
       "<thead><tr><th></th><th scope=col>t</th><th scope=col>df</th><th scope=col>d</th></tr></thead>\n",
       "<tbody>\n",
       "\t<tr><th scope=row>diagnosis1</th><td>-1.5717749 </td><td>55.59260   </td><td>-0.42161090</td></tr>\n",
       "\t<tr><th scope=row>distractors1</th><td> 0.6472398 </td><td>43.10286   </td><td> 0.19717061</td></tr>\n",
       "\t<tr><th scope=row>diagnosis1:distractors1</th><td>-0.1052560 </td><td>43.31027   </td><td>-0.03198758</td></tr>\n",
       "</tbody>\n",
       "</table>\n"
      ],
      "text/latex": [
       "\\begin{tabular}{r|lll}\n",
       "  & t & df & d\\\\\n",
       "\\hline\n",
       "\tdiagnosis1 & -1.5717749  & 55.59260    & -0.42161090\\\\\n",
       "\tdistractors1 &  0.6472398  & 43.10286    &  0.19717061\\\\\n",
       "\tdiagnosis1:distractors1 & -0.1052560  & 43.31027    & -0.03198758\\\\\n",
       "\\end{tabular}\n"
      ],
      "text/markdown": [
       "\n",
       "| <!--/--> | t | df | d |\n",
       "|---|---|---|---|\n",
       "| diagnosis1 | -1.5717749  | 55.59260    | -0.42161090 |\n",
       "| distractors1 |  0.6472398  | 43.10286    |  0.19717061 |\n",
       "| diagnosis1:distractors1 | -0.1052560  | 43.31027    | -0.03198758 |\n",
       "\n"
      ],
      "text/plain": [
       "                        t          df       d          \n",
       "diagnosis1              -1.5717749 55.59260 -0.42161090\n",
       "distractors1             0.6472398 43.10286  0.19717061\n",
       "diagnosis1:distractors1 -0.1052560 43.31027 -0.03198758"
      ]
     },
     "metadata": {},
     "output_type": "display_data"
    }
   ],
   "source": [
    "#see effect of group and condition\n",
    "\n",
    "con.fit = lmer(dprime ~ diagnosis*distractors + (1 | subjectNumber), data = dataBeh)\n",
    "summary(con.fit)\n",
    "lme.dscore(con.fit,dataBeh,\"lme4\")"
   ]
  },
  {
   "cell_type": "code",
   "execution_count": 11,
   "metadata": {
    "scrolled": true
   },
   "outputs": [
    {
     "data": {
      "text/html": [
       "3057.15279075079"
      ],
      "text/latex": [
       "3057.15279075079"
      ],
      "text/markdown": [
       "3057.15279075079"
      ],
      "text/plain": [
       "[1] 3057.153"
      ]
     },
     "metadata": {},
     "output_type": "display_data"
    }
   ],
   "source": [
    "#compute Bayes factor for effect of group and condition\n",
    "\n",
    "con.fit = lmer(dprime ~ diagnosis*distractors + (1 | subjectNumber), data = dataBeh)\n",
    "no.fit = lmer(dprime ~ (1 | subjectNumber), data = dataBeh)\n",
    "exp((BIC(con.fit)-BIC(no.fit))/2)"
   ]
  },
  {
   "cell_type": "code",
   "execution_count": 12,
   "metadata": {},
   "outputs": [
    {
     "data": {
      "text/plain": [
       "Linear mixed model fit by REML. t-tests use Satterthwaite's method [\n",
       "lmerModLmerTest]\n",
       "Formula: dprime ~ meds * distractors + (1 | subjectNumber)\n",
       "   Data: dataAutBeh\n",
       "\n",
       "REML criterion at convergence: 105.4\n",
       "\n",
       "Scaled residuals: \n",
       "     Min       1Q   Median       3Q      Max \n",
       "-2.06500 -0.39536 -0.05979  0.35795  2.11253 \n",
       "\n",
       "Random effects:\n",
       " Groups        Name        Variance Std.Dev.\n",
       " subjectNumber (Intercept) 0.7616   0.8727  \n",
       " Residual                  0.2063   0.4542  \n",
       "Number of obs: 45, groups:  subjectNumber, 23\n",
       "\n",
       "Fixed effects:\n",
       "                   Estimate Std. Error      df t value Pr(>|t|)    \n",
       "(Intercept)          2.9932     0.3111 25.0477   9.621 6.82e-10 ***\n",
       "meds1                0.3024     0.4138 25.0477   0.731    0.472    \n",
       "distractors1         0.2102     0.2031 19.3159   1.035    0.314    \n",
       "meds1:distractors1  -0.2808     0.2745 19.4503  -1.023    0.319    \n",
       "---\n",
       "Signif. codes:  0 ‘***’ 0.001 ‘**’ 0.01 ‘*’ 0.05 ‘.’ 0.1 ‘ ’ 1\n",
       "\n",
       "Correlation of Fixed Effects:\n",
       "            (Intr) meds1  dstrc1\n",
       "meds1       -0.752              \n",
       "distractrs1 -0.326  0.245       \n",
       "mds1:dstrc1  0.242 -0.321 -0.740"
      ]
     },
     "metadata": {},
     "output_type": "display_data"
    },
    {
     "data": {
      "text/html": [
       "<table>\n",
       "<thead><tr><th></th><th scope=col>t</th><th scope=col>df</th><th scope=col>d</th></tr></thead>\n",
       "<tbody>\n",
       "\t<tr><th scope=row>meds1</th><td> 0.7307211</td><td>25.04770  </td><td> 0.2920100</td></tr>\n",
       "\t<tr><th scope=row>distractors1</th><td> 1.0347903</td><td>19.31587  </td><td> 0.4708962</td></tr>\n",
       "\t<tr><th scope=row>meds1:distractors1</th><td>-1.0229672</td><td>19.45034  </td><td>-0.4639040</td></tr>\n",
       "</tbody>\n",
       "</table>\n"
      ],
      "text/latex": [
       "\\begin{tabular}{r|lll}\n",
       "  & t & df & d\\\\\n",
       "\\hline\n",
       "\tmeds1 &  0.7307211 & 25.04770   &  0.2920100\\\\\n",
       "\tdistractors1 &  1.0347903 & 19.31587   &  0.4708962\\\\\n",
       "\tmeds1:distractors1 & -1.0229672 & 19.45034   & -0.4639040\\\\\n",
       "\\end{tabular}\n"
      ],
      "text/markdown": [
       "\n",
       "| <!--/--> | t | df | d |\n",
       "|---|---|---|---|\n",
       "| meds1 |  0.7307211 | 25.04770   |  0.2920100 |\n",
       "| distractors1 |  1.0347903 | 19.31587   |  0.4708962 |\n",
       "| meds1:distractors1 | -1.0229672 | 19.45034   | -0.4639040 |\n",
       "\n"
      ],
      "text/plain": [
       "                   t          df       d         \n",
       "meds1               0.7307211 25.04770  0.2920100\n",
       "distractors1        1.0347903 19.31587  0.4708962\n",
       "meds1:distractors1 -1.0229672 19.45034 -0.4639040"
      ]
     },
     "metadata": {},
     "output_type": "display_data"
    }
   ],
   "source": [
    "#check to see if meds affect results\n",
    "\n",
    "con.fit = lmer(dprime ~ meds*distractors + (1 | subjectNumber), data = dataAutBeh)\n",
    "summary(con.fit)\n",
    "lme.dscore(con.fit,dataAutBeh,\"lme4\")"
   ]
  },
  {
   "cell_type": "code",
   "execution_count": 13,
   "metadata": {},
   "outputs": [
    {
     "data": {
      "text/html": [
       "659.941266337173"
      ],
      "text/latex": [
       "659.941266337173"
      ],
      "text/markdown": [
       "659.941266337173"
      ],
      "text/plain": [
       "[1] 659.9413"
      ]
     },
     "metadata": {},
     "output_type": "display_data"
    }
   ],
   "source": [
    "#compute Bayes factor for effect of meds\n",
    "\n",
    "con.fit = lmer(dprime ~ meds*distractors + (1 | subjectNumber), data = dataAutBeh)\n",
    "no.fit = lmer(dprime ~ (1 | subjectNumber), data = dataAutBeh)\n",
    "exp((BIC(con.fit)-BIC(no.fit))/2)"
   ]
  },
  {
   "cell_type": "code",
   "execution_count": 14,
   "metadata": {},
   "outputs": [
    {
     "name": "stderr",
     "output_type": "stream",
     "text": [
      "Scale for 'colour' is already present. Adding another scale for 'colour',\n",
      "which will replace the existing scale.\n"
     ]
    },
    {
     "data": {
      "image/png": "[encoded data removed]",
      "text/plain": [
       "plot without title"
      ]
     },
     "metadata": {},
     "output_type": "display_data"
    }
   ],
   "source": [
    "#plot data\n",
    "\n",
    "ggplot(data = dataBeh) +\n",
    "geom_point(mapping = aes(x = distractors, y = dprime)) +\n",
    "aes(x = distractors, color = diagnosis, group = diagnosis, y = dprime) + \n",
    "stat_summary(fun.y = mean, geom = \"line\", size = 1) + \n",
    "stat_summary(fun.data = mean_se, geom = \"errorbar\", width = 0.2, size = 1) + \n",
    "scale_x_discrete(breaks = c(\"0\",\"1\"), labels = c(\"ABSENCE of Distractors\",\"PRESENCE of Distractors\")) +\n",
    "scale_color_discrete(breaks = c(\"1\",\"0\"), labels = c(\"Autism\",\"Control\")) +\n",
    "scale_color_manual(breaks = c(\"1\",\"0\"), labels = c(\"Autism\", \"Control\"), values=c(\"blue\", \"red\")) +\n",
    "scale_y_continuous(breaks = 0:5,limits = c(0,5.5)) +\n",
    "ylab(\"d'\") +\n",
    "xlab(\"Condition\") +\n",
    "theme_classic() +\n",
    "theme(legend.position=c(0.9,0.1)) +\n",
    "theme(legend.title=element_blank()) +\n",
    "theme(axis.text=element_text(size=14)) +\n",
    "theme(axis.title=element_text(size=14)) +\n",
    "theme(legend.text=element_text(size=14))"
   ]
  },
  {
   "cell_type": "markdown",
   "metadata": {},
   "source": [
    "## CRITERION"
   ]
  },
  {
   "cell_type": "code",
   "execution_count": 15,
   "metadata": {},
   "outputs": [
    {
     "data": {
      "text/plain": [
       "Linear mixed model fit by REML. t-tests use Satterthwaite's method [\n",
       "lmerModLmerTest]\n",
       "Formula: criterion ~ diagnosis * distractors + (1 | subjectNumber)\n",
       "   Data: dataBeh\n",
       "\n",
       "REML criterion at convergence: 62.8\n",
       "\n",
       "Scaled residuals: \n",
       "    Min      1Q  Median      3Q     Max \n",
       "-1.6053 -0.3799 -0.0607  0.3420  3.3290 \n",
       "\n",
       "Random effects:\n",
       " Groups        Name        Variance Std.Dev.\n",
       " subjectNumber (Intercept) 0.07493  0.2737  \n",
       " Residual                  0.05215  0.2284  \n",
       "Number of obs: 93, groups:  subjectNumber, 47\n",
       "\n",
       "Fixed effects:\n",
       "                        Estimate Std. Error       df t value Pr(>|t|)    \n",
       "(Intercept)              0.80481    0.07277 66.33474  11.060   <2e-16 ***\n",
       "diagnosis1               0.10820    0.10402 66.33474   1.040   0.3020    \n",
       "distractors1             0.12410    0.06592 44.09040   1.882   0.0664 .  \n",
       "diagnosis1:distractors1 -0.07350    0.09510 44.42022  -0.773   0.4437    \n",
       "---\n",
       "Signif. codes:  0 ‘***’ 0.001 ‘**’ 0.01 ‘*’ 0.05 ‘.’ 0.1 ‘ ’ 1\n",
       "\n",
       "Correlation of Fixed Effects:\n",
       "            (Intr) dgnss1 dstrc1\n",
       "diagnosis1  -0.700              \n",
       "distractrs1 -0.453  0.317       \n",
       "dgnss1:dst1  0.314 -0.449 -0.693"
      ]
     },
     "metadata": {},
     "output_type": "display_data"
    },
    {
     "data": {
      "text/html": [
       "<table>\n",
       "<thead><tr><th></th><th scope=col>t</th><th scope=col>df</th><th scope=col>d</th></tr></thead>\n",
       "<tbody>\n",
       "\t<tr><th scope=row>diagnosis1</th><td> 1.0401803</td><td>66.33474  </td><td> 0.2554278</td></tr>\n",
       "\t<tr><th scope=row>distractors1</th><td> 1.8824674</td><td>44.09040  </td><td> 0.5670031</td></tr>\n",
       "\t<tr><th scope=row>diagnosis1:distractors1</th><td>-0.7728693</td><td>44.42022  </td><td>-0.2319240</td></tr>\n",
       "</tbody>\n",
       "</table>\n"
      ],
      "text/latex": [
       "\\begin{tabular}{r|lll}\n",
       "  & t & df & d\\\\\n",
       "\\hline\n",
       "\tdiagnosis1 &  1.0401803 & 66.33474   &  0.2554278\\\\\n",
       "\tdistractors1 &  1.8824674 & 44.09040   &  0.5670031\\\\\n",
       "\tdiagnosis1:distractors1 & -0.7728693 & 44.42022   & -0.2319240\\\\\n",
       "\\end{tabular}\n"
      ],
      "text/markdown": [
       "\n",
       "| <!--/--> | t | df | d |\n",
       "|---|---|---|---|\n",
       "| diagnosis1 |  1.0401803 | 66.33474   |  0.2554278 |\n",
       "| distractors1 |  1.8824674 | 44.09040   |  0.5670031 |\n",
       "| diagnosis1:distractors1 | -0.7728693 | 44.42022   | -0.2319240 |\n",
       "\n"
      ],
      "text/plain": [
       "                        t          df       d         \n",
       "diagnosis1               1.0401803 66.33474  0.2554278\n",
       "distractors1             1.8824674 44.09040  0.5670031\n",
       "diagnosis1:distractors1 -0.7728693 44.42022 -0.2319240"
      ]
     },
     "metadata": {},
     "output_type": "display_data"
    }
   ],
   "source": [
    "#see effect of group and condition\n",
    "\n",
    "con.fit = lmer(criterion ~ diagnosis*distractors + (1 | subjectNumber), data = dataBeh)\n",
    "summary(con.fit)\n",
    "lme.dscore(con.fit,dataBeh,\"lme4\")"
   ]
  },
  {
   "cell_type": "code",
   "execution_count": 16,
   "metadata": {},
   "outputs": [
    {
     "data": {
      "text/html": [
       "13530.8639086223"
      ],
      "text/latex": [
       "13530.8639086223"
      ],
      "text/markdown": [
       "13530.8639086223"
      ],
      "text/plain": [
       "[1] 13530.86"
      ]
     },
     "metadata": {},
     "output_type": "display_data"
    }
   ],
   "source": [
    "#compute Bayes factor for effect of group and condition\n",
    "\n",
    "con.fit = lmer(criterion ~ diagnosis*distractors + (1 | subjectNumber), data = dataBeh)\n",
    "no.fit = lmer(criterion ~ (1 | subjectNumber), data = dataBeh)\n",
    "exp((BIC(con.fit)-BIC(no.fit))/2)"
   ]
  },
  {
   "cell_type": "code",
   "execution_count": 17,
   "metadata": {},
   "outputs": [
    {
     "data": {
      "text/plain": [
       "Linear mixed model fit by REML. t-tests use Satterthwaite's method [\n",
       "lmerModLmerTest]\n",
       "Formula: criterion ~ meds * distractors + (1 | subjectNumber)\n",
       "   Data: dataAutBeh\n",
       "\n",
       "REML criterion at convergence: 41.7\n",
       "\n",
       "Scaled residuals: \n",
       "     Min       1Q   Median       3Q      Max \n",
       "-1.33714 -0.41040 -0.06132  0.46298  2.84048 \n",
       "\n",
       "Random effects:\n",
       " Groups        Name        Variance Std.Dev.\n",
       " subjectNumber (Intercept) 0.09981  0.3159  \n",
       " Residual                  0.06194  0.2489  \n",
       "Number of obs: 45, groups:  subjectNumber, 23\n",
       "\n",
       "Fixed effects:\n",
       "                   Estimate Std. Error       df t value Pr(>|t|)    \n",
       "(Intercept)         0.92901    0.12718 30.03145   7.305 3.88e-08 ***\n",
       "meds1              -0.02830    0.16916 30.03145  -0.167    0.868    \n",
       "distractors1       -0.03651    0.11130 20.11473  -0.328    0.746    \n",
       "meds1:distractors1  0.16004    0.15019 20.33599   1.066    0.299    \n",
       "---\n",
       "Signif. codes:  0 ‘***’ 0.001 ‘**’ 0.01 ‘*’ 0.05 ‘.’ 0.1 ‘ ’ 1\n",
       "\n",
       "Correlation of Fixed Effects:\n",
       "            (Intr) meds1  dstrc1\n",
       "meds1       -0.752              \n",
       "distractrs1 -0.438  0.329       \n",
       "mds1:dstrc1  0.324 -0.431 -0.741"
      ]
     },
     "metadata": {},
     "output_type": "display_data"
    },
    {
     "data": {
      "text/html": [
       "<table>\n",
       "<thead><tr><th></th><th scope=col>t</th><th scope=col>df</th><th scope=col>d</th></tr></thead>\n",
       "<tbody>\n",
       "\t<tr><th scope=row>meds1</th><td>-0.1673112 </td><td>30.03145   </td><td>-0.06106143</td></tr>\n",
       "\t<tr><th scope=row>distractors1</th><td>-0.3280404 </td><td>20.11473   </td><td>-0.14628514</td></tr>\n",
       "\t<tr><th scope=row>meds1:distractors1</th><td> 1.0655442 </td><td>20.33599   </td><td> 0.47257289</td></tr>\n",
       "</tbody>\n",
       "</table>\n"
      ],
      "text/latex": [
       "\\begin{tabular}{r|lll}\n",
       "  & t & df & d\\\\\n",
       "\\hline\n",
       "\tmeds1 & -0.1673112  & 30.03145    & -0.06106143\\\\\n",
       "\tdistractors1 & -0.3280404  & 20.11473    & -0.14628514\\\\\n",
       "\tmeds1:distractors1 &  1.0655442  & 20.33599    &  0.47257289\\\\\n",
       "\\end{tabular}\n"
      ],
      "text/markdown": [
       "\n",
       "| <!--/--> | t | df | d |\n",
       "|---|---|---|---|\n",
       "| meds1 | -0.1673112  | 30.03145    | -0.06106143 |\n",
       "| distractors1 | -0.3280404  | 20.11473    | -0.14628514 |\n",
       "| meds1:distractors1 |  1.0655442  | 20.33599    |  0.47257289 |\n",
       "\n"
      ],
      "text/plain": [
       "                   t          df       d          \n",
       "meds1              -0.1673112 30.03145 -0.06106143\n",
       "distractors1       -0.3280404 20.11473 -0.14628514\n",
       "meds1:distractors1  1.0655442 20.33599  0.47257289"
      ]
     },
     "metadata": {},
     "output_type": "display_data"
    }
   ],
   "source": [
    "#check to see if meds affect results\n",
    "\n",
    "con.fit = lmer(criterion ~ meds*distractors + (1 | subjectNumber), data = dataAutBeh)\n",
    "summary(con.fit)\n",
    "lme.dscore(con.fit,dataAutBeh,\"lme4\")"
   ]
  },
  {
   "cell_type": "code",
   "execution_count": 18,
   "metadata": {},
   "outputs": [
    {
     "data": {
      "text/html": [
       "4840.85619710813"
      ],
      "text/latex": [
       "4840.85619710813"
      ],
      "text/markdown": [
       "4840.85619710813"
      ],
      "text/plain": [
       "[1] 4840.856"
      ]
     },
     "metadata": {},
     "output_type": "display_data"
    }
   ],
   "source": [
    "#compute Bayes factor for effect of meds\n",
    "\n",
    "con.fit = lmer(criterion ~ meds*distractors + (1 | subjectNumber), data = dataAutBeh)\n",
    "no.fit = lmer(criterion ~ (1 | subjectNumber), data = dataAutBeh)\n",
    "exp((BIC(con.fit)-BIC(no.fit))/2)"
   ]
  },
  {
   "cell_type": "code",
   "execution_count": 19,
   "metadata": {},
   "outputs": [
    {
     "name": "stderr",
     "output_type": "stream",
     "text": [
      "Scale for 'colour' is already present. Adding another scale for 'colour',\n",
      "which will replace the existing scale.\n"
     ]
    },
    {
     "data": {
      "image/png": "[encoded data removed]",
      "text/plain": [
       "plot without title"
      ]
     },
     "metadata": {},
     "output_type": "display_data"
    }
   ],
   "source": [
    "#plot data\n",
    "\n",
    "ggplot(data = dataBeh) +\n",
    "geom_point(mapping = aes(x = distractors, y = criterion)) +\n",
    "aes(x = distractors, color = diagnosis, group = diagnosis, y = criterion) + \n",
    "stat_summary(fun.y = mean, geom = \"line\", size = 1) + \n",
    "stat_summary(fun.data = mean_se, geom = \"errorbar\", width = 0.2, size = 1) + \n",
    "scale_x_discrete(breaks = c(\"0\",\"1\"), labels = c(\"ABSENCE of Distractors\",\"PRESENCE of Distractors\")) +\n",
    "scale_color_discrete(breaks = c(\"1\",\"0\"), labels = c(\"Autism\",\"Control\")) +\n",
    "scale_color_manual(breaks = c(\"1\",\"0\"), labels = c(\"Autism\", \"Control\"), values=c(\"blue\", \"red\")) +\n",
    "scale_y_continuous(breaks = 0:2,limits = c(0,2.5)) +\n",
    "ylab(\"C\") +\n",
    "xlab(\"Condition\") +\n",
    "theme_classic() +\n",
    "theme(legend.position=c(0.9,0.1)) +\n",
    "theme(legend.title=element_blank()) +\n",
    "theme(axis.text=element_text(size=14)) +\n",
    "theme(axis.title=element_text(size=14)) +\n",
    "theme(legend.text=element_text(size=14))"
   ]
  },
  {
   "cell_type": "markdown",
   "metadata": {},
   "source": [
    "## RT (log-transformed)"
   ]
  },
  {
   "cell_type": "code",
   "execution_count": 20,
   "metadata": {
    "scrolled": false
   },
   "outputs": [
    {
     "data": {
      "text/plain": [
       "Linear mixed model fit by REML. t-tests use Satterthwaite's method [\n",
       "lmerModLmerTest]\n",
       "Formula: RT ~ diagnosis * distractors + (1 | subjectNumber)\n",
       "   Data: dataBeh\n",
       "\n",
       "REML criterion at convergence: -355.9\n",
       "\n",
       "Scaled residuals: \n",
       "    Min      1Q  Median      3Q     Max \n",
       "-1.9623 -0.5467  0.0027  0.4221  2.1598 \n",
       "\n",
       "Random effects:\n",
       " Groups        Name        Variance  Std.Dev.\n",
       " subjectNumber (Intercept) 0.0016442 0.04055 \n",
       " Residual                  0.0002424 0.01557 \n",
       "Number of obs: 93, groups:  subjectNumber, 47\n",
       "\n",
       "Fixed effects:\n",
       "                         Estimate Std. Error        df t value Pr(>|t|)    \n",
       "(Intercept)             -0.198889   0.008866 51.123779 -22.433   <2e-16 ***\n",
       "diagnosis1              -0.019322   0.012674 51.123779  -1.524    0.134    \n",
       "distractors1             0.002014   0.004494 44.117103   0.448    0.656    \n",
       "diagnosis1:distractors1 -0.002019   0.006494 44.237626  -0.311    0.757    \n",
       "---\n",
       "Signif. codes:  0 ‘***’ 0.001 ‘**’ 0.01 ‘*’ 0.05 ‘.’ 0.1 ‘ ’ 1\n",
       "\n",
       "Correlation of Fixed Effects:\n",
       "            (Intr) dgnss1 dstrc1\n",
       "diagnosis1  -0.700              \n",
       "distractrs1 -0.253  0.177       \n",
       "dgnss1:dst1  0.175 -0.251 -0.692"
      ]
     },
     "metadata": {},
     "output_type": "display_data"
    },
    {
     "data": {
      "text/html": [
       "<table>\n",
       "<thead><tr><th></th><th scope=col>t</th><th scope=col>df</th><th scope=col>d</th></tr></thead>\n",
       "<tbody>\n",
       "\t<tr><th scope=row>diagnosis1</th><td>-1.5244910 </td><td>51.12378   </td><td>-0.42642570</td></tr>\n",
       "\t<tr><th scope=row>distractors1</th><td> 0.4482022 </td><td>44.11710   </td><td> 0.13495856</td></tr>\n",
       "\t<tr><th scope=row>diagnosis1:distractors1</th><td>-0.3109092 </td><td>44.23763   </td><td>-0.09349053</td></tr>\n",
       "</tbody>\n",
       "</table>\n"
      ],
      "text/latex": [
       "\\begin{tabular}{r|lll}\n",
       "  & t & df & d\\\\\n",
       "\\hline\n",
       "\tdiagnosis1 & -1.5244910  & 51.12378    & -0.42642570\\\\\n",
       "\tdistractors1 &  0.4482022  & 44.11710    &  0.13495856\\\\\n",
       "\tdiagnosis1:distractors1 & -0.3109092  & 44.23763    & -0.09349053\\\\\n",
       "\\end{tabular}\n"
      ],
      "text/markdown": [
       "\n",
       "| <!--/--> | t | df | d |\n",
       "|---|---|---|---|\n",
       "| diagnosis1 | -1.5244910  | 51.12378    | -0.42642570 |\n",
       "| distractors1 |  0.4482022  | 44.11710    |  0.13495856 |\n",
       "| diagnosis1:distractors1 | -0.3109092  | 44.23763    | -0.09349053 |\n",
       "\n"
      ],
      "text/plain": [
       "                        t          df       d          \n",
       "diagnosis1              -1.5244910 51.12378 -0.42642570\n",
       "distractors1             0.4482022 44.11710  0.13495856\n",
       "diagnosis1:distractors1 -0.3109092 44.23763 -0.09349053"
      ]
     },
     "metadata": {},
     "output_type": "display_data"
    }
   ],
   "source": [
    "#see effect of group and condition\n",
    "\n",
    "con.fit = lmer(RT ~ diagnosis*distractors + (1 | subjectNumber), data = dataBeh)\n",
    "summary(con.fit)\n",
    "lme.dscore(con.fit,dataBeh,\"lme4\")"
   ]
  },
  {
   "cell_type": "code",
   "execution_count": 21,
   "metadata": {},
   "outputs": [
    {
     "data": {
      "text/html": [
       "52235196.2219674"
      ],
      "text/latex": [
       "52235196.2219674"
      ],
      "text/markdown": [
       "52235196.2219674"
      ],
      "text/plain": [
       "[1] 52235196"
      ]
     },
     "metadata": {},
     "output_type": "display_data"
    }
   ],
   "source": [
    "#compute Bayes factor for effect of group and condition\n",
    "\n",
    "con.fit = lmer(RT ~ diagnosis*distractors + (1 | subjectNumber), data = dataBeh)\n",
    "no.fit = lmer(RT ~ (1 | subjectNumber), data = dataBeh)\n",
    "exp((BIC(con.fit)-BIC(no.fit))/2)"
   ]
  },
  {
   "cell_type": "code",
   "execution_count": 22,
   "metadata": {},
   "outputs": [
    {
     "data": {
      "text/plain": [
       "Linear mixed model fit by REML. t-tests use Satterthwaite's method [\n",
       "lmerModLmerTest]\n",
       "Formula: RT ~ meds * distractors + (1 | subjectNumber)\n",
       "   Data: dataAutBeh\n",
       "\n",
       "REML criterion at convergence: -156.9\n",
       "\n",
       "Scaled residuals: \n",
       "     Min       1Q   Median       3Q      Max \n",
       "-1.81896 -0.39242  0.09953  0.37258  1.97569 \n",
       "\n",
       "Random effects:\n",
       " Groups        Name        Variance  Std.Dev.\n",
       " subjectNumber (Intercept) 0.0018852 0.04342 \n",
       " Residual                  0.0002436 0.01561 \n",
       "Number of obs: 45, groups:  subjectNumber, 23\n",
       "\n",
       "Fixed effects:\n",
       "                    Estimate Std. Error        df t value Pr(>|t|)    \n",
       "(Intercept)        -0.224342   0.014590 23.522851 -15.376 9.09e-14 ***\n",
       "meds1               0.010848   0.019407 23.522851   0.559    0.581    \n",
       "distractors1        0.006001   0.006980 20.109267   0.860    0.400    \n",
       "meds1:distractors1 -0.010954   0.009442 20.185238  -1.160    0.260    \n",
       "---\n",
       "Signif. codes:  0 ‘***’ 0.001 ‘**’ 0.01 ‘*’ 0.05 ‘.’ 0.1 ‘ ’ 1\n",
       "\n",
       "Correlation of Fixed Effects:\n",
       "            (Intr) meds1  dstrc1\n",
       "meds1       -0.752              \n",
       "distractrs1 -0.239  0.180       \n",
       "mds1:dstrc1  0.177 -0.235 -0.739"
      ]
     },
     "metadata": {},
     "output_type": "display_data"
    },
    {
     "data": {
      "text/html": [
       "<table>\n",
       "<thead><tr><th></th><th scope=col>t</th><th scope=col>df</th><th scope=col>d</th></tr></thead>\n",
       "<tbody>\n",
       "\t<tr><th scope=row>meds1</th><td> 0.5589795</td><td>23.52285  </td><td> 0.2305053</td></tr>\n",
       "\t<tr><th scope=row>distractors1</th><td> 0.8597240</td><td>20.10927  </td><td> 0.3834343</td></tr>\n",
       "\t<tr><th scope=row>meds1:distractors1</th><td>-1.1600972</td><td>20.18524  </td><td>-0.5164252</td></tr>\n",
       "</tbody>\n",
       "</table>\n"
      ],
      "text/latex": [
       "\\begin{tabular}{r|lll}\n",
       "  & t & df & d\\\\\n",
       "\\hline\n",
       "\tmeds1 &  0.5589795 & 23.52285   &  0.2305053\\\\\n",
       "\tdistractors1 &  0.8597240 & 20.10927   &  0.3834343\\\\\n",
       "\tmeds1:distractors1 & -1.1600972 & 20.18524   & -0.5164252\\\\\n",
       "\\end{tabular}\n"
      ],
      "text/markdown": [
       "\n",
       "| <!--/--> | t | df | d |\n",
       "|---|---|---|---|\n",
       "| meds1 |  0.5589795 | 23.52285   |  0.2305053 |\n",
       "| distractors1 |  0.8597240 | 20.10927   |  0.3834343 |\n",
       "| meds1:distractors1 | -1.1600972 | 20.18524   | -0.5164252 |\n",
       "\n"
      ],
      "text/plain": [
       "                   t          df       d         \n",
       "meds1               0.5589795 23.52285  0.2305053\n",
       "distractors1        0.8597240 20.10927  0.3834343\n",
       "meds1:distractors1 -1.1600972 20.18524 -0.5164252"
      ]
     },
     "metadata": {},
     "output_type": "display_data"
    }
   ],
   "source": [
    "#check to see if meds affect results\n",
    "\n",
    "con.fit = lmer(RT ~ meds*distractors + (1 | subjectNumber), data = dataAutBeh)\n",
    "summary(con.fit)\n",
    "lme.dscore(con.fit,dataAutBeh,\"lme4\")"
   ]
  },
  {
   "cell_type": "code",
   "execution_count": 23,
   "metadata": {},
   "outputs": [
    {
     "data": {
      "text/html": [
       "11351910.4266915"
      ],
      "text/latex": [
       "11351910.4266915"
      ],
      "text/markdown": [
       "11351910.4266915"
      ],
      "text/plain": [
       "[1] 11351910"
      ]
     },
     "metadata": {},
     "output_type": "display_data"
    }
   ],
   "source": [
    "#compute Bayes factor for effect of meds\n",
    "\n",
    "con.fit = lmer(RT ~ meds*distractors + (1 | subjectNumber), data = dataAutBeh)\n",
    "no.fit = lmer(RT ~ (1 | subjectNumber), data = dataAutBeh)\n",
    "exp((BIC(con.fit)-BIC(no.fit))/2)"
   ]
  },
  {
   "cell_type": "code",
   "execution_count": 24,
   "metadata": {
    "scrolled": false
   },
   "outputs": [
    {
     "name": "stderr",
     "output_type": "stream",
     "text": [
      "Scale for 'colour' is already present. Adding another scale for 'colour',\n",
      "which will replace the existing scale.\n"
     ]
    },
    {
     "data": {
      "image/png": "[encoded data removed]",
      "text/plain": [
       "plot without title"
      ]
     },
     "metadata": {},
     "output_type": "display_data"
    }
   ],
   "source": [
    "#plot data\n",
    "\n",
    "ggplot(data = dataBeh) +\n",
    "geom_point(mapping = aes(x = distractors, y = RT)) +\n",
    "aes(x = distractors, color = diagnosis, group = diagnosis, y = RT) + \n",
    "stat_summary(fun.y = mean, geom = \"line\", size = 1) + \n",
    "stat_summary(fun.data = mean_se, geom = \"errorbar\", width = 0.2, size = 1) + \n",
    "scale_x_discrete(breaks = c(\"0\",\"1\"), labels = c(\"ABSENCE of Distractors\",\"PRESENCE of Distractors\")) +\n",
    "scale_color_discrete(breaks = c(\"1\",\"0\"), labels = c(\"Autism\",\"Control\")) +\n",
    "scale_color_manual(breaks = c(\"1\",\"0\"), labels = c(\"Autism\", \"Control\"), values=c(\"blue\", \"red\")) +\n",
    "ylab(\"Mean RT (s)\") +\n",
    "xlab(\"Condition\") +\n",
    "theme_classic() +\n",
    "theme(legend.position=c(0.9,0.1)) +\n",
    "theme(legend.title=element_blank()) +\n",
    "theme(axis.text=element_text(size=14)) +\n",
    "theme(axis.title=element_text(size=14)) +\n",
    "theme(legend.text=element_text(size=14))"
   ]
  },
  {
   "cell_type": "markdown",
   "metadata": {},
   "source": [
    "# PUPILLOMETRY DATA ANALYSIS"
   ]
  },
  {
   "cell_type": "markdown",
   "metadata": {},
   "source": [
    "## BASELINE PUPIL SIZE"
   ]
  },
  {
   "cell_type": "code",
   "execution_count": 25,
   "metadata": {},
   "outputs": [],
   "source": [
    "#get subset of data for baseline pupil measurements only\n",
    "\n",
    "dataBase = peakPupil %>%\n",
    "subset(hit == 1 & FA == 0 & miss == 0 & aud == 0 & distractors == 0)\n",
    "\n",
    "dataAutBase = dataAut %>%\n",
    "subset(hit == 1 & FA == 0 & miss == 0 & aud == 0 & distractors == 0)"
   ]
  },
  {
   "cell_type": "code",
   "execution_count": 26,
   "metadata": {},
   "outputs": [
    {
     "data": {
      "text/plain": [
       "\n",
       "Call:\n",
       "lm(formula = baseline ~ diagnosis, data = dataBase)\n",
       "\n",
       "Residuals:\n",
       "    Min      1Q  Median      3Q     Max \n",
       "-31.756  -9.246  -1.175   6.321  43.346 \n",
       "\n",
       "Coefficients:\n",
       "            Estimate Std. Error t value Pr(>|t|)    \n",
       "(Intercept)  77.1579     2.9932  25.778   <2e-16 ***\n",
       "diagnosis1    0.3844     4.3281   0.089     0.93    \n",
       "---\n",
       "Signif. codes:  0 ‘***’ 0.001 ‘**’ 0.01 ‘*’ 0.05 ‘.’ 0.1 ‘ ’ 1\n",
       "\n",
       "Residual standard error: 14.66 on 44 degrees of freedom\n",
       "  (1 observation deleted due to missingness)\n",
       "Multiple R-squared:  0.0001792,\tAdjusted R-squared:  -0.02254 \n",
       "F-statistic: 0.007886 on 1 and 44 DF,  p-value: 0.9296\n"
      ]
     },
     "metadata": {},
     "output_type": "display_data"
    },
    {
     "data": {
      "text/plain": [
       "\n",
       "Cohen's d\n",
       "\n",
       "d estimate: -0.02621174 (negligible)\n",
       "95 percent confidence interval:\n",
       "     lower      upper \n",
       "-0.6210992  0.5686757 "
      ]
     },
     "metadata": {},
     "output_type": "display_data"
    }
   ],
   "source": [
    "#see effect of group\n",
    "\n",
    "con.fit = lm(baseline ~ diagnosis, data = dataBase)\n",
    "summary(con.fit)\n",
    "cohen.d(dataBase$baseline,dataBase$diagnosis,pooled=TRUE,paired=FALSE,na.rm=TRUE)"
   ]
  },
  {
   "cell_type": "code",
   "execution_count": 27,
   "metadata": {},
   "outputs": [
    {
     "data": {
      "text/html": [
       "6.75443100743593"
      ],
      "text/latex": [
       "6.75443100743593"
      ],
      "text/markdown": [
       "6.75443100743593"
      ],
      "text/plain": [
       "[1] 6.754431"
      ]
     },
     "metadata": {},
     "output_type": "display_data"
    }
   ],
   "source": [
    "#compute Bayes factor for effect of group\n",
    "\n",
    "con.fit = lm(baseline ~ diagnosis, data = dataBase)\n",
    "no.fit = lm(baseline ~ 1, data = dataBase)\n",
    "exp((BIC(con.fit)-BIC(no.fit))/2)"
   ]
  },
  {
   "cell_type": "code",
   "execution_count": 28,
   "metadata": {},
   "outputs": [
    {
     "data": {
      "text/plain": [
       "\n",
       "Call:\n",
       "lm(formula = baseline ~ meds, data = dataAutBase)\n",
       "\n",
       "Residuals:\n",
       "    Min      1Q  Median      3Q     Max \n",
       "-20.614 -11.240   1.516  10.882  20.852 \n",
       "\n",
       "Coefficients:\n",
       "            Estimate Std. Error t value Pr(>|t|)    \n",
       "(Intercept)   75.081      3.952  18.999 2.87e-14 ***\n",
       "meds1          4.513      5.351   0.843    0.409    \n",
       "---\n",
       "Signif. codes:  0 ‘***’ 0.001 ‘**’ 0.01 ‘*’ 0.05 ‘.’ 0.1 ‘ ’ 1\n",
       "\n",
       "Residual standard error: 12.5 on 20 degrees of freedom\n",
       "  (1 observation deleted due to missingness)\n",
       "Multiple R-squared:  0.03435,\tAdjusted R-squared:  -0.01394 \n",
       "F-statistic: 0.7114 on 1 and 20 DF,  p-value: 0.409\n"
      ]
     },
     "metadata": {},
     "output_type": "display_data"
    },
    {
     "data": {
      "text/plain": [
       "\n",
       "Cohen's d\n",
       "\n",
       "d estimate: -0.3611377 (small)\n",
       "95 percent confidence interval:\n",
       "     lower      upper \n",
       "-1.2614851  0.5392097 "
      ]
     },
     "metadata": {},
     "output_type": "display_data"
    }
   ],
   "source": [
    "#check to see if meds affect results\n",
    "\n",
    "con.fit = lm(baseline ~ meds, data = dataAutBase)\n",
    "summary(con.fit)\n",
    "cohen.d(dataAutBase$baseline,dataAutBase$meds,pooled=TRUE,paired=FALSE,na.rm=TRUE)"
   ]
  },
  {
   "cell_type": "code",
   "execution_count": 29,
   "metadata": {},
   "outputs": [
    {
     "data": {
      "text/html": [
       "3.19330880126244"
      ],
      "text/latex": [
       "3.19330880126244"
      ],
      "text/markdown": [
       "3.19330880126244"
      ],
      "text/plain": [
       "[1] 3.193309"
      ]
     },
     "metadata": {},
     "output_type": "display_data"
    }
   ],
   "source": [
    "#compute Bayes factor for effect of meds\n",
    "\n",
    "con.fit = lm(baseline ~ meds, data = dataAutBase)\n",
    "no.fit = lm(baseline ~ 1, data = dataAutBase)\n",
    "exp((BIC(con.fit)-BIC(no.fit))/2)"
   ]
  },
  {
   "cell_type": "code",
   "execution_count": 30,
   "metadata": {},
   "outputs": [
    {
     "data": {
      "text/plain": [
       "\n",
       "Call:\n",
       "lm(formula = baseline ~ age, data = dataBase)\n",
       "\n",
       "Residuals:\n",
       "    Min      1Q  Median      3Q     Max \n",
       "-23.540  -9.597  -0.530   6.587  40.213 \n",
       "\n",
       "Coefficients:\n",
       "            Estimate Std. Error t value Pr(>|t|)    \n",
       "(Intercept)  94.4842     8.4578   11.17 1.97e-14 ***\n",
       "age          -0.5677     0.2716   -2.09   0.0424 *  \n",
       "---\n",
       "Signif. codes:  0 ‘***’ 0.001 ‘**’ 0.01 ‘*’ 0.05 ‘.’ 0.1 ‘ ’ 1\n",
       "\n",
       "Residual standard error: 13.99 on 44 degrees of freedom\n",
       "  (1 observation deleted due to missingness)\n",
       "Multiple R-squared:  0.0903,\tAdjusted R-squared:  0.06963 \n",
       "F-statistic: 4.368 on 1 and 44 DF,  p-value: 0.04244\n"
      ]
     },
     "metadata": {},
     "output_type": "display_data"
    },
    {
     "data": {
      "text/plain": [
       "\n",
       "Cohen's d\n",
       "\n",
       "d estimate: 4.088228 (large)\n",
       "95 percent confidence interval:\n",
       "   lower    upper \n",
       "3.364157 4.812299 "
      ]
     },
     "metadata": {},
     "output_type": "display_data"
    }
   ],
   "source": [
    "#check to see if age affects results\n",
    "\n",
    "con.fit = lm(baseline ~ age, data = dataBase)\n",
    "summary(con.fit)\n",
    "cohen.d(dataBase$baseline,dataBase$age,pooled=TRUE,paired=FALSE,na.rm=TRUE)"
   ]
  },
  {
   "cell_type": "code",
   "execution_count": 31,
   "metadata": {},
   "outputs": [
    {
     "name": "stderr",
     "output_type": "stream",
     "text": [
      "Warning message:\n",
      "“Removed 1 rows containing non-finite values (stat_summary).”Warning message:\n",
      "“Removed 1 rows containing missing values (geom_point).”"
     ]
    },
    {
     "data": {
      "image/png": "[encoded data removed]",
      "text/plain": [
       "plot without title"
      ]
     },
     "metadata": {},
     "output_type": "display_data"
    }
   ],
   "source": [
    "#plot data\n",
    "\n",
    "ggplot(data = dataBase) +\n",
    "geom_point(mapping = aes(x = diagnosis, y = baseline)) +\n",
    "aes(x = diagnosis, color = diagnosis, y = baseline) + \n",
    "stat_summary(fun.data = mean_se, geom = \"errorbar\", width = 0.2, size = 1) + \n",
    "scale_x_discrete(breaks = c(\"1\",\"0\"), labels = c(\"Autism\",\"Control\")) +\n",
    "scale_color_manual(breaks = c(\"1\",\"0\"), labels = c(\"Autism\", \"Control\"), values=c(\"blue\", \"red\")) +\n",
    "#scale_y_continuous(limits = c(0.5,0.9)) +\n",
    "ylab(\"Baseline pupil size (au)\") +\n",
    "xlab(\"Diagnosis\") +\n",
    "theme_classic() +\n",
    "theme(legend.position=\"none\") +\n",
    "theme(axis.text=element_text(size=14)) +\n",
    "theme(axis.title=element_text(size=14))"
   ]
  },
  {
   "cell_type": "markdown",
   "metadata": {},
   "source": [
    "## PUPIL RESPONSE TO HITS"
   ]
  },
  {
   "cell_type": "code",
   "execution_count": 32,
   "metadata": {},
   "outputs": [],
   "source": [
    "#get subset of data for pupil response to hits only\n",
    "\n",
    "dataHit = peakPupil %>%\n",
    "subset(hit == 1 & FA == 0 & miss == 0 & aud == 0)\n",
    "\n",
    "dataAutHit = dataAut %>%\n",
    "subset(hit == 1 & FA == 0 & miss == 0 & aud == 0)\n",
    "\n",
    "dataConHit = dataHit %>%\n",
    "subset(diagnosis == 0)\n",
    "\n",
    "dataNoDisHit = dataHit %>%\n",
    "subset(distractors == 0)\n",
    "\n",
    "dataDisHit = dataHit %>%\n",
    "subset(distractors == 1)\n",
    "\n",
    "dataRatHit = peakPupil %>%\n",
    "subset(hit == 1 & FA == 0 & miss == 0 & aud == 0 & distractors == 0)"
   ]
  },
  {
   "cell_type": "code",
   "execution_count": 33,
   "metadata": {
    "scrolled": false
   },
   "outputs": [
    {
     "data": {
      "text/plain": [
       "Linear mixed model fit by REML. t-tests use Satterthwaite's method [\n",
       "lmerModLmerTest]\n",
       "Formula: peak ~ diagnosis * distractors + (1 | subjectNumber)\n",
       "   Data: dataHit\n",
       "\n",
       "REML criterion at convergence: -849.1\n",
       "\n",
       "Scaled residuals: \n",
       "    Min      1Q  Median      3Q     Max \n",
       "-1.5478 -0.5105 -0.1997  0.3793  3.3475 \n",
       "\n",
       "Random effects:\n",
       " Groups        Name        Variance  Std.Dev.\n",
       " subjectNumber (Intercept) 2.472e-06 0.001572\n",
       " Residual                  1.932e-06 0.001390\n",
       "Number of obs: 93, groups:  subjectNumber, 47\n",
       "\n",
       "Fixed effects:\n",
       "                          Estimate Std. Error         df t value Pr(>|t|)    \n",
       "(Intercept)              4.878e-03  4.284e-04  6.736e+01  11.386  < 2e-16 ***\n",
       "diagnosis1               4.645e-05  6.124e-04  6.736e+01   0.076  0.93976    \n",
       "distractors1             1.177e-03  4.013e-04  4.328e+01   2.933  0.00534 ** \n",
       "diagnosis1:distractors1 -1.772e-03  5.788e-04  4.363e+01  -3.062  0.00376 ** \n",
       "---\n",
       "Signif. codes:  0 ‘***’ 0.001 ‘**’ 0.01 ‘*’ 0.05 ‘.’ 0.1 ‘ ’ 1\n",
       "\n",
       "Correlation of Fixed Effects:\n",
       "            (Intr) dgnss1 dstrc1\n",
       "diagnosis1  -0.700              \n",
       "distractrs1 -0.468  0.328       \n",
       "dgnss1:dst1  0.325 -0.464 -0.693"
      ]
     },
     "metadata": {},
     "output_type": "display_data"
    },
    {
     "data": {
      "text/html": [
       "<table>\n",
       "<thead><tr><th></th><th scope=col>t</th><th scope=col>df</th><th scope=col>d</th></tr></thead>\n",
       "<tbody>\n",
       "\t<tr><th scope=row>diagnosis1</th><td> 0.07584958</td><td>67.36248   </td><td> 0.01848307</td></tr>\n",
       "\t<tr><th scope=row>distractors1</th><td> 2.93349121</td><td>43.28374   </td><td> 0.89176909</td></tr>\n",
       "\t<tr><th scope=row>diagnosis1:distractors1</th><td>-3.06207476</td><td>43.63018   </td><td>-0.92715489</td></tr>\n",
       "</tbody>\n",
       "</table>\n"
      ],
      "text/latex": [
       "\\begin{tabular}{r|lll}\n",
       "  & t & df & d\\\\\n",
       "\\hline\n",
       "\tdiagnosis1 &  0.07584958 & 67.36248    &  0.01848307\\\\\n",
       "\tdistractors1 &  2.93349121 & 43.28374    &  0.89176909\\\\\n",
       "\tdiagnosis1:distractors1 & -3.06207476 & 43.63018    & -0.92715489\\\\\n",
       "\\end{tabular}\n"
      ],
      "text/markdown": [
       "\n",
       "| <!--/--> | t | df | d |\n",
       "|---|---|---|---|\n",
       "| diagnosis1 |  0.07584958 | 67.36248    |  0.01848307 |\n",
       "| distractors1 |  2.93349121 | 43.28374    |  0.89176909 |\n",
       "| diagnosis1:distractors1 | -3.06207476 | 43.63018    | -0.92715489 |\n",
       "\n"
      ],
      "text/plain": [
       "                        t           df       d          \n",
       "diagnosis1               0.07584958 67.36248  0.01848307\n",
       "distractors1             2.93349121 43.28374  0.89176909\n",
       "diagnosis1:distractors1 -3.06207476 43.63018 -0.92715489"
      ]
     },
     "metadata": {},
     "output_type": "display_data"
    }
   ],
   "source": [
    "#see effect of group and condition\n",
    "\n",
    "con.fit = lmer(peak ~ diagnosis*distractors + (1 | subjectNumber), data = dataHit)\n",
    "summary(con.fit)\n",
    "lme.dscore(con.fit,dataHit,\"lme4\")"
   ]
  },
  {
   "cell_type": "code",
   "execution_count": 74,
   "metadata": {
    "scrolled": false
   },
   "outputs": [
    {
     "data": {
      "text/plain": [
       "Linear mixed model fit by REML. t-tests use Satterthwaite's method [\n",
       "lmerModLmerTest]\n",
       "Formula: peak ~ diagnosis * distractors + (1 | subjectNumber)\n",
       "   Data: dataHit\n",
       "\n",
       "REML criterion at convergence: -849.1\n",
       "\n",
       "Scaled residuals: \n",
       "    Min      1Q  Median      3Q     Max \n",
       "-1.5478 -0.5105 -0.1997  0.3793  3.3475 \n",
       "\n",
       "Random effects:\n",
       " Groups        Name        Variance  Std.Dev.\n",
       " subjectNumber (Intercept) 2.472e-06 0.001572\n",
       " Residual                  1.932e-06 0.001390\n",
       "Number of obs: 93, groups:  subjectNumber, 47\n",
       "\n",
       "Fixed effects:\n",
       "                          Estimate Std. Error         df t value Pr(>|t|)    \n",
       "(Intercept)              4.878e-03  4.284e-04  6.736e+01  11.386  < 2e-16 ***\n",
       "diagnosis1               4.645e-05  6.124e-04  6.736e+01   0.076  0.93976    \n",
       "distractors1             1.177e-03  4.013e-04  4.328e+01   2.933  0.00534 ** \n",
       "diagnosis1:distractors1 -1.772e-03  5.788e-04  4.363e+01  -3.062  0.00376 ** \n",
       "---\n",
       "Signif. codes:  0 ‘***’ 0.001 ‘**’ 0.01 ‘*’ 0.05 ‘.’ 0.1 ‘ ’ 1\n",
       "\n",
       "Correlation of Fixed Effects:\n",
       "            (Intr) dgnss1 dstrc1\n",
       "diagnosis1  -0.700              \n",
       "distractrs1 -0.468  0.328       \n",
       "dgnss1:dst1  0.325 -0.464 -0.693"
      ]
     },
     "metadata": {},
     "output_type": "display_data"
    },
    {
     "data": {
      "text/plain": [
       "\n",
       "\t Simultaneous Tests for General Linear Hypotheses\n",
       "\n",
       "Fit: lmer(formula = peak ~ diagnosis * distractors + (1 | subjectNumber), \n",
       "    data = dataHit)\n",
       "\n",
       "Linear Hypotheses:\n",
       "         Estimate Std. Error z value Pr(>|z|)  \n",
       "1 == 0 -5.952e-04  4.171e-04  -1.427   0.4289  \n",
       "2 == 0  1.177e-03  4.013e-04   2.933   0.0124 *\n",
       "3 == 0  4.645e-05  6.124e-04   0.076   0.9998  \n",
       "4 == 0 -1.726e-03  6.172e-04  -2.796   0.0196 *\n",
       "---\n",
       "Signif. codes:  0 ‘***’ 0.001 ‘**’ 0.01 ‘*’ 0.05 ‘.’ 0.1 ‘ ’ 1\n",
       "(Adjusted p values reported -- single-step method)\n"
      ]
     },
     "metadata": {},
     "output_type": "display_data"
    },
    {
     "data": {
      "text/plain": [
       "\n",
       "\t Simultaneous Tests for General Linear Hypotheses\n",
       "\n",
       "Fit: lmer(formula = peak ~ diagnosis * distractors + (1 | subjectNumber), \n",
       "    data = dataHit)\n",
       "\n",
       "Linear Hypotheses:\n",
       "         Estimate Std. Error z value Pr(>|z|)\n",
       "1 == 0 -0.0005952  0.0004171  -1.427    0.154\n",
       "(Adjusted p values reported -- single-step method)\n"
      ]
     },
     "metadata": {},
     "output_type": "display_data"
    },
    {
     "data": {
      "text/plain": [
       "\n",
       "Cohen's d\n",
       "\n",
       "d estimate: 0.3080003 (small)\n",
       "95 percent confidence interval:\n",
       "     lower      upper \n",
       "-0.2969632  0.9129637 "
      ]
     },
     "metadata": {},
     "output_type": "display_data"
    },
    {
     "data": {
      "text/plain": [
       "\n",
       "\t Simultaneous Tests for General Linear Hypotheses\n",
       "\n",
       "Fit: lmer(formula = peak ~ diagnosis * distractors + (1 | subjectNumber), \n",
       "    data = dataHit)\n",
       "\n",
       "Linear Hypotheses:\n",
       "        Estimate Std. Error z value Pr(>|z|)   \n",
       "1 == 0 0.0011772  0.0004013   2.933  0.00335 **\n",
       "---\n",
       "Signif. codes:  0 ‘***’ 0.001 ‘**’ 0.01 ‘*’ 0.05 ‘.’ 0.1 ‘ ’ 1\n",
       "(Adjusted p values reported -- single-step method)\n"
      ]
     },
     "metadata": {},
     "output_type": "display_data"
    },
    {
     "data": {
      "text/plain": [
       "\n",
       "Cohen's d\n",
       "\n",
       "d estimate: -0.6051192 (medium)\n",
       "95 percent confidence interval:\n",
       "      lower       upper \n",
       "-1.19934151 -0.01089688 "
      ]
     },
     "metadata": {},
     "output_type": "display_data"
    },
    {
     "data": {
      "text/plain": [
       "\n",
       "\t Simultaneous Tests for General Linear Hypotheses\n",
       "\n",
       "Fit: lmer(formula = peak ~ diagnosis * distractors + (1 | subjectNumber), \n",
       "    data = dataHit)\n",
       "\n",
       "Linear Hypotheses:\n",
       "        Estimate Std. Error z value Pr(>|z|)\n",
       "1 == 0 4.645e-05  6.124e-04   0.076     0.94\n",
       "(Adjusted p values reported -- single-step method)\n"
      ]
     },
     "metadata": {},
     "output_type": "display_data"
    },
    {
     "data": {
      "text/plain": [
       "\n",
       "Cohen's d\n",
       "\n",
       "d estimate: -0.02025026 (negligible)\n",
       "95 percent confidence interval:\n",
       "     lower      upper \n",
       "-0.6079727  0.5674722 "
      ]
     },
     "metadata": {},
     "output_type": "display_data"
    },
    {
     "data": {
      "text/plain": [
       "\n",
       "\t Simultaneous Tests for General Linear Hypotheses\n",
       "\n",
       "Fit: lmer(formula = peak ~ diagnosis * distractors + (1 | subjectNumber), \n",
       "    data = dataHit)\n",
       "\n",
       "Linear Hypotheses:\n",
       "         Estimate Std. Error z value Pr(>|z|)   \n",
       "1 == 0 -0.0017260  0.0006172  -2.796  0.00517 **\n",
       "---\n",
       "Signif. codes:  0 ‘***’ 0.001 ‘**’ 0.01 ‘*’ 0.05 ‘.’ 0.1 ‘ ’ 1\n",
       "(Adjusted p values reported -- single-step method)\n"
      ]
     },
     "metadata": {},
     "output_type": "display_data"
    },
    {
     "data": {
      "text/plain": [
       "\n",
       "Cohen's d\n",
       "\n",
       "d estimate: 0.9781212 (large)\n",
       "95 percent confidence interval:\n",
       "    lower     upper \n",
       "0.3487572 1.6074852 "
      ]
     },
     "metadata": {},
     "output_type": "display_data"
    }
   ],
   "source": [
    "#posthoc tests for effect of group and diagnosis\n",
    "\n",
    "me.fit = lmer(peak ~ diagnosis*distractors + (1  | subjectNumber), data = dataHit)\n",
    "summary(me.fit)\n",
    "\n",
    "MContrast = rbind(c(0,0,1,1),c(0,0,1,0),c(0,1,0,0),c(0,1,0,1))\n",
    "Contrast = glht(me.fit,linfct=MContrast)\n",
    "summary(Contrast)\n",
    "\n",
    "MAutAut = matrix(c(0,0,1,1),1) #comparison of autism participants across the two conditions (null)\n",
    "MConCon = matrix(c(0,0,1,0),1) #comparison of controls across the two conditions (null)\n",
    "MAutConNoDis = matrix(c(0,1,0,0),1) #comparison of autism and control participants in the no distractor condition (null)\n",
    "MAutConDis = matrix(c(0,1,0,1),1) #comparison of autism and control participants in the distractor condition (null)\n",
    "\n",
    "AutAut = glht(me.fit,linfct = MAutAut)\n",
    "summary(AutAut)\n",
    "cohen.d(dataAutHit$peak,dataAutHit$distractors,pooled=TRUE,paired=FALSE,na.rm=TRUE)\n",
    "\n",
    "ConCon = glht(me.fit,linfct = MConCon)\n",
    "summary(ConCon)\n",
    "cohen.d(dataConHit$peak,dataConHit$distractors,pooled=TRUE,paired=FALSE,na.rm=TRUE)\n",
    "\n",
    "AutConNoDis = glht(me.fit,linfct = MAutConNoDis)\n",
    "summary(AutConNoDis)\n",
    "cohen.d(dataNoDisHit$peak,dataNoDisHit$diagnosis,pooled=TRUE,paired=FALSE,na.rm=TRUE)\n",
    "\n",
    "AutConDis = glht(me.fit,linfct = MAutConDis)\n",
    "summary(AutConDis)\n",
    "cohen.d(dataDisHit$peak,dataDisHit$diagnosis,pooled=TRUE,paired=FALSE,na.rm=TRUE)"
   ]
  },
  {
   "cell_type": "code",
   "execution_count": 35,
   "metadata": {},
   "outputs": [
    {
     "data": {
      "text/plain": [
       "\n",
       "Call:\n",
       "glm(formula = RatHit ~ diagnosis, data = dataRatHit)\n",
       "\n",
       "Deviance Residuals: \n",
       "     Min        1Q    Median        3Q       Max  \n",
       "-0.70396  -0.27175  -0.02806   0.19696   1.39724  \n",
       "\n",
       "Coefficients:\n",
       "            Estimate Std. Error t value Pr(>|t|)    \n",
       "(Intercept)  1.33634    0.07886  16.946  < 2e-16 ***\n",
       "diagnosis1  -0.35325    0.11403  -3.098  0.00339 ** \n",
       "---\n",
       "Signif. codes:  0 ‘***’ 0.001 ‘**’ 0.01 ‘*’ 0.05 ‘.’ 0.1 ‘ ’ 1\n",
       "\n",
       "(Dispersion parameter for gaussian family taken to be 0.1492523)\n",
       "\n",
       "    Null deviance: 7.9994  on 45  degrees of freedom\n",
       "Residual deviance: 6.5671  on 44  degrees of freedom\n",
       "  (1 observation deleted due to missingness)\n",
       "AIC: 47\n",
       "\n",
       "Number of Fisher Scoring iterations: 2\n"
      ]
     },
     "metadata": {},
     "output_type": "display_data"
    },
    {
     "data": {
      "text/plain": [
       "\n",
       "Cohen's d\n",
       "\n",
       "d estimate: 0.9143624 (large)\n",
       "95 percent confidence interval:\n",
       "    lower     upper \n",
       "0.2892449 1.5394800 "
      ]
     },
     "metadata": {},
     "output_type": "display_data"
    }
   ],
   "source": [
    "#look at ratios\n",
    "\n",
    "con.fit = glm(RatHit ~ diagnosis, data = dataRatHit)\n",
    "summary(con.fit)\n",
    "cohen.d(dataRatHit$RatHit,dataRatHit$diagnosis,pooled=TRUE,paired=FALSE,na.rm=TRUE)"
   ]
  },
  {
   "cell_type": "code",
   "execution_count": 36,
   "metadata": {},
   "outputs": [
    {
     "data": {
      "text/plain": [
       "Linear mixed model fit by REML. t-tests use Satterthwaite's method [\n",
       "lmerModLmerTest]\n",
       "Formula: peak ~ meds * distractors + (1 | subjectNumber)\n",
       "   Data: dataAutHit\n",
       "\n",
       "REML criterion at convergence: -382.3\n",
       "\n",
       "Scaled residuals: \n",
       "    Min      1Q  Median      3Q     Max \n",
       "-1.2365 -0.5043 -0.2712  0.6680  2.8028 \n",
       "\n",
       "Random effects:\n",
       " Groups        Name        Variance  Std.Dev.\n",
       " subjectNumber (Intercept) 2.501e-06 0.001581\n",
       " Residual                  2.314e-06 0.001521\n",
       "Number of obs: 45, groups:  subjectNumber, 23\n",
       "\n",
       "Fixed effects:\n",
       "                     Estimate Std. Error         df t value Pr(>|t|)    \n",
       "(Intercept)         0.0059392  0.0006939 31.5718050   8.559 9.86e-10 ***\n",
       "meds1              -0.0017961  0.0009230 31.5718050  -1.946   0.0606 .  \n",
       "distractors1       -0.0012553  0.0006804 18.6976442  -1.845   0.0809 .  \n",
       "meds1:distractors1  0.0011661  0.0009173 18.9582015   1.271   0.2190    \n",
       "---\n",
       "Signif. codes:  0 ‘***’ 0.001 ‘**’ 0.01 ‘*’ 0.05 ‘.’ 0.1 ‘ ’ 1\n",
       "\n",
       "Correlation of Fixed Effects:\n",
       "            (Intr) meds1  dstrc1\n",
       "meds1       -0.752              \n",
       "distractrs1 -0.490  0.369       \n",
       "mds1:dstrc1  0.364 -0.484 -0.742"
      ]
     },
     "metadata": {},
     "output_type": "display_data"
    },
    {
     "data": {
      "text/html": [
       "<table>\n",
       "<thead><tr><th></th><th scope=col>t</th><th scope=col>df</th><th scope=col>d</th></tr></thead>\n",
       "<tbody>\n",
       "\t<tr><th scope=row>meds1</th><td>-1.945921 </td><td>31.57181  </td><td>-0.6926367</td></tr>\n",
       "\t<tr><th scope=row>distractors1</th><td>-1.845041 </td><td>18.69764  </td><td>-0.8533804</td></tr>\n",
       "\t<tr><th scope=row>meds1:distractors1</th><td> 1.271171 </td><td>18.95820  </td><td> 0.5838957</td></tr>\n",
       "</tbody>\n",
       "</table>\n"
      ],
      "text/latex": [
       "\\begin{tabular}{r|lll}\n",
       "  & t & df & d\\\\\n",
       "\\hline\n",
       "\tmeds1 & -1.945921  & 31.57181   & -0.6926367\\\\\n",
       "\tdistractors1 & -1.845041  & 18.69764   & -0.8533804\\\\\n",
       "\tmeds1:distractors1 &  1.271171  & 18.95820   &  0.5838957\\\\\n",
       "\\end{tabular}\n"
      ],
      "text/markdown": [
       "\n",
       "| <!--/--> | t | df | d |\n",
       "|---|---|---|---|\n",
       "| meds1 | -1.945921  | 31.57181   | -0.6926367 |\n",
       "| distractors1 | -1.845041  | 18.69764   | -0.8533804 |\n",
       "| meds1:distractors1 |  1.271171  | 18.95820   |  0.5838957 |\n",
       "\n"
      ],
      "text/plain": [
       "                   t         df       d         \n",
       "meds1              -1.945921 31.57181 -0.6926367\n",
       "distractors1       -1.845041 18.69764 -0.8533804\n",
       "meds1:distractors1  1.271171 18.95820  0.5838957"
      ]
     },
     "metadata": {},
     "output_type": "display_data"
    }
   ],
   "source": [
    "#check if meds affect results\n",
    "\n",
    "con.fit = lmer(peak ~ meds*distractors + (1 | subjectNumber), data = dataAutHit)\n",
    "summary(con.fit)\n",
    "lme.dscore(con.fit,dataAutHit,\"lme4\")"
   ]
  },
  {
   "cell_type": "code",
   "execution_count": 37,
   "metadata": {},
   "outputs": [
    {
     "data": {
      "text/plain": [
       "Linear mixed model fit by REML. t-tests use Satterthwaite's method [\n",
       "lmerModLmerTest]\n",
       "Formula: peak ~ meds * distractors + (1 | subjectNumber)\n",
       "   Data: dataAutHit\n",
       "\n",
       "REML criterion at convergence: -382.3\n",
       "\n",
       "Scaled residuals: \n",
       "    Min      1Q  Median      3Q     Max \n",
       "-1.2365 -0.5043 -0.2712  0.6680  2.8028 \n",
       "\n",
       "Random effects:\n",
       " Groups        Name        Variance  Std.Dev.\n",
       " subjectNumber (Intercept) 2.501e-06 0.001581\n",
       " Residual                  2.314e-06 0.001521\n",
       "Number of obs: 45, groups:  subjectNumber, 23\n",
       "\n",
       "Fixed effects:\n",
       "                     Estimate Std. Error         df t value Pr(>|t|)    \n",
       "(Intercept)         0.0059392  0.0006939 31.5718050   8.559 9.86e-10 ***\n",
       "meds1              -0.0017961  0.0009230 31.5718050  -1.946   0.0606 .  \n",
       "distractors1       -0.0012553  0.0006804 18.6976442  -1.845   0.0809 .  \n",
       "meds1:distractors1  0.0011661  0.0009173 18.9582015   1.271   0.2190    \n",
       "---\n",
       "Signif. codes:  0 ‘***’ 0.001 ‘**’ 0.01 ‘*’ 0.05 ‘.’ 0.1 ‘ ’ 1\n",
       "\n",
       "Correlation of Fixed Effects:\n",
       "            (Intr) meds1  dstrc1\n",
       "meds1       -0.752              \n",
       "distractrs1 -0.490  0.369       \n",
       "mds1:dstrc1  0.364 -0.484 -0.742"
      ]
     },
     "metadata": {},
     "output_type": "display_data"
    },
    {
     "data": {
      "text/plain": [
       "Linear mixed model fit by REML. t-tests use Satterthwaite's method [\n",
       "lmerModLmerTest]\n",
       "Formula: peak ~ (1 | subjectNumber)\n",
       "   Data: dataAutHit\n",
       "\n",
       "REML criterion at convergence: -414.8\n",
       "\n",
       "Scaled residuals: \n",
       "    Min      1Q  Median      3Q     Max \n",
       "-1.4883 -0.5396 -0.2440  0.4734  3.2574 \n",
       "\n",
       "Random effects:\n",
       " Groups        Name        Variance  Std.Dev.\n",
       " subjectNumber (Intercept) 2.702e-06 0.001644\n",
       " Residual                  2.432e-06 0.001559\n",
       "Number of obs: 45, groups:  subjectNumber, 23\n",
       "\n",
       "Fixed effects:\n",
       "             Estimate Std. Error        df t value Pr(>|t|)    \n",
       "(Intercept) 4.634e-03  4.149e-04 2.115e+01   11.17 2.49e-10 ***\n",
       "---\n",
       "Signif. codes:  0 ‘***’ 0.001 ‘**’ 0.01 ‘*’ 0.05 ‘.’ 0.1 ‘ ’ 1"
      ]
     },
     "metadata": {},
     "output_type": "display_data"
    },
    {
     "data": {
      "text/html": [
       "3462709457.20365"
      ],
      "text/latex": [
       "3462709457.20365"
      ],
      "text/markdown": [
       "3462709457.20365"
      ],
      "text/plain": [
       "[1] 3462709457"
      ]
     },
     "metadata": {},
     "output_type": "display_data"
    },
    {
     "data": {
      "text/html": [
       "-359.431588500082"
      ],
      "text/latex": [
       "-359.431588500082"
      ],
      "text/markdown": [
       "-359.431588500082"
      ],
      "text/plain": [
       "[1] -359.4316"
      ]
     },
     "metadata": {},
     "output_type": "display_data"
    },
    {
     "data": {
      "text/html": [
       "-403.362222899453"
      ],
      "text/latex": [
       "-403.362222899453"
      ],
      "text/markdown": [
       "-403.362222899453"
      ],
      "text/plain": [
       "[1] -403.3622"
      ]
     },
     "metadata": {},
     "output_type": "display_data"
    }
   ],
   "source": [
    "#compute Bayes factor for effect of meds\n",
    "\n",
    "con.fit = lmer(peak ~ meds*distractors + (1 | subjectNumber), data = dataAutHit)\n",
    "summary(con.fit)\n",
    "no.fit = lmer(peak ~ (1 | subjectNumber), data = dataAutHit)\n",
    "summary(no.fit)\n",
    "exp((BIC(con.fit)-BIC(no.fit))/2)\n",
    "BIC(con.fit)\n",
    "BIC(no.fit)"
   ]
  },
  {
   "cell_type": "code",
   "execution_count": 38,
   "metadata": {},
   "outputs": [
    {
     "data": {
      "text/plain": [
       "Linear mixed model fit by REML. t-tests use Satterthwaite's method [\n",
       "lmerModLmerTest]\n",
       "Formula: peak ~ age * distractors + (1 | subjectNumber)\n",
       "   Data: dataHit\n",
       "\n",
       "REML criterion at convergence: -834.7\n",
       "\n",
       "Scaled residuals: \n",
       "    Min      1Q  Median      3Q     Max \n",
       "-1.6954 -0.6340 -0.1630  0.4036  3.0884 \n",
       "\n",
       "Random effects:\n",
       " Groups        Name        Variance  Std.Dev.\n",
       " subjectNumber (Intercept) 2.076e-06 0.001441\n",
       " Residual                  2.252e-06 0.001501\n",
       "Number of obs: 93, groups:  subjectNumber, 47\n",
       "\n",
       "Fixed effects:\n",
       "                   Estimate Std. Error         df t value Pr(>|t|)   \n",
       "(Intercept)       1.543e-03  1.256e-03  7.214e+01   1.228  0.22330   \n",
       "age               1.113e-04  4.039e-05  7.214e+01   2.755  0.00742 **\n",
       "distractors1      1.713e-03  1.281e-03  4.341e+01   1.337  0.18826   \n",
       "age:distractors1 -4.605e-05  4.125e-05  4.346e+01  -1.116  0.27044   \n",
       "---\n",
       "Signif. codes:  0 ‘***’ 0.001 ‘**’ 0.01 ‘*’ 0.05 ‘.’ 0.1 ‘ ’ 1\n",
       "\n",
       "Correlation of Fixed Effects:\n",
       "            (Intr) age    dstrc1\n",
       "age         -0.970              \n",
       "distractrs1 -0.510  0.495       \n",
       "ag:dstrctr1  0.494 -0.510 -0.970"
      ]
     },
     "metadata": {},
     "output_type": "display_data"
    },
    {
     "data": {
      "text/html": [
       "<table>\n",
       "<thead><tr><th></th><th scope=col>t</th><th scope=col>df</th><th scope=col>d</th></tr></thead>\n",
       "<tbody>\n",
       "\t<tr><th scope=row>age</th><td> 2.755369 </td><td>72.1395   </td><td> 0.6488184</td></tr>\n",
       "\t<tr><th scope=row>distractors1</th><td> 1.336769 </td><td>43.4089   </td><td> 0.4057859</td></tr>\n",
       "\t<tr><th scope=row>age:distractors1</th><td>-1.116278 </td><td>43.4558   </td><td>-0.3386715</td></tr>\n",
       "</tbody>\n",
       "</table>\n"
      ],
      "text/latex": [
       "\\begin{tabular}{r|lll}\n",
       "  & t & df & d\\\\\n",
       "\\hline\n",
       "\tage &  2.755369  & 72.1395    &  0.6488184\\\\\n",
       "\tdistractors1 &  1.336769  & 43.4089    &  0.4057859\\\\\n",
       "\tage:distractors1 & -1.116278  & 43.4558    & -0.3386715\\\\\n",
       "\\end{tabular}\n"
      ],
      "text/markdown": [
       "\n",
       "| <!--/--> | t | df | d |\n",
       "|---|---|---|---|\n",
       "| age |  2.755369  | 72.1395    |  0.6488184 |\n",
       "| distractors1 |  1.336769  | 43.4089    |  0.4057859 |\n",
       "| age:distractors1 | -1.116278  | 43.4558    | -0.3386715 |\n",
       "\n"
      ],
      "text/plain": [
       "                 t         df      d         \n",
       "age               2.755369 72.1395  0.6488184\n",
       "distractors1      1.336769 43.4089  0.4057859\n",
       "age:distractors1 -1.116278 43.4558 -0.3386715"
      ]
     },
     "metadata": {},
     "output_type": "display_data"
    }
   ],
   "source": [
    "#check to see if age affects results\n",
    "\n",
    "con.fit = lmer(peak ~ age*distractors + (1 | subjectNumber), data = dataHit)\n",
    "summary(con.fit)\n",
    "lme.dscore(con.fit,dataHit,\"lme4\")"
   ]
  },
  {
   "cell_type": "code",
   "execution_count": 39,
   "metadata": {
    "scrolled": false
   },
   "outputs": [
    {
     "data": {
      "text/plain": [
       "Linear mixed model fit by REML. t-tests use Satterthwaite's method [\n",
       "lmerModLmerTest]\n",
       "Formula: peak ~ ADOSComm * distractors + ADOSSoc * distractors + ADOSBeh *  \n",
       "    distractors + (1 | subjectNumber)\n",
       "   Data: dataAutHit\n",
       "\n",
       "REML criterion at convergence: -326\n",
       "\n",
       "Scaled residuals: \n",
       "    Min      1Q  Median      3Q     Max \n",
       "-1.4354 -0.4111 -0.1963  0.3944  2.4007 \n",
       "\n",
       "Random effects:\n",
       " Groups        Name        Variance  Std.Dev.\n",
       " subjectNumber (Intercept) 1.549e-06 0.001245\n",
       " Residual                  2.562e-06 0.001601\n",
       "Number of obs: 45, groups:  subjectNumber, 23\n",
       "\n",
       "Fixed effects:\n",
       "                        Estimate Std. Error         df t value Pr(>|t|)   \n",
       "(Intercept)            0.0033208  0.0017898 32.5389751   1.855  0.07262 . \n",
       "ADOSComm              -0.0005985  0.0003178 32.5389752  -1.883  0.06867 . \n",
       "distractors1          -0.0004047  0.0020481 18.6843169  -0.198  0.84551   \n",
       "ADOSSoc                0.0006736  0.0002233 32.5389751   3.016  0.00494 **\n",
       "ADOSBeh               -0.0005692  0.0002775 32.5389752  -2.052  0.04833 * \n",
       "ADOSComm:distractors1  0.0002442  0.0003711 19.1329631   0.658  0.51842   \n",
       "distractors1:ADOSSoc  -0.0002392  0.0002508 18.2647111  -0.953  0.35283   \n",
       "distractors1:ADOSBeh   0.0003425  0.0003212 18.9398539   1.067  0.29958   \n",
       "---\n",
       "Signif. codes:  0 ‘***’ 0.001 ‘**’ 0.01 ‘*’ 0.05 ‘.’ 0.1 ‘ ’ 1\n",
       "\n",
       "Correlation of Fixed Effects:\n",
       "            (Intr) ADOSCm dstrc1 ADOSSc ADOSBh ADOSC: d1:ADOSS\n",
       "ADOSComm    -0.478                                            \n",
       "distractrs1 -0.545  0.260                                     \n",
       "ADOSSoc     -0.637 -0.288  0.347                              \n",
       "ADOSBeh     -0.203  0.241  0.111 -0.248                       \n",
       "ADOSCmm:ds1  0.255 -0.534 -0.510  0.154 -0.129                \n",
       "dstr1:ADOSS  0.353  0.160 -0.594 -0.555  0.137 -0.306         \n",
       "dstr1:ADOSB  0.109 -0.130 -0.249  0.133 -0.538  0.300 -0.266  "
      ]
     },
     "metadata": {},
     "output_type": "display_data"
    },
    {
     "data": {
      "text/html": [
       "<table>\n",
       "<thead><tr><th></th><th scope=col>t</th><th scope=col>df</th><th scope=col>d</th></tr></thead>\n",
       "<tbody>\n",
       "\t<tr><th scope=row>ADOSComm</th><td>-1.8829991 </td><td>32.53898   </td><td>-0.66020402</td></tr>\n",
       "\t<tr><th scope=row>distractors1</th><td>-0.1975740 </td><td>18.68432   </td><td>-0.09141579</td></tr>\n",
       "\t<tr><th scope=row>ADOSSoc</th><td> 3.0161326 </td><td>32.53898   </td><td> 1.05749542</td></tr>\n",
       "\t<tr><th scope=row>ADOSBeh</th><td>-2.0516108 </td><td>32.53898   </td><td>-0.71932149</td></tr>\n",
       "\t<tr><th scope=row>ADOSComm:distractors1</th><td> 0.6579368 </td><td>19.13296   </td><td> 0.30083135</td></tr>\n",
       "\t<tr><th scope=row>distractors1:ADOSSoc</th><td>-0.9534141 </td><td>18.26471   </td><td>-0.44617494</td></tr>\n",
       "\t<tr><th scope=row>distractors1:ADOSBeh</th><td> 1.0665610 </td><td>18.93985   </td><td> 0.49014815</td></tr>\n",
       "</tbody>\n",
       "</table>\n"
      ],
      "text/latex": [
       "\\begin{tabular}{r|lll}\n",
       "  & t & df & d\\\\\n",
       "\\hline\n",
       "\tADOSComm & -1.8829991  & 32.53898    & -0.66020402\\\\\n",
       "\tdistractors1 & -0.1975740  & 18.68432    & -0.09141579\\\\\n",
       "\tADOSSoc &  3.0161326  & 32.53898    &  1.05749542\\\\\n",
       "\tADOSBeh & -2.0516108  & 32.53898    & -0.71932149\\\\\n",
       "\tADOSComm:distractors1 &  0.6579368  & 19.13296    &  0.30083135\\\\\n",
       "\tdistractors1:ADOSSoc & -0.9534141  & 18.26471    & -0.44617494\\\\\n",
       "\tdistractors1:ADOSBeh &  1.0665610  & 18.93985    &  0.49014815\\\\\n",
       "\\end{tabular}\n"
      ],
      "text/markdown": [
       "\n",
       "| <!--/--> | t | df | d |\n",
       "|---|---|---|---|\n",
       "| ADOSComm | -1.8829991  | 32.53898    | -0.66020402 |\n",
       "| distractors1 | -0.1975740  | 18.68432    | -0.09141579 |\n",
       "| ADOSSoc |  3.0161326  | 32.53898    |  1.05749542 |\n",
       "| ADOSBeh | -2.0516108  | 32.53898    | -0.71932149 |\n",
       "| ADOSComm:distractors1 |  0.6579368  | 19.13296    |  0.30083135 |\n",
       "| distractors1:ADOSSoc | -0.9534141  | 18.26471    | -0.44617494 |\n",
       "| distractors1:ADOSBeh |  1.0665610  | 18.93985    |  0.49014815 |\n",
       "\n"
      ],
      "text/plain": [
       "                      t          df       d          \n",
       "ADOSComm              -1.8829991 32.53898 -0.66020402\n",
       "distractors1          -0.1975740 18.68432 -0.09141579\n",
       "ADOSSoc                3.0161326 32.53898  1.05749542\n",
       "ADOSBeh               -2.0516108 32.53898 -0.71932149\n",
       "ADOSComm:distractors1  0.6579368 19.13296  0.30083135\n",
       "distractors1:ADOSSoc  -0.9534141 18.26471 -0.44617494\n",
       "distractors1:ADOSBeh   1.0665610 18.93985  0.49014815"
      ]
     },
     "metadata": {},
     "output_type": "display_data"
    }
   ],
   "source": [
    "#see effect of clinical metrics\n",
    "\n",
    "con.fit = lmer(peak ~ ADOSComm*distractors + ADOSSoc*distractors + ADOSBeh*distractors +  (1 | subjectNumber), data = dataAutHit)\n",
    "summary(con.fit)\n",
    "lme.dscore(con.fit,dataAutHit,\"lme4\")"
   ]
  },
  {
   "cell_type": "code",
   "execution_count": 40,
   "metadata": {},
   "outputs": [
    {
     "data": {
      "image/png": "[encoded data removed]",
      "text/plain": [
       "plot without title"
      ]
     },
     "metadata": {},
     "output_type": "display_data"
    }
   ],
   "source": [
    "ggplot(data = dataAutHit) +\n",
    "geom_jitter(aes(x = ADOSSoc, y = peak),color = \"red\") + \n",
    "scale_x_continuous(breaks = (c(0,2,4,6,8,10,12,14)),limits=c(0, 14)) +\n",
    "ylab(\"Pupil amplitude in response to hits\") +\n",
    "xlab(\"ADOS-RSI\") +\n",
    "theme_classic() +\n",
    "theme(axis.text=element_text(size=14, color = \"black\")) +\n",
    "theme(axis.title=element_text(size=14, color = \"black\")) +\n",
    "theme( axis.line = element_line(colour = \"black\", \n",
    "                      linetype = \"solid\")) +\n",
    "theme(axis.text=element_text(face=\"bold\")) +\n",
    "theme(axis.title=element_text(face=\"bold\"))"
   ]
  },
  {
   "cell_type": "code",
   "execution_count": 41,
   "metadata": {},
   "outputs": [
    {
     "name": "stderr",
     "output_type": "stream",
     "text": [
      "Warning message:\n",
      "“Removed 5 rows containing missing values (geom_point).”"
     ]
    },
    {
     "data": {
      "image/png": "[encoded data removed]",
      "text/plain": [
       "plot without title"
      ]
     },
     "metadata": {},
     "output_type": "display_data"
    }
   ],
   "source": [
    "ggplot(data = dataAutHit) +\n",
    "geom_jitter(aes(x = ADOSBeh, y = peak),color = \"blue\") + \n",
    "scale_x_continuous(breaks = (c(0,2,4,6,8,10,12,14)),limits=c(0, 14)) +\n",
    "#scale_y_continuous(breaks = (c(0.005,0.01,0.015,0.02)),limits=c(0, 0.02)) +\n",
    "ylab(\"Normalized pupil amplitude to hits\") +\n",
    "xlab(\"ADOS-RRB\") +\n",
    "theme_classic() +\n",
    "theme(axis.text=element_text(size=14, color = \"black\")) +\n",
    "theme(axis.title=element_text(size=14, color = \"black\")) +\n",
    "theme(legend.text=element_text(size=14)) +\n",
    " theme( axis.line = element_line(colour = \"black\", \n",
    "                      linetype = \"solid\"))"
   ]
  },
  {
   "cell_type": "code",
   "execution_count": 42,
   "metadata": {},
   "outputs": [
    {
     "data": {
      "image/png": "[encoded data removed]",
      "text/plain": [
       "plot without title"
      ]
     },
     "metadata": {},
     "output_type": "display_data"
    }
   ],
   "source": [
    "ggplot(data = dataAutHit) +\n",
    "geom_jitter(aes(x = ADOSComm, y = peak),color = \"blue\") +\n",
    "scale_x_continuous(breaks = (c(0,2,4,6,8,10,12,14)),limits=c(0, 14)) +\n",
    "#scale_y_continuous(breaks = (c(0.005,0.01,0.015,0.02)),limits=c(0, 0.02)) +\n",
    "ylab(\"Normalized pupil amplitude to hits\") +\n",
    "xlab(\"ADOS-LaCo\") +\n",
    "theme_classic() +\n",
    "theme(axis.text=element_text(size=14, color = \"black\")) +\n",
    "theme(axis.title=element_text(size=14, color = \"black\")) +\n",
    "theme(legend.text=element_text(size=14)) +\n",
    " theme( axis.line = element_line(colour = \"black\", \n",
    "                      linetype = \"solid\"))"
   ]
  },
  {
   "cell_type": "code",
   "execution_count": 43,
   "metadata": {},
   "outputs": [
    {
     "name": "stderr",
     "output_type": "stream",
     "text": [
      "Scale for 'colour' is already present. Adding another scale for 'colour',\n",
      "which will replace the existing scale.\n"
     ]
    },
    {
     "data": {
      "image/png": "[encoded data removed]",
      "text/plain": [
       "plot without title"
      ]
     },
     "metadata": {},
     "output_type": "display_data"
    }
   ],
   "source": [
    "#plot data\n",
    "\n",
    "ggplot(data = dataHit) +\n",
    "geom_point(mapping = aes(x = distractors, y = peak)) +\n",
    "aes(x = distractors, color = diagnosis, group = diagnosis, y = peak) + \n",
    "stat_summary(fun.y = mean, geom = \"line\", size = 1) + \n",
    "stat_summary(fun.data = mean_se, geom = \"errorbar\", width = 0.2, size = 1) + \n",
    "scale_x_discrete(breaks = c(\"0\",\"1\"), labels = c(\"ABSENCE of Distractors\",\"PRESENCE of Distractors\")) +\n",
    "scale_color_discrete(breaks = c(\"1\",\"0\"), labels = c(\"Autism\",\"Control\")) +\n",
    "scale_color_manual(breaks = c(\"1\",\"0\"), labels = c(\"Autism\", \"Control\"), values=c(\"blue\", \"red\")) +\n",
    "scale_y_continuous(breaks = (c(0.005,0.01,0.015,0.02)),limits=c(0, 0.02)) +\n",
    "ylab(\"Normalized Peak Pupil Amplitude\") +\n",
    "xlab(\"Condition\") +\n",
    "theme_classic() +\n",
    "theme(legend.position=c(0.9,0.1)) +\n",
    "theme(legend.title=element_blank()) +\n",
    "theme(axis.text=element_text(size=12, color = \"black\")) +\n",
    "theme(axis.title=element_text(size=14, color = \"black\")) +\n",
    "theme(legend.text=element_text(size=14)) +\n",
    " theme( axis.line = element_line(colour = \"black\", \n",
    "                      linetype = \"solid\"))+\n",
    "ggtitle(\"Pupillary Response to Hits\") +\n",
    "  theme(plot.title = element_text(hjust = 0.5))"
   ]
  },
  {
   "cell_type": "markdown",
   "metadata": {},
   "source": [
    "## PUPIL RESPONSE TO FALSE ALARMS"
   ]
  },
  {
   "cell_type": "code",
   "execution_count": 44,
   "metadata": {},
   "outputs": [],
   "source": [
    "#get subset of data for pupil response to FAs only\n",
    "\n",
    "dataFA = peakPupil %>%\n",
    "subset(hit == 0 & FA == 1 & miss == 0 & aud == 0)\n",
    "\n",
    "dataAutFA = dataAut %>%\n",
    "subset(hit == 0 & FA == 1 & miss == 0 & aud == 0)\n",
    "\n",
    "dataConFA = dataFA %>%\n",
    "subset(diagnosis == 0)\n",
    "\n",
    "dataNoDisFA = dataFA %>%\n",
    "subset(distractors == 0)\n",
    "\n",
    "dataDisFA = dataFA %>%\n",
    "subset(distractors == 1)\n",
    "\n",
    "dataRatFA = peakPupil %>%\n",
    "subset(hit == 0 & FA == 1 & miss == 0 & aud == 0 & distractors == 0)"
   ]
  },
  {
   "cell_type": "code",
   "execution_count": 45,
   "metadata": {},
   "outputs": [
    {
     "data": {
      "text/plain": [
       "Linear mixed model fit by REML. t-tests use Satterthwaite's method [\n",
       "lmerModLmerTest]\n",
       "Formula: peak ~ diagnosis * distractors + (1 | subjectNumber)\n",
       "   Data: dataFA\n",
       "\n",
       "REML criterion at convergence: -735.4\n",
       "\n",
       "Scaled residuals: \n",
       "     Min       1Q   Median       3Q      Max \n",
       "-1.63983 -0.59613 -0.02414  0.55049  2.02502 \n",
       "\n",
       "Random effects:\n",
       " Groups        Name        Variance  Std.Dev.\n",
       " subjectNumber (Intercept) 4.641e-06 0.002154\n",
       " Residual                  5.319e-06 0.002306\n",
       "Number of obs: 89, groups:  subjectNumber, 46\n",
       "\n",
       "Fixed effects:\n",
       "                          Estimate Std. Error         df t value Pr(>|t|)    \n",
       "(Intercept)              0.0082893  0.0006442 70.4591524  12.868   <2e-16 ***\n",
       "diagnosis1               0.0001570  0.0009315 70.4591524   0.169   0.8666    \n",
       "distractors1             0.0007743  0.0006876 42.7786858   1.126   0.2664    \n",
       "diagnosis1:distractors1 -0.0026181  0.0009865 42.4388166  -2.654   0.0112 *  \n",
       "---\n",
       "Signif. codes:  0 ‘***’ 0.001 ‘**’ 0.01 ‘*’ 0.05 ‘.’ 0.1 ‘ ’ 1\n",
       "\n",
       "Correlation of Fixed Effects:\n",
       "            (Intr) dgnss1 dstrc1\n",
       "diagnosis1  -0.692              \n",
       "distractrs1 -0.500  0.346       \n",
       "dgnss1:dst1  0.349 -0.504 -0.697"
      ]
     },
     "metadata": {},
     "output_type": "display_data"
    },
    {
     "data": {
      "text/html": [
       "<table>\n",
       "<thead><tr><th></th><th scope=col>t</th><th scope=col>df</th><th scope=col>d</th></tr></thead>\n",
       "<tbody>\n",
       "\t<tr><th scope=row>diagnosis1</th><td> 0.1685608 </td><td>70.45915   </td><td> 0.04016224</td></tr>\n",
       "\t<tr><th scope=row>distractors1</th><td> 1.1260955 </td><td>42.77869   </td><td> 0.34434319</td></tr>\n",
       "\t<tr><th scope=row>diagnosis1:distractors1</th><td>-2.6539391 </td><td>42.43882   </td><td>-0.81477803</td></tr>\n",
       "</tbody>\n",
       "</table>\n"
      ],
      "text/latex": [
       "\\begin{tabular}{r|lll}\n",
       "  & t & df & d\\\\\n",
       "\\hline\n",
       "\tdiagnosis1 &  0.1685608  & 70.45915    &  0.04016224\\\\\n",
       "\tdistractors1 &  1.1260955  & 42.77869    &  0.34434319\\\\\n",
       "\tdiagnosis1:distractors1 & -2.6539391  & 42.43882    & -0.81477803\\\\\n",
       "\\end{tabular}\n"
      ],
      "text/markdown": [
       "\n",
       "| <!--/--> | t | df | d |\n",
       "|---|---|---|---|\n",
       "| diagnosis1 |  0.1685608  | 70.45915    |  0.04016224 |\n",
       "| distractors1 |  1.1260955  | 42.77869    |  0.34434319 |\n",
       "| diagnosis1:distractors1 | -2.6539391  | 42.43882    | -0.81477803 |\n",
       "\n"
      ],
      "text/plain": [
       "                        t          df       d          \n",
       "diagnosis1               0.1685608 70.45915  0.04016224\n",
       "distractors1             1.1260955 42.77869  0.34434319\n",
       "diagnosis1:distractors1 -2.6539391 42.43882 -0.81477803"
      ]
     },
     "metadata": {},
     "output_type": "display_data"
    }
   ],
   "source": [
    "#see effect of group and condition\n",
    "\n",
    "con.fit = lmer(peak ~ diagnosis*distractors + (1 | subjectNumber), data = dataFA)\n",
    "summary(con.fit)\n",
    "lme.dscore(con.fit,dataFA,\"lme4\")"
   ]
  },
  {
   "cell_type": "code",
   "execution_count": 75,
   "metadata": {
    "scrolled": false
   },
   "outputs": [
    {
     "data": {
      "text/plain": [
       "Linear mixed model fit by REML. t-tests use Satterthwaite's method [\n",
       "lmerModLmerTest]\n",
       "Formula: peak ~ diagnosis * distractors + (1 | subjectNumber)\n",
       "   Data: dataFA\n",
       "\n",
       "REML criterion at convergence: -735.4\n",
       "\n",
       "Scaled residuals: \n",
       "     Min       1Q   Median       3Q      Max \n",
       "-1.63983 -0.59613 -0.02414  0.55049  2.02502 \n",
       "\n",
       "Random effects:\n",
       " Groups        Name        Variance  Std.Dev.\n",
       " subjectNumber (Intercept) 4.641e-06 0.002154\n",
       " Residual                  5.319e-06 0.002306\n",
       "Number of obs: 89, groups:  subjectNumber, 46\n",
       "\n",
       "Fixed effects:\n",
       "                          Estimate Std. Error         df t value Pr(>|t|)    \n",
       "(Intercept)              0.0082893  0.0006442 70.4591524  12.868   <2e-16 ***\n",
       "diagnosis1               0.0001570  0.0009315 70.4591524   0.169   0.8666    \n",
       "distractors1             0.0007743  0.0006876 42.7786858   1.126   0.2664    \n",
       "diagnosis1:distractors1 -0.0026181  0.0009865 42.4388166  -2.654   0.0112 *  \n",
       "---\n",
       "Signif. codes:  0 ‘***’ 0.001 ‘**’ 0.01 ‘*’ 0.05 ‘.’ 0.1 ‘ ’ 1\n",
       "\n",
       "Correlation of Fixed Effects:\n",
       "            (Intr) dgnss1 dstrc1\n",
       "diagnosis1  -0.692              \n",
       "distractrs1 -0.500  0.346       \n",
       "dgnss1:dst1  0.349 -0.504 -0.697"
      ]
     },
     "metadata": {},
     "output_type": "display_data"
    },
    {
     "data": {
      "text/plain": [
       "\n",
       "\t Simultaneous Tests for General Linear Hypotheses\n",
       "\n",
       "Fit: lmer(formula = peak ~ diagnosis * distractors + (1 | subjectNumber), \n",
       "    data = dataFA)\n",
       "\n",
       "Linear Hypotheses:\n",
       "         Estimate Std. Error z value Pr(>|z|)  \n",
       "1 == 0 -0.0018438  0.0007074  -2.606   0.0337 *\n",
       "2 == 0  0.0007743  0.0006876   1.126   0.6262  \n",
       "3 == 0  0.0001570  0.0009315   0.169   0.9979  \n",
       "4 == 0 -0.0024611  0.0009561  -2.574   0.0369 *\n",
       "---\n",
       "Signif. codes:  0 ‘***’ 0.001 ‘**’ 0.01 ‘*’ 0.05 ‘.’ 0.1 ‘ ’ 1\n",
       "(Adjusted p values reported -- single-step method)\n"
      ]
     },
     "metadata": {},
     "output_type": "display_data"
    },
    {
     "data": {
      "text/plain": [
       "\n",
       "\t Simultaneous Tests for General Linear Hypotheses\n",
       "\n",
       "Fit: lmer(formula = peak ~ diagnosis * distractors + (1 | subjectNumber), \n",
       "    data = dataFA)\n",
       "\n",
       "Linear Hypotheses:\n",
       "         Estimate Std. Error z value Pr(>|z|)   \n",
       "1 == 0 -0.0018438  0.0007074  -2.606  0.00915 **\n",
       "---\n",
       "Signif. codes:  0 ‘***’ 0.001 ‘**’ 0.01 ‘*’ 0.05 ‘.’ 0.1 ‘ ’ 1\n",
       "(Adjusted p values reported -- single-step method)\n"
      ]
     },
     "metadata": {},
     "output_type": "display_data"
    },
    {
     "data": {
      "text/plain": [
       "\n",
       "Cohen's d\n",
       "\n",
       "d estimate: 0.6725187 (medium)\n",
       "95 percent confidence interval:\n",
       "     lower      upper \n",
       "0.03923019 1.30580719 "
      ]
     },
     "metadata": {},
     "output_type": "display_data"
    },
    {
     "data": {
      "text/plain": [
       "\n",
       "\t Simultaneous Tests for General Linear Hypotheses\n",
       "\n",
       "Fit: lmer(formula = peak ~ diagnosis * distractors + (1 | subjectNumber), \n",
       "    data = dataFA)\n",
       "\n",
       "Linear Hypotheses:\n",
       "        Estimate Std. Error z value Pr(>|z|)\n",
       "1 == 0 0.0007743  0.0006876   1.126     0.26\n",
       "(Adjusted p values reported -- single-step method)\n"
      ]
     },
     "metadata": {},
     "output_type": "display_data"
    },
    {
     "data": {
      "text/plain": [
       "\n",
       "Cohen's d\n",
       "\n",
       "d estimate: -0.2429301 (small)\n",
       "95 percent confidence interval:\n",
       "     lower      upper \n",
       "-0.8399781  0.3541178 "
      ]
     },
     "metadata": {},
     "output_type": "display_data"
    },
    {
     "data": {
      "text/plain": [
       "\n",
       "\t Simultaneous Tests for General Linear Hypotheses\n",
       "\n",
       "Fit: lmer(formula = peak ~ diagnosis * distractors + (1 | subjectNumber), \n",
       "    data = dataFA)\n",
       "\n",
       "Linear Hypotheses:\n",
       "        Estimate Std. Error z value Pr(>|z|)\n",
       "1 == 0 0.0001570  0.0009315   0.169    0.866\n",
       "(Adjusted p values reported -- single-step method)\n"
      ]
     },
     "metadata": {},
     "output_type": "display_data"
    },
    {
     "data": {
      "text/plain": [
       "\n",
       "Cohen's d\n",
       "\n",
       "d estimate: -0.05526657 (negligible)\n",
       "95 percent confidence interval:\n",
       "     lower      upper \n",
       "-0.6502419  0.5397088 "
      ]
     },
     "metadata": {},
     "output_type": "display_data"
    },
    {
     "data": {
      "text/plain": [
       "\n",
       "\t Simultaneous Tests for General Linear Hypotheses\n",
       "\n",
       "Fit: lmer(formula = peak ~ diagnosis * distractors + (1 | subjectNumber), \n",
       "    data = dataFA)\n",
       "\n",
       "Linear Hypotheses:\n",
       "         Estimate Std. Error z value Pr(>|z|)  \n",
       "1 == 0 -0.0024611  0.0009561  -2.574   0.0101 *\n",
       "---\n",
       "Signif. codes:  0 ‘***’ 0.001 ‘**’ 0.01 ‘*’ 0.05 ‘.’ 0.1 ‘ ’ 1\n",
       "(Adjusted p values reported -- single-step method)\n"
      ]
     },
     "metadata": {},
     "output_type": "display_data"
    },
    {
     "data": {
      "text/plain": [
       "\n",
       "Cohen's d\n",
       "\n",
       "d estimate: 0.7537644 (medium)\n",
       "95 percent confidence interval:\n",
       "    lower     upper \n",
       "0.1161517 1.3913770 "
      ]
     },
     "metadata": {},
     "output_type": "display_data"
    }
   ],
   "source": [
    "#posthoc tests for effect of group and condition\n",
    "\n",
    "me.fit = lmer(peak ~ diagnosis*distractors + (1  | subjectNumber), data = dataFA)\n",
    "summary(me.fit)\n",
    "\n",
    "MContrast = rbind(c(0,0,1,1),c(0,0,1,0),c(0,1,0,0),c(0,1,0,1))\n",
    "Contrast = glht(me.fit,linfct=MContrast)\n",
    "summary(Contrast)\n",
    "\n",
    "MAutAut = matrix(c(0,0,1,1),1) #comparison of autism participants across the two conditions (null)\n",
    "MConCon = matrix(c(0,0,1,0),1) #comparison of controls across the two conditions (null)\n",
    "MAutConNoDis = matrix(c(0,1,0,0),1) #comparison of autism and control participants in the no distractor condition (null)\n",
    "MAutConDis = matrix(c(0,1,0,1),1) #comparison of autism and control participants in the distractor condition (null)\n",
    "\n",
    "AutAut = glht(me.fit,linfct = MAutAut)\n",
    "summary(AutAut)\n",
    "cohen.d(dataAutFA$peak,dataAutFA$distractors,pooled=TRUE,paired=FALSE,na.rm=TRUE)\n",
    "\n",
    "ConCon = glht(me.fit,linfct = MConCon)\n",
    "summary(ConCon)\n",
    "cohen.d(dataConFA$peak,dataConFA$distractors,pooled=TRUE,paired=FALSE,na.rm=TRUE)\n",
    "\n",
    "AutConNoDis = glht(me.fit,linfct = MAutConNoDis)\n",
    "summary(AutConNoDis)\n",
    "cohen.d(dataNoDisFA$peak,dataNoDisFA$diagnosis,pooled=TRUE,paired=FALSE,na.rm=TRUE)\n",
    "\n",
    "AutConDis = glht(me.fit,linfct = MAutConDis)\n",
    "summary(AutConDis)\n",
    "cohen.d(dataDisFA$peak,dataDisFA$diagnosis,pooled=TRUE,paired=FALSE,na.rm=TRUE)"
   ]
  },
  {
   "cell_type": "code",
   "execution_count": 47,
   "metadata": {},
   "outputs": [
    {
     "data": {
      "text/plain": [
       "\n",
       "Call:\n",
       "glm(formula = RatFA ~ diagnosis, data = dataRatFA)\n",
       "\n",
       "Deviance Residuals: \n",
       "     Min        1Q    Median        3Q       Max  \n",
       "-0.73565  -0.32022  -0.03858   0.29763   0.73873  \n",
       "\n",
       "Coefficients:\n",
       "            Estimate Std. Error t value Pr(>|t|)    \n",
       "(Intercept)  1.16983    0.08581  13.633  < 2e-16 ***\n",
       "diagnosis1  -0.35034    0.12279  -2.853  0.00675 ** \n",
       "---\n",
       "Signif. codes:  0 ‘***’ 0.001 ‘**’ 0.01 ‘*’ 0.05 ‘.’ 0.1 ‘ ’ 1\n",
       "\n",
       "(Dispersion parameter for gaussian family taken to be 0.161989)\n",
       "\n",
       "    Null deviance: 7.9603  on 42  degrees of freedom\n",
       "Residual deviance: 6.6415  on 41  degrees of freedom\n",
       "  (3 observations deleted due to missingness)\n",
       "AIC: 47.711\n",
       "\n",
       "Number of Fisher Scoring iterations: 2\n"
      ]
     },
     "metadata": {},
     "output_type": "display_data"
    },
    {
     "data": {
      "text/plain": [
       "\n",
       "Cohen's d\n",
       "\n",
       "d estimate: 0.8704683 (large)\n",
       "95 percent confidence interval:\n",
       "    lower     upper \n",
       "0.2258448 1.5150919 "
      ]
     },
     "metadata": {},
     "output_type": "display_data"
    }
   ],
   "source": [
    "#look at ratios\n",
    "\n",
    "con.fit = glm(RatFA ~ diagnosis, data = dataRatFA)\n",
    "summary(con.fit)\n",
    "cohen.d(dataRatFA$RatFA,dataRatFA$diagnosis,pooled=TRUE,paired=FALSE,na.rm=TRUE)"
   ]
  },
  {
   "cell_type": "code",
   "execution_count": 48,
   "metadata": {
    "scrolled": false
   },
   "outputs": [
    {
     "data": {
      "text/plain": [
       "Linear mixed model fit by REML. t-tests use Satterthwaite's method [\n",
       "lmerModLmerTest]\n",
       "Formula: peak ~ meds * distractors + (1 | subjectNumber)\n",
       "   Data: dataAutFA\n",
       "\n",
       "REML criterion at convergence: -338.4\n",
       "\n",
       "Scaled residuals: \n",
       "     Min       1Q   Median       3Q      Max \n",
       "-1.27102 -0.71696 -0.06949  0.60667  2.37042 \n",
       "\n",
       "Random effects:\n",
       " Groups        Name        Variance  Std.Dev.\n",
       " subjectNumber (Intercept) 3.339e-06 0.001827\n",
       " Residual                  5.148e-06 0.002269\n",
       "Number of obs: 43, groups:  subjectNumber, 22\n",
       "\n",
       "Fixed effects:\n",
       "                     Estimate Std. Error         df t value Pr(>|t|)    \n",
       "(Intercept)         0.0076802  0.0009212 33.6895110   8.337 1.06e-09 ***\n",
       "meds1               0.0014045  0.0012474 33.6895110   1.126    0.268    \n",
       "distractors1       -0.0007705  0.0010147 18.6218149  -0.759    0.457    \n",
       "meds1:distractors1 -0.0020444  0.0013935 18.9518385  -1.467    0.159    \n",
       "---\n",
       "Signif. codes:  0 ‘***’ 0.001 ‘**’ 0.01 ‘*’ 0.05 ‘.’ 0.1 ‘ ’ 1\n",
       "\n",
       "Correlation of Fixed Effects:\n",
       "            (Intr) meds1  dstrc1\n",
       "meds1       -0.739              \n",
       "distractrs1 -0.551  0.407       \n",
       "mds1:dstrc1  0.401 -0.543 -0.728"
      ]
     },
     "metadata": {},
     "output_type": "display_data"
    },
    {
     "data": {
      "text/html": [
       "<table>\n",
       "<thead><tr><th></th><th scope=col>t</th><th scope=col>df</th><th scope=col>d</th></tr></thead>\n",
       "<tbody>\n",
       "\t<tr><th scope=row>meds1</th><td> 1.1260097</td><td>33.68951  </td><td> 0.3879938</td></tr>\n",
       "\t<tr><th scope=row>distractors1</th><td>-0.7594056</td><td>18.62181  </td><td>-0.3519596</td></tr>\n",
       "\t<tr><th scope=row>meds1:distractors1</th><td>-1.4670872</td><td>18.95184  </td><td>-0.6740005</td></tr>\n",
       "</tbody>\n",
       "</table>\n"
      ],
      "text/latex": [
       "\\begin{tabular}{r|lll}\n",
       "  & t & df & d\\\\\n",
       "\\hline\n",
       "\tmeds1 &  1.1260097 & 33.68951   &  0.3879938\\\\\n",
       "\tdistractors1 & -0.7594056 & 18.62181   & -0.3519596\\\\\n",
       "\tmeds1:distractors1 & -1.4670872 & 18.95184   & -0.6740005\\\\\n",
       "\\end{tabular}\n"
      ],
      "text/markdown": [
       "\n",
       "| <!--/--> | t | df | d |\n",
       "|---|---|---|---|\n",
       "| meds1 |  1.1260097 | 33.68951   |  0.3879938 |\n",
       "| distractors1 | -0.7594056 | 18.62181   | -0.3519596 |\n",
       "| meds1:distractors1 | -1.4670872 | 18.95184   | -0.6740005 |\n",
       "\n"
      ],
      "text/plain": [
       "                   t          df       d         \n",
       "meds1               1.1260097 33.68951  0.3879938\n",
       "distractors1       -0.7594056 18.62181 -0.3519596\n",
       "meds1:distractors1 -1.4670872 18.95184 -0.6740005"
      ]
     },
     "metadata": {},
     "output_type": "display_data"
    }
   ],
   "source": [
    "#check if meds affect results\n",
    "\n",
    "con.fit = lmer(peak ~ meds*distractors + (1 | subjectNumber), data = dataAutFA)\n",
    "summary(con.fit)\n",
    "lme.dscore(con.fit,dataAutFA,\"lme4\")"
   ]
  },
  {
   "cell_type": "code",
   "execution_count": 49,
   "metadata": {},
   "outputs": [
    {
     "data": {
      "text/html": [
       "233732511.492062"
      ],
      "text/latex": [
       "233732511.492062"
      ],
      "text/markdown": [
       "233732511.492062"
      ],
      "text/plain": [
       "[1] 233732511"
      ]
     },
     "metadata": {},
     "output_type": "display_data"
    }
   ],
   "source": [
    "#compute Bayes factor for effect of meds\n",
    "\n",
    "con.fit = lmer(peak ~ meds*distractors + (1 | subjectNumber), data = dataAutFA)\n",
    "no.fit = lmer(peak ~ (1 | subjectNumber), data = dataAutFA)\n",
    "exp((BIC(con.fit)-BIC(no.fit))/2)"
   ]
  },
  {
   "cell_type": "code",
   "execution_count": 50,
   "metadata": {
    "scrolled": false
   },
   "outputs": [
    {
     "data": {
      "text/plain": [
       "Linear mixed model fit by REML. t-tests use Satterthwaite's method [\n",
       "lmerModLmerTest]\n",
       "Formula: peak ~ age * distractors + (1 | subjectNumber)\n",
       "   Data: dataFA\n",
       "\n",
       "REML criterion at convergence: -716.7\n",
       "\n",
       "Scaled residuals: \n",
       "     Min       1Q   Median       3Q      Max \n",
       "-1.68075 -0.55059 -0.03519  0.57514  2.05170 \n",
       "\n",
       "Random effects:\n",
       " Groups        Name        Variance  Std.Dev.\n",
       " subjectNumber (Intercept) 4.661e-06 0.002159\n",
       " Residual                  6.067e-06 0.002463\n",
       "Number of obs: 89, groups:  subjectNumber, 46\n",
       "\n",
       "Fixed effects:\n",
       "                   Estimate Std. Error         df t value Pr(>|t|)    \n",
       "(Intercept)       9.898e-03  2.007e-03  7.211e+01   4.932 5.05e-06 ***\n",
       "age              -5.056e-05  6.423e-05  7.211e+01  -0.787    0.434    \n",
       "distractors1     -1.347e-03  2.147e-03  4.176e+01  -0.628    0.534    \n",
       "age:distractors1  2.778e-05  6.844e-05  4.157e+01   0.406    0.687    \n",
       "---\n",
       "Signif. codes:  0 ‘***’ 0.001 ‘**’ 0.01 ‘*’ 0.05 ‘.’ 0.1 ‘ ’ 1\n",
       "\n",
       "Correlation of Fixed Effects:\n",
       "            (Intr) age    dstrc1\n",
       "age         -0.971              \n",
       "distractrs1 -0.529  0.513       \n",
       "ag:dstrctr1  0.515 -0.531 -0.969"
      ]
     },
     "metadata": {},
     "output_type": "display_data"
    }
   ],
   "source": [
    "#check if age affects results\n",
    "\n",
    "con.fit = lmer(peak ~ age*distractors + (1 | subjectNumber), data = dataFA)\n",
    "summary(con.fit)"
   ]
  },
  {
   "cell_type": "code",
   "execution_count": 51,
   "metadata": {},
   "outputs": [
    {
     "data": {
      "text/html": [
       "12668009654447.9"
      ],
      "text/latex": [
       "12668009654447.9"
      ],
      "text/markdown": [
       "12668009654447.9"
      ],
      "text/plain": [
       "[1] 1.266801e+13"
      ]
     },
     "metadata": {},
     "output_type": "display_data"
    }
   ],
   "source": [
    "#compute Bayes factor for effect of age\n",
    "\n",
    "con.fit = lmer(peak ~ age*distractors + (1 | subjectNumber), data = dataFA)\n",
    "no.fit = lmer(peak ~ (1 | subjectNumber), data = dataFA)\n",
    "exp((BIC(con.fit)-BIC(no.fit))/2)"
   ]
  },
  {
   "cell_type": "code",
   "execution_count": 52,
   "metadata": {
    "scrolled": false
   },
   "outputs": [
    {
     "data": {
      "text/plain": [
       "Linear mixed model fit by REML. t-tests use Satterthwaite's method [\n",
       "lmerModLmerTest]\n",
       "Formula: peak ~ ADOSComm * distractors + ADOSSoc * distractors + ADOSBeh *  \n",
       "    distractors + (1 | subjectNumber)\n",
       "   Data: dataAutFA\n",
       "\n",
       "REML criterion at convergence: -283.8\n",
       "\n",
       "Scaled residuals: \n",
       "     Min       1Q   Median       3Q      Max \n",
       "-1.72206 -0.42869 -0.03155  0.40909  1.58408 \n",
       "\n",
       "Random effects:\n",
       " Groups        Name        Variance  Std.Dev.\n",
       " subjectNumber (Intercept) 2.702e-06 0.001644\n",
       " Residual                  5.155e-06 0.002270\n",
       "Number of obs: 43, groups:  subjectNumber, 22\n",
       "\n",
       "Fixed effects:\n",
       "                        Estimate Std. Error         df t value Pr(>|t|)    \n",
       "(Intercept)            0.0133872  0.0025500 31.1029689   5.250 1.04e-05 ***\n",
       "ADOSComm              -0.0002705  0.0004399 31.1029689  -0.615    0.543    \n",
       "distractors1          -0.0029841  0.0029347 16.4245774  -1.017    0.324    \n",
       "ADOSSoc               -0.0005079  0.0003152 31.1029689  -1.612    0.117    \n",
       "ADOSBeh               -0.0001276  0.0003895 31.1029689  -0.328    0.745    \n",
       "ADOSComm:distractors1 -0.0004271  0.0005040 16.3199357  -0.848    0.409    \n",
       "distractors1:ADOSSoc   0.0005307  0.0003611 16.3194954   1.470    0.161    \n",
       "distractors1:ADOSBeh  -0.0006123  0.0004550 16.7628652  -1.346    0.196    \n",
       "---\n",
       "Signif. codes:  0 ‘***’ 0.001 ‘**’ 0.01 ‘*’ 0.05 ‘.’ 0.1 ‘ ’ 1\n",
       "\n",
       "Correlation of Fixed Effects:\n",
       "            (Intr) ADOSCm dstrc1 ADOSSc ADOSBh ADOSC: d1:ADOSS\n",
       "ADOSComm    -0.451                                            \n",
       "distractrs1 -0.570  0.257                                     \n",
       "ADOSSoc     -0.654 -0.292  0.373                              \n",
       "ADOSBeh     -0.236  0.229  0.135 -0.204                       \n",
       "ADOSCmm:ds1  0.258 -0.573 -0.449  0.167 -0.131                \n",
       "dstr1:ADOSS  0.375  0.167 -0.650 -0.573  0.117 -0.292         \n",
       "dstr1:ADOSB  0.133 -0.128 -0.249  0.115 -0.562  0.226 -0.202  "
      ]
     },
     "metadata": {},
     "output_type": "display_data"
    },
    {
     "data": {
      "text/html": [
       "<table>\n",
       "<thead><tr><th></th><th scope=col>t</th><th scope=col>df</th><th scope=col>d</th></tr></thead>\n",
       "<tbody>\n",
       "\t<tr><th scope=row>ADOSComm</th><td>-0.6148703</td><td>31.10297  </td><td>-0.2205020</td></tr>\n",
       "\t<tr><th scope=row>distractors1</th><td>-1.0168148</td><td>16.42458  </td><td>-0.5017932</td></tr>\n",
       "\t<tr><th scope=row>ADOSSoc</th><td>-1.6115568</td><td>31.10297  </td><td>-0.5779293</td></tr>\n",
       "\t<tr><th scope=row>ADOSBeh</th><td>-0.3275493</td><td>31.10297  </td><td>-0.1174643</td></tr>\n",
       "\t<tr><th scope=row>ADOSComm:distractors1</th><td>-0.8475045</td><td>16.31994  </td><td>-0.4195781</td></tr>\n",
       "\t<tr><th scope=row>distractors1:ADOSSoc</th><td> 1.4699100</td><td>16.31950  </td><td> 0.7277251</td></tr>\n",
       "\t<tr><th scope=row>distractors1:ADOSBeh</th><td>-1.3456489</td><td>16.76287  </td><td>-0.6573363</td></tr>\n",
       "</tbody>\n",
       "</table>\n"
      ],
      "text/latex": [
       "\\begin{tabular}{r|lll}\n",
       "  & t & df & d\\\\\n",
       "\\hline\n",
       "\tADOSComm & -0.6148703 & 31.10297   & -0.2205020\\\\\n",
       "\tdistractors1 & -1.0168148 & 16.42458   & -0.5017932\\\\\n",
       "\tADOSSoc & -1.6115568 & 31.10297   & -0.5779293\\\\\n",
       "\tADOSBeh & -0.3275493 & 31.10297   & -0.1174643\\\\\n",
       "\tADOSComm:distractors1 & -0.8475045 & 16.31994   & -0.4195781\\\\\n",
       "\tdistractors1:ADOSSoc &  1.4699100 & 16.31950   &  0.7277251\\\\\n",
       "\tdistractors1:ADOSBeh & -1.3456489 & 16.76287   & -0.6573363\\\\\n",
       "\\end{tabular}\n"
      ],
      "text/markdown": [
       "\n",
       "| <!--/--> | t | df | d |\n",
       "|---|---|---|---|\n",
       "| ADOSComm | -0.6148703 | 31.10297   | -0.2205020 |\n",
       "| distractors1 | -1.0168148 | 16.42458   | -0.5017932 |\n",
       "| ADOSSoc | -1.6115568 | 31.10297   | -0.5779293 |\n",
       "| ADOSBeh | -0.3275493 | 31.10297   | -0.1174643 |\n",
       "| ADOSComm:distractors1 | -0.8475045 | 16.31994   | -0.4195781 |\n",
       "| distractors1:ADOSSoc |  1.4699100 | 16.31950   |  0.7277251 |\n",
       "| distractors1:ADOSBeh | -1.3456489 | 16.76287   | -0.6573363 |\n",
       "\n"
      ],
      "text/plain": [
       "                      t          df       d         \n",
       "ADOSComm              -0.6148703 31.10297 -0.2205020\n",
       "distractors1          -1.0168148 16.42458 -0.5017932\n",
       "ADOSSoc               -1.6115568 31.10297 -0.5779293\n",
       "ADOSBeh               -0.3275493 31.10297 -0.1174643\n",
       "ADOSComm:distractors1 -0.8475045 16.31994 -0.4195781\n",
       "distractors1:ADOSSoc   1.4699100 16.31950  0.7277251\n",
       "distractors1:ADOSBeh  -1.3456489 16.76287 -0.6573363"
      ]
     },
     "metadata": {},
     "output_type": "display_data"
    }
   ],
   "source": [
    "#see effect of clinical metrics\n",
    "\n",
    "con.fit = lmer(peak ~ ADOSComm*distractors + ADOSSoc*distractors + ADOSBeh*distractors +  (1 | subjectNumber), data = dataAutFA)\n",
    "summary(con.fit)\n",
    "lme.dscore(con.fit,dataAutFA,\"lme4\")"
   ]
  },
  {
   "cell_type": "code",
   "execution_count": 53,
   "metadata": {},
   "outputs": [
    {
     "name": "stderr",
     "output_type": "stream",
     "text": [
      "Scale for 'colour' is already present. Adding another scale for 'colour',\n",
      "which will replace the existing scale.\n"
     ]
    },
    {
     "data": {
      "image/png": "[encoded data removed]",
      "text/plain": [
       "plot without title"
      ]
     },
     "metadata": {},
     "output_type": "display_data"
    }
   ],
   "source": [
    "#plot data\n",
    "\n",
    "ggplot(data = dataFA) +\n",
    "geom_point(mapping = aes(x = distractors, y = peak)) +\n",
    "aes(x = distractors, color = diagnosis, group = diagnosis, y = peak) + \n",
    "stat_summary(fun.y = mean, geom = \"line\", size = 1) + \n",
    "stat_summary(fun.data = mean_se, geom = \"errorbar\", width = 0.2, size = 1) + \n",
    "scale_x_discrete(breaks = c(\"0\",\"1\"), labels = c(\"ABSENCE of Distractors\",\"PRESENCE of Distractors\")) +\n",
    "scale_color_discrete(breaks = c(\"1\",\"0\"), labels = c(\"Autism\",\"Control\")) +\n",
    "scale_color_manual(breaks = c(\"1\",\"0\"), labels = c(\"Autism\", \"Control\"), values=c(\"blue\", \"red\")) +\n",
    "scale_y_continuous(breaks = (c(0.005,0.01,0.015,0.02)),limits=c(0, 0.02)) +\n",
    "ylab(\"Normalized Peak Pupil Amplitude\") +\n",
    "xlab(\"Condition\") +\n",
    "theme_classic() +\n",
    "theme(legend.position=c(0.9,0.1)) +\n",
    "theme(legend.title=element_blank()) +\n",
    "theme(axis.text=element_text(size=14, color = \"black\")) +\n",
    "theme(axis.title=element_text(size=14, color = \"black\")) +\n",
    "theme(legend.text=element_text(size=14)) +\n",
    " theme( axis.line = element_line(colour = \"black\", \n",
    "                      linetype = \"solid\"))+\n",
    "ggtitle(\"Pupillary Response to False Alarms\")+\n",
    "  theme(plot.title = element_text(hjust = 0.5))"
   ]
  },
  {
   "cell_type": "markdown",
   "metadata": {},
   "source": [
    "## PUPIL RESPONSES TO MISSES"
   ]
  },
  {
   "cell_type": "code",
   "execution_count": 54,
   "metadata": {},
   "outputs": [],
   "source": [
    "#get subset of data for only pupil responses to misses\n",
    "\n",
    "dataMiss = peakPupil %>%\n",
    "subset(hit == 0 & FA == 0 & miss == 1 & aud == 0)\n",
    "\n",
    "dataAutMiss = dataAut %>%\n",
    "subset(hit == 0 & FA == 0 & miss == 1 & aud == 0)\n",
    "\n",
    "dataRatMiss = peakPupil %>%\n",
    "subset(hit == 0 & FA == 0 & miss == 1 & aud == 0 & distractors == 0)"
   ]
  },
  {
   "cell_type": "code",
   "execution_count": 55,
   "metadata": {},
   "outputs": [
    {
     "data": {
      "text/plain": [
       "Linear mixed model fit by REML. t-tests use Satterthwaite's method [\n",
       "lmerModLmerTest]\n",
       "Formula: peak ~ diagnosis * distractors + (1 | subjectNumber)\n",
       "   Data: dataMiss\n",
       "\n",
       "REML criterion at convergence: -786\n",
       "\n",
       "Scaled residuals: \n",
       "    Min      1Q  Median      3Q     Max \n",
       "-1.4591 -0.4996 -0.1145  0.3731  3.1913 \n",
       "\n",
       "Random effects:\n",
       " Groups        Name        Variance  Std.Dev.\n",
       " subjectNumber (Intercept) 3.813e-06 0.001953\n",
       " Residual                  3.900e-06 0.001975\n",
       "Number of obs: 92, groups:  subjectNumber, 46\n",
       "\n",
       "Fixed effects:\n",
       "                          Estimate Std. Error         df t value Pr(>|t|)    \n",
       "(Intercept)              0.0064343  0.0005669 70.7186487  11.350   <2e-16 ***\n",
       "diagnosis1              -0.0018669  0.0008197 70.7186487  -2.277   0.0258 *  \n",
       "distractors1            -0.0016646  0.0005701 44.0000004  -2.920   0.0055 ** \n",
       "diagnosis1:distractors1  0.0011599  0.0008244 44.0000004   1.407   0.1664    \n",
       "---\n",
       "Signif. codes:  0 ‘***’ 0.001 ‘**’ 0.01 ‘*’ 0.05 ‘.’ 0.1 ‘ ’ 1\n",
       "\n",
       "Correlation of Fixed Effects:\n",
       "            (Intr) dgnss1 dstrc1\n",
       "diagnosis1  -0.692              \n",
       "distractrs1 -0.503  0.348       \n",
       "dgnss1:dst1  0.348 -0.503 -0.692"
      ]
     },
     "metadata": {},
     "output_type": "display_data"
    },
    {
     "data": {
      "text/html": [
       "<table>\n",
       "<thead><tr><th></th><th scope=col>t</th><th scope=col>df</th><th scope=col>d</th></tr></thead>\n",
       "<tbody>\n",
       "\t<tr><th scope=row>diagnosis1</th><td>-2.277473 </td><td>70.71865  </td><td>-0.5416470</td></tr>\n",
       "\t<tr><th scope=row>distractors1</th><td>-2.919794 </td><td>44.00000  </td><td>-0.8803511</td></tr>\n",
       "\t<tr><th scope=row>diagnosis1:distractors1</th><td> 1.407085 </td><td>44.00000  </td><td> 0.4242521</td></tr>\n",
       "</tbody>\n",
       "</table>\n"
      ],
      "text/latex": [
       "\\begin{tabular}{r|lll}\n",
       "  & t & df & d\\\\\n",
       "\\hline\n",
       "\tdiagnosis1 & -2.277473  & 70.71865   & -0.5416470\\\\\n",
       "\tdistractors1 & -2.919794  & 44.00000   & -0.8803511\\\\\n",
       "\tdiagnosis1:distractors1 &  1.407085  & 44.00000   &  0.4242521\\\\\n",
       "\\end{tabular}\n"
      ],
      "text/markdown": [
       "\n",
       "| <!--/--> | t | df | d |\n",
       "|---|---|---|---|\n",
       "| diagnosis1 | -2.277473  | 70.71865   | -0.5416470 |\n",
       "| distractors1 | -2.919794  | 44.00000   | -0.8803511 |\n",
       "| diagnosis1:distractors1 |  1.407085  | 44.00000   |  0.4242521 |\n",
       "\n"
      ],
      "text/plain": [
       "                        t         df       d         \n",
       "diagnosis1              -2.277473 70.71865 -0.5416470\n",
       "distractors1            -2.919794 44.00000 -0.8803511\n",
       "diagnosis1:distractors1  1.407085 44.00000  0.4242521"
      ]
     },
     "metadata": {},
     "output_type": "display_data"
    }
   ],
   "source": [
    "#see effect of group and condition\n",
    "\n",
    "con.fit = lmer(peak ~ diagnosis*distractors + (1 | subjectNumber), data = dataMiss)\n",
    "summary(con.fit)\n",
    "lme.dscore(con.fit,dataMiss,\"lme4\")"
   ]
  },
  {
   "cell_type": "code",
   "execution_count": 56,
   "metadata": {},
   "outputs": [
    {
     "data": {
      "text/plain": [
       "Linear mixed model fit by REML. t-tests use Satterthwaite's method [\n",
       "lmerModLmerTest]\n",
       "Formula: peak ~ diagnosis * distractors + (1 | subjectNumber)\n",
       "   Data: dataMiss\n",
       "\n",
       "REML criterion at convergence: -786\n",
       "\n",
       "Scaled residuals: \n",
       "    Min      1Q  Median      3Q     Max \n",
       "-1.4591 -0.4996 -0.1145  0.3731  3.1913 \n",
       "\n",
       "Random effects:\n",
       " Groups        Name        Variance  Std.Dev.\n",
       " subjectNumber (Intercept) 3.813e-06 0.001953\n",
       " Residual                  3.900e-06 0.001975\n",
       "Number of obs: 92, groups:  subjectNumber, 46\n",
       "\n",
       "Fixed effects:\n",
       "                          Estimate Std. Error         df t value Pr(>|t|)    \n",
       "(Intercept)              0.0064343  0.0005669 70.7186487  11.350   <2e-16 ***\n",
       "diagnosis1              -0.0018669  0.0008197 70.7186487  -2.277   0.0258 *  \n",
       "distractors1            -0.0016646  0.0005701 44.0000004  -2.920   0.0055 ** \n",
       "diagnosis1:distractors1  0.0011599  0.0008244 44.0000004   1.407   0.1664    \n",
       "---\n",
       "Signif. codes:  0 ‘***’ 0.001 ‘**’ 0.01 ‘*’ 0.05 ‘.’ 0.1 ‘ ’ 1\n",
       "\n",
       "Correlation of Fixed Effects:\n",
       "            (Intr) dgnss1 dstrc1\n",
       "diagnosis1  -0.692              \n",
       "distractrs1 -0.503  0.348       \n",
       "dgnss1:dst1  0.348 -0.503 -0.692"
      ]
     },
     "metadata": {},
     "output_type": "display_data"
    },
    {
     "data": {
      "text/plain": [
       "Linear mixed model fit by REML. t-tests use Satterthwaite's method [\n",
       "lmerModLmerTest]\n",
       "Formula: peak ~ (1 | subjectNumber)\n",
       "   Data: dataMiss\n",
       "\n",
       "REML criterion at convergence: -812.9\n",
       "\n",
       "Scaled residuals: \n",
       "    Min      1Q  Median      3Q     Max \n",
       "-1.3976 -0.5701 -0.1204  0.3961  3.5551 \n",
       "\n",
       "Random effects:\n",
       " Groups        Name        Variance  Std.Dev.\n",
       " subjectNumber (Intercept) 3.800e-06 0.001949\n",
       " Residual                  4.514e-06 0.002125\n",
       "Number of obs: 92, groups:  subjectNumber, 46\n",
       "\n",
       "Fixed effects:\n",
       "             Estimate Std. Error        df t value Pr(>|t|)    \n",
       "(Intercept) 4.986e-03  3.629e-04 4.500e+01   13.74   <2e-16 ***\n",
       "---\n",
       "Signif. codes:  0 ‘***’ 0.001 ‘**’ 0.01 ‘*’ 0.05 ‘.’ 0.1 ‘ ’ 1"
      ]
     },
     "metadata": {},
     "output_type": "display_data"
    },
    {
     "data": {
      "text/html": [
       "-758.916943435506"
      ],
      "text/latex": [
       "-758.916943435506"
      ],
      "text/markdown": [
       "-758.916943435506"
      ],
      "text/plain": [
       "[1] -758.9169"
      ]
     },
     "metadata": {},
     "output_type": "display_data"
    },
    {
     "data": {
      "text/html": [
       "-799.296298613495"
      ],
      "text/latex": [
       "-799.296298613495"
      ],
      "text/markdown": [
       "-799.296298613495"
      ],
      "text/plain": [
       "[1] -799.2963"
      ]
     },
     "metadata": {},
     "output_type": "display_data"
    },
    {
     "data": {
      "text/html": [
       "586496693.871707"
      ],
      "text/latex": [
       "586496693.871707"
      ],
      "text/markdown": [
       "586496693.871707"
      ],
      "text/plain": [
       "[1] 586496694"
      ]
     },
     "metadata": {},
     "output_type": "display_data"
    }
   ],
   "source": [
    "#compute Bayes factor for effect of group and condition\n",
    "\n",
    "con.fit = lmer(peak ~ diagnosis*distractors + (1 | subjectNumber), data = dataMiss)\n",
    "summary(con.fit)\n",
    "no.fit = lmer(peak ~ (1 | subjectNumber), data = dataMiss)\n",
    "summary(no.fit)\n",
    "BIC(con.fit)\n",
    "BIC(no.fit)\n",
    "exp((BIC(con.fit)-BIC(no.fit))/2)"
   ]
  },
  {
   "cell_type": "code",
   "execution_count": 57,
   "metadata": {},
   "outputs": [
    {
     "data": {
      "text/plain": [
       "\n",
       "Call:\n",
       "glm(formula = RatMiss ~ diagnosis, data = dataRatMiss)\n",
       "\n",
       "Deviance Residuals: \n",
       "    Min       1Q   Median       3Q      Max  \n",
       "-0.6873  -0.3474  -0.1305   0.3019   1.2894  \n",
       "\n",
       "Coefficients:\n",
       "            Estimate Std. Error t value Pr(>|t|)    \n",
       "(Intercept)  0.85634    0.09384   9.126 1.04e-11 ***\n",
       "diagnosis1   0.05577    0.13569   0.411    0.683    \n",
       "---\n",
       "Signif. codes:  0 ‘***’ 0.001 ‘**’ 0.01 ‘*’ 0.05 ‘.’ 0.1 ‘ ’ 1\n",
       "\n",
       "(Dispersion parameter for gaussian family taken to be 0.2113363)\n",
       "\n",
       "    Null deviance: 9.3345  on 45  degrees of freedom\n",
       "Residual deviance: 9.2988  on 44  degrees of freedom\n",
       "AIC: 63\n",
       "\n",
       "Number of Fisher Scoring iterations: 2\n"
      ]
     },
     "metadata": {},
     "output_type": "display_data"
    },
    {
     "data": {
      "text/plain": [
       "\n",
       "Cohen's d\n",
       "\n",
       "d estimate: -0.1213146 (negligible)\n",
       "95 percent confidence interval:\n",
       "     lower      upper \n",
       "-0.7167225  0.4740932 "
      ]
     },
     "metadata": {},
     "output_type": "display_data"
    }
   ],
   "source": [
    "#look at ratios\n",
    "\n",
    "con.fit = glm(RatMiss ~ diagnosis, data = dataRatMiss)\n",
    "summary(con.fit)\n",
    "cohen.d(dataRatMiss$RatMiss,dataRatMiss$diagnosis,pooled=TRUE,paired=FALSE,na.rm=TRUE)"
   ]
  },
  {
   "cell_type": "code",
   "execution_count": 58,
   "metadata": {},
   "outputs": [
    {
     "data": {
      "text/html": [
       "6.21015800402772"
      ],
      "text/latex": [
       "6.21015800402772"
      ],
      "text/markdown": [
       "6.21015800402772"
      ],
      "text/plain": [
       "[1] 6.210158"
      ]
     },
     "metadata": {},
     "output_type": "display_data"
    }
   ],
   "source": [
    "con.fit = glm(RatMiss ~ diagnosis, data = dataRatMiss)\n",
    "no.fit = glm(RatMiss ~ 1, data = dataRatMiss)\n",
    "exp((BIC(con.fit)-BIC(no.fit))/2)"
   ]
  },
  {
   "cell_type": "code",
   "execution_count": 59,
   "metadata": {
    "scrolled": false
   },
   "outputs": [
    {
     "data": {
      "text/plain": [
       "Linear mixed model fit by REML. t-tests use Satterthwaite's method [\n",
       "lmerModLmerTest]\n",
       "Formula: peak ~ meds * distractors + (1 | subjectNumber)\n",
       "   Data: dataAutMiss\n",
       "\n",
       "REML criterion at convergence: -373.8\n",
       "\n",
       "Scaled residuals: \n",
       "    Min      1Q  Median      3Q     Max \n",
       "-1.1501 -0.4832 -0.0822  0.3244  2.5865 \n",
       "\n",
       "Random effects:\n",
       " Groups        Name        Variance  Std.Dev.\n",
       " subjectNumber (Intercept) 3.171e-06 0.001781\n",
       " Residual                  1.958e-06 0.001399\n",
       "Number of obs: 44, groups:  subjectNumber, 22\n",
       "\n",
       "Fixed effects:\n",
       "                     Estimate Std. Error         df t value Pr(>|t|)    \n",
       "(Intercept)         0.0044021  0.0007162 28.9390761   6.146 1.08e-06 ***\n",
       "meds1               0.0003029  0.0009698 28.9390761   0.312   0.7570    \n",
       "distractors1        0.0004485  0.0006258 20.0000003   0.717   0.4819    \n",
       "meds1:distractors1 -0.0017474  0.0008474 20.0000003  -2.062   0.0524 .  \n",
       "---\n",
       "Signif. codes:  0 ‘***’ 0.001 ‘**’ 0.01 ‘*’ 0.05 ‘.’ 0.1 ‘ ’ 1\n",
       "\n",
       "Correlation of Fixed Effects:\n",
       "            (Intr) meds1  dstrc1\n",
       "meds1       -0.739              \n",
       "distractrs1 -0.437  0.323       \n",
       "mds1:dstrc1  0.323 -0.437 -0.739"
      ]
     },
     "metadata": {},
     "output_type": "display_data"
    },
    {
     "data": {
      "text/html": [
       "<table>\n",
       "<thead><tr><th></th><th scope=col>t</th><th scope=col>df</th><th scope=col>d</th></tr></thead>\n",
       "<tbody>\n",
       "\t<tr><th scope=row>meds1</th><td> 0.3123596</td><td>28.93908  </td><td> 0.1161295</td></tr>\n",
       "\t<tr><th scope=row>distractors1</th><td> 0.7166745</td><td>20.00000  </td><td> 0.3205066</td></tr>\n",
       "\t<tr><th scope=row>meds1:distractors1</th><td>-2.0621286</td><td>20.00000  </td><td>-0.9222119</td></tr>\n",
       "</tbody>\n",
       "</table>\n"
      ],
      "text/latex": [
       "\\begin{tabular}{r|lll}\n",
       "  & t & df & d\\\\\n",
       "\\hline\n",
       "\tmeds1 &  0.3123596 & 28.93908   &  0.1161295\\\\\n",
       "\tdistractors1 &  0.7166745 & 20.00000   &  0.3205066\\\\\n",
       "\tmeds1:distractors1 & -2.0621286 & 20.00000   & -0.9222119\\\\\n",
       "\\end{tabular}\n"
      ],
      "text/markdown": [
       "\n",
       "| <!--/--> | t | df | d |\n",
       "|---|---|---|---|\n",
       "| meds1 |  0.3123596 | 28.93908   |  0.1161295 |\n",
       "| distractors1 |  0.7166745 | 20.00000   |  0.3205066 |\n",
       "| meds1:distractors1 | -2.0621286 | 20.00000   | -0.9222119 |\n",
       "\n"
      ],
      "text/plain": [
       "                   t          df       d         \n",
       "meds1               0.3123596 28.93908  0.1161295\n",
       "distractors1        0.7166745 20.00000  0.3205066\n",
       "meds1:distractors1 -2.0621286 20.00000 -0.9222119"
      ]
     },
     "metadata": {},
     "output_type": "display_data"
    }
   ],
   "source": [
    "#check if meds affect results\n",
    "\n",
    "con.fit = lmer(peak ~ meds*distractors + (1 | subjectNumber), data = dataAutMiss)\n",
    "summary(con.fit)\n",
    "lme.dscore(con.fit,dataAutMiss,\"lme4\")"
   ]
  },
  {
   "cell_type": "code",
   "execution_count": 60,
   "metadata": {},
   "outputs": [
    {
     "data": {
      "text/plain": [
       "Linear mixed model fit by REML. t-tests use Satterthwaite's method [\n",
       "lmerModLmerTest]\n",
       "Formula: peak ~ meds * distractors + (1 | subjectNumber)\n",
       "   Data: dataAutMiss\n",
       "\n",
       "REML criterion at convergence: -373.8\n",
       "\n",
       "Scaled residuals: \n",
       "    Min      1Q  Median      3Q     Max \n",
       "-1.1501 -0.4832 -0.0822  0.3244  2.5865 \n",
       "\n",
       "Random effects:\n",
       " Groups        Name        Variance  Std.Dev.\n",
       " subjectNumber (Intercept) 3.171e-06 0.001781\n",
       " Residual                  1.958e-06 0.001399\n",
       "Number of obs: 44, groups:  subjectNumber, 22\n",
       "\n",
       "Fixed effects:\n",
       "                     Estimate Std. Error         df t value Pr(>|t|)    \n",
       "(Intercept)         0.0044021  0.0007162 28.9390761   6.146 1.08e-06 ***\n",
       "meds1               0.0003029  0.0009698 28.9390761   0.312   0.7570    \n",
       "distractors1        0.0004485  0.0006258 20.0000003   0.717   0.4819    \n",
       "meds1:distractors1 -0.0017474  0.0008474 20.0000003  -2.062   0.0524 .  \n",
       "---\n",
       "Signif. codes:  0 ‘***’ 0.001 ‘**’ 0.01 ‘*’ 0.05 ‘.’ 0.1 ‘ ’ 1\n",
       "\n",
       "Correlation of Fixed Effects:\n",
       "            (Intr) meds1  dstrc1\n",
       "meds1       -0.739              \n",
       "distractrs1 -0.437  0.323       \n",
       "mds1:dstrc1  0.323 -0.437 -0.739"
      ]
     },
     "metadata": {},
     "output_type": "display_data"
    },
    {
     "data": {
      "text/plain": [
       "Linear mixed model fit by REML. t-tests use Satterthwaite's method [\n",
       "lmerModLmerTest]\n",
       "Formula: peak ~ (1 | subjectNumber)\n",
       "   Data: dataAutMiss\n",
       "\n",
       "REML criterion at convergence: -406.2\n",
       "\n",
       "Scaled residuals: \n",
       "     Min       1Q   Median       3Q      Max \n",
       "-1.56676 -0.52281  0.01604  0.49685  2.08477 \n",
       "\n",
       "Random effects:\n",
       " Groups        Name        Variance  Std.Dev.\n",
       " subjectNumber (Intercept) 2.895e-06 0.001701\n",
       " Residual                  2.286e-06 0.001512\n",
       "Number of obs: 44, groups:  subjectNumber, 22\n",
       "\n",
       "Fixed effects:\n",
       "             Estimate Std. Error        df t value Pr(>|t|)    \n",
       "(Intercept) 4.315e-03  4.284e-04 2.100e+01   10.07 1.71e-09 ***\n",
       "---\n",
       "Signif. codes:  0 ‘***’ 0.001 ‘**’ 0.01 ‘*’ 0.05 ‘.’ 0.1 ‘ ’ 1"
      ]
     },
     "metadata": {},
     "output_type": "display_data"
    },
    {
     "data": {
      "text/html": [
       "-351.05426789508"
      ],
      "text/latex": [
       "-351.05426789508"
      ],
      "text/markdown": [
       "-351.05426789508"
      ],
      "text/plain": [
       "[1] -351.0543"
      ]
     },
     "metadata": {},
     "output_type": "display_data"
    },
    {
     "data": {
      "text/html": [
       "-394.844593224981"
      ],
      "text/latex": [
       "-394.844593224981"
      ],
      "text/markdown": [
       "-394.844593224981"
      ],
      "text/plain": [
       "[1] -394.8446"
      ]
     },
     "metadata": {},
     "output_type": "display_data"
    },
    {
     "data": {
      "text/html": [
       "3228110004.35622"
      ],
      "text/latex": [
       "3228110004.35622"
      ],
      "text/markdown": [
       "3228110004.35622"
      ],
      "text/plain": [
       "[1] 3228110004"
      ]
     },
     "metadata": {},
     "output_type": "display_data"
    }
   ],
   "source": [
    "#compute Bayes factor for effect of meds\n",
    "\n",
    "con.fit = lmer(peak ~ meds*distractors + (1 | subjectNumber), data = dataAutMiss)\n",
    "summary(con.fit)\n",
    "no.fit = lmer(peak ~ (1 | subjectNumber), data = dataAutMiss)\n",
    "summary(no.fit)\n",
    "BIC(con.fit)\n",
    "BIC(no.fit)\n",
    "exp((BIC(con.fit)-BIC(no.fit))/2)"
   ]
  },
  {
   "cell_type": "code",
   "execution_count": 61,
   "metadata": {
    "scrolled": false
   },
   "outputs": [
    {
     "data": {
      "text/plain": [
       "Linear mixed model fit by REML. t-tests use Satterthwaite's method [\n",
       "lmerModLmerTest]\n",
       "Formula: peak ~ age * distractors + (1 | subjectNumber)\n",
       "   Data: dataMiss\n",
       "\n",
       "REML criterion at convergence: -778.7\n",
       "\n",
       "Scaled residuals: \n",
       "    Min      1Q  Median      3Q     Max \n",
       "-1.2629 -0.5350 -0.1592  0.4506  3.2674 \n",
       "\n",
       "Random effects:\n",
       " Groups        Name        Variance  Std.Dev.\n",
       " subjectNumber (Intercept) 3.395e-06 0.001842\n",
       " Residual                  3.900e-06 0.001975\n",
       "Number of obs: 92, groups:  subjectNumber, 46\n",
       "\n",
       "Fixed effects:\n",
       "                   Estimate Std. Error         df t value Pr(>|t|)    \n",
       "(Intercept)       1.044e-02  1.684e-03  7.233e+01   6.199 3.15e-08 ***\n",
       "age              -1.640e-04  5.481e-05  7.233e+01  -2.993  0.00378 ** \n",
       "distractors1     -3.492e-03  1.741e-03  4.400e+01  -2.006  0.05106 .  \n",
       "age:distractors1  7.982e-05  5.668e-05  4.400e+01   1.408  0.16609    \n",
       "---\n",
       "Signif. codes:  0 ‘***’ 0.001 ‘**’ 0.01 ‘*’ 0.05 ‘.’ 0.1 ‘ ’ 1\n",
       "\n",
       "Correlation of Fixed Effects:\n",
       "            (Intr) age    dstrc1\n",
       "age         -0.972              \n",
       "distractrs1 -0.517  0.502       \n",
       "ag:dstrctr1  0.502 -0.517 -0.972"
      ]
     },
     "metadata": {},
     "output_type": "display_data"
    },
    {
     "data": {
      "text/html": [
       "<table>\n",
       "<thead><tr><th></th><th scope=col>t</th><th scope=col>df</th><th scope=col>d</th></tr></thead>\n",
       "<tbody>\n",
       "\t<tr><th scope=row>age</th><td>-2.992771 </td><td>72.33439  </td><td>-0.7037705</td></tr>\n",
       "\t<tr><th scope=row>distractors1</th><td>-2.005705 </td><td>44.00000  </td><td>-0.6047428</td></tr>\n",
       "\t<tr><th scope=row>age:distractors1</th><td> 1.408247 </td><td>44.00000  </td><td> 0.4246023</td></tr>\n",
       "</tbody>\n",
       "</table>\n"
      ],
      "text/latex": [
       "\\begin{tabular}{r|lll}\n",
       "  & t & df & d\\\\\n",
       "\\hline\n",
       "\tage & -2.992771  & 72.33439   & -0.7037705\\\\\n",
       "\tdistractors1 & -2.005705  & 44.00000   & -0.6047428\\\\\n",
       "\tage:distractors1 &  1.408247  & 44.00000   &  0.4246023\\\\\n",
       "\\end{tabular}\n"
      ],
      "text/markdown": [
       "\n",
       "| <!--/--> | t | df | d |\n",
       "|---|---|---|---|\n",
       "| age | -2.992771  | 72.33439   | -0.7037705 |\n",
       "| distractors1 | -2.005705  | 44.00000   | -0.6047428 |\n",
       "| age:distractors1 |  1.408247  | 44.00000   |  0.4246023 |\n",
       "\n"
      ],
      "text/plain": [
       "                 t         df       d         \n",
       "age              -2.992771 72.33439 -0.7037705\n",
       "distractors1     -2.005705 44.00000 -0.6047428\n",
       "age:distractors1  1.408247 44.00000  0.4246023"
      ]
     },
     "metadata": {},
     "output_type": "display_data"
    }
   ],
   "source": [
    "#check if age affects results\n",
    "\n",
    "con.fit = lmer(peak ~ age*distractors + (1 | subjectNumber), data = dataMiss)\n",
    "summary(con.fit)\n",
    "lme.dscore(con.fit,dataMiss,\"lme4\")"
   ]
  },
  {
   "cell_type": "code",
   "execution_count": 62,
   "metadata": {},
   "outputs": [
    {
     "data": {
      "text/plain": [
       "Linear mixed model fit by REML. t-tests use Satterthwaite's method [\n",
       "lmerModLmerTest]\n",
       "Formula: peak ~ ADOSComm * distractors + ADOSSoc * distractors + ADOSBeh *  \n",
       "    distractors + (1 | subjectNumber)\n",
       "   Data: dataAutMiss\n",
       "\n",
       "REML criterion at convergence: -314.8\n",
       "\n",
       "Scaled residuals: \n",
       "     Min       1Q   Median       3Q      Max \n",
       "-1.51729 -0.38128 -0.04928  0.36435  1.97165 \n",
       "\n",
       "Random effects:\n",
       " Groups        Name        Variance  Std.Dev.\n",
       " subjectNumber (Intercept) 3.415e-06 0.001848\n",
       " Residual                  1.854e-06 0.001362\n",
       "Number of obs: 44, groups:  subjectNumber, 22\n",
       "\n",
       "Fixed effects:\n",
       "                        Estimate Std. Error         df t value Pr(>|t|)   \n",
       "(Intercept)            6.295e-03  2.027e-03  2.535e+01   3.106  0.00462 **\n",
       "ADOSComm               1.427e-04  3.880e-04  2.535e+01   0.368  0.71602   \n",
       "distractors1          -2.356e-05  1.700e-03  1.800e+01  -0.014  0.98910   \n",
       "ADOSSoc               -4.031e-04  2.594e-04  2.535e+01  -1.554  0.13255   \n",
       "ADOSBeh                3.823e-04  3.142e-04  2.535e+01   1.217  0.23488   \n",
       "ADOSComm:distractors1 -3.410e-04  3.255e-04  1.800e+01  -1.048  0.30864   \n",
       "distractors1:ADOSSoc   2.756e-04  2.176e-04  1.800e+01   1.267  0.22145   \n",
       "distractors1:ADOSBeh  -7.049e-04  2.636e-04  1.800e+01  -2.674  0.01547 * \n",
       "---\n",
       "Signif. codes:  0 ‘***’ 0.001 ‘**’ 0.01 ‘*’ 0.05 ‘.’ 0.1 ‘ ’ 1\n",
       "\n",
       "Correlation of Fixed Effects:\n",
       "            (Intr) ADOSCm dstrc1 ADOSSc ADOSBh ADOSC: d1:ADOSS\n",
       "ADOSComm    -0.449                                            \n",
       "distractrs1 -0.419  0.188                                     \n",
       "ADOSSoc     -0.617 -0.344  0.259                              \n",
       "ADOSBeh     -0.203  0.232  0.085 -0.247                       \n",
       "ADOSCmm:ds1  0.188 -0.419 -0.449  0.144 -0.097                \n",
       "dstr1:ADOSS  0.259  0.144 -0.617 -0.419  0.103 -0.344         \n",
       "dstr1:ADOSB  0.085 -0.097 -0.203  0.103 -0.419  0.232 -0.247  "
      ]
     },
     "metadata": {},
     "output_type": "display_data"
    },
    {
     "data": {
      "text/html": [
       "<table>\n",
       "<thead><tr><th></th><th scope=col>t</th><th scope=col>df</th><th scope=col>d</th></tr></thead>\n",
       "<tbody>\n",
       "\t<tr><th scope=row>ADOSComm</th><td> 0.36786941 </td><td>25.35147    </td><td> 0.146124172</td></tr>\n",
       "\t<tr><th scope=row>distractors1</th><td>-0.01385705 </td><td>18.00003    </td><td>-0.006532271</td></tr>\n",
       "\t<tr><th scope=row>ADOSSoc</th><td>-1.55412384 </td><td>25.35147    </td><td>-0.617325211</td></tr>\n",
       "\t<tr><th scope=row>ADOSBeh</th><td> 1.21681923 </td><td>25.35147    </td><td> 0.483341913</td></tr>\n",
       "\t<tr><th scope=row>ADOSComm:distractors1</th><td>-1.04771429 </td><td>18.00003    </td><td>-0.493896829</td></tr>\n",
       "\t<tr><th scope=row>distractors1:ADOSSoc</th><td> 1.26658354 </td><td>18.00003    </td><td> 0.597072690</td></tr>\n",
       "\t<tr><th scope=row>distractors1:ADOSBeh</th><td>-2.67424967 </td><td>18.00003    </td><td>-1.260652297</td></tr>\n",
       "</tbody>\n",
       "</table>\n"
      ],
      "text/latex": [
       "\\begin{tabular}{r|lll}\n",
       "  & t & df & d\\\\\n",
       "\\hline\n",
       "\tADOSComm &  0.36786941  & 25.35147     &  0.146124172\\\\\n",
       "\tdistractors1 & -0.01385705  & 18.00003     & -0.006532271\\\\\n",
       "\tADOSSoc & -1.55412384  & 25.35147     & -0.617325211\\\\\n",
       "\tADOSBeh &  1.21681923  & 25.35147     &  0.483341913\\\\\n",
       "\tADOSComm:distractors1 & -1.04771429  & 18.00003     & -0.493896829\\\\\n",
       "\tdistractors1:ADOSSoc &  1.26658354  & 18.00003     &  0.597072690\\\\\n",
       "\tdistractors1:ADOSBeh & -2.67424967  & 18.00003     & -1.260652297\\\\\n",
       "\\end{tabular}\n"
      ],
      "text/markdown": [
       "\n",
       "| <!--/--> | t | df | d |\n",
       "|---|---|---|---|\n",
       "| ADOSComm |  0.36786941  | 25.35147     |  0.146124172 |\n",
       "| distractors1 | -0.01385705  | 18.00003     | -0.006532271 |\n",
       "| ADOSSoc | -1.55412384  | 25.35147     | -0.617325211 |\n",
       "| ADOSBeh |  1.21681923  | 25.35147     |  0.483341913 |\n",
       "| ADOSComm:distractors1 | -1.04771429  | 18.00003     | -0.493896829 |\n",
       "| distractors1:ADOSSoc |  1.26658354  | 18.00003     |  0.597072690 |\n",
       "| distractors1:ADOSBeh | -2.67424967  | 18.00003     | -1.260652297 |\n",
       "\n"
      ],
      "text/plain": [
       "                      t           df       d           \n",
       "ADOSComm               0.36786941 25.35147  0.146124172\n",
       "distractors1          -0.01385705 18.00003 -0.006532271\n",
       "ADOSSoc               -1.55412384 25.35147 -0.617325211\n",
       "ADOSBeh                1.21681923 25.35147  0.483341913\n",
       "ADOSComm:distractors1 -1.04771429 18.00003 -0.493896829\n",
       "distractors1:ADOSSoc   1.26658354 18.00003  0.597072690\n",
       "distractors1:ADOSBeh  -2.67424967 18.00003 -1.260652297"
      ]
     },
     "metadata": {},
     "output_type": "display_data"
    }
   ],
   "source": [
    "#see effect of clinical metrics\n",
    "\n",
    "con.fit = lmer(peak ~ ADOSComm*distractors + ADOSSoc*distractors + ADOSBeh*distractors +  (1 | subjectNumber), data = dataAutMiss)\n",
    "summary(con.fit)\n",
    "lme.dscore(con.fit,dataAutMiss,\"lme4\")"
   ]
  },
  {
   "cell_type": "code",
   "execution_count": 63,
   "metadata": {},
   "outputs": [
    {
     "data": {
      "text/html": [
       "3.74591374378755e+22"
      ],
      "text/latex": [
       "3.74591374378755e+22"
      ],
      "text/markdown": [
       "3.74591374378755e+22"
      ],
      "text/plain": [
       "[1] 3.745914e+22"
      ]
     },
     "metadata": {},
     "output_type": "display_data"
    }
   ],
   "source": [
    "#compute Bayes factor for effect of clinical metrics\n",
    "\n",
    "con.fit = lmer(peak ~ ADOSSocComm + ADOSBeh + FIQ + ADOSSocComm*distractors + ADOSBeh*distractors + FIQ*distractors + (1 | subjectNumber), data = dataAutMiss)\n",
    "no.fit = lm(peak ~ 1, data = dataAutFA)\n",
    "exp((BIC(con.fit)-BIC(no.fit))/2)"
   ]
  },
  {
   "cell_type": "code",
   "execution_count": 64,
   "metadata": {},
   "outputs": [
    {
     "name": "stderr",
     "output_type": "stream",
     "text": [
      "Scale for 'colour' is already present. Adding another scale for 'colour',\n",
      "which will replace the existing scale.\n"
     ]
    },
    {
     "data": {
      "image/png": "[encoded data removed]",
      "text/plain": [
       "plot without title"
      ]
     },
     "metadata": {},
     "output_type": "display_data"
    }
   ],
   "source": [
    "#plot data\n",
    "\n",
    "ggplot(data = dataMiss) +\n",
    "geom_point(mapping = aes(x = distractors, y = peak)) +\n",
    "aes(x = distractors, color = diagnosis, group = diagnosis, y = peak) + \n",
    "stat_summary(fun.y = mean, geom = \"line\", size = 1) + \n",
    "stat_summary(fun.data = mean_se, geom = \"errorbar\", width = 0.2, size = 1) + \n",
    "scale_x_discrete(breaks = c(\"0\",\"1\"), labels = c(\"ABSENCE of Distractors\",\"PRESENCE of Distractors\")) +\n",
    "scale_color_discrete(breaks = c(\"1\",\"0\"), labels = c(\"Autism\",\"Control\")) +\n",
    "scale_color_manual(breaks = c(\"1\",\"0\"), labels = c(\"Autism\", \"Control\"), values=c(\"blue\", \"red\")) +\n",
    "scale_y_continuous(breaks = (c(0.005,0.01,0.015,0.02)),limits=c(0, 0.02)) +\n",
    "ylab(\"Normalized Peak Pupil Amplitude\") +\n",
    "xlab(\"Condition\") +\n",
    "theme_classic() +\n",
    "theme(legend.position=c(0.9,0.1)) +\n",
    "theme(legend.title=element_blank()) +\n",
    "theme(axis.text=element_text(size=14, color = \"black\")) +\n",
    "theme(axis.title=element_text(size=14, color = \"black\")) +\n",
    "theme(legend.text=element_text(size=14)) +\n",
    " theme( axis.line = element_line(colour = \"black\", \n",
    "                      linetype = \"solid\"))+\n",
    "ggtitle(\"Pupillary Response to Misses\")+\n",
    "  theme(plot.title = element_text(hjust = 0.5))"
   ]
  },
  {
   "cell_type": "markdown",
   "metadata": {},
   "source": [
    "## PUPIL RESPONSES TO DISTRACTORS"
   ]
  },
  {
   "cell_type": "code",
   "execution_count": 65,
   "metadata": {},
   "outputs": [],
   "source": [
    "#get subset of data for only pupil responses to distractors\n",
    "\n",
    "dataAud = peakPupil %>%\n",
    "subset(hit == 0 & FA == 0 & miss == 0 & aud == 1 & distractors == 1)\n",
    "\n",
    "dataAutAud = dataAut %>%\n",
    "subset(hit == 0 & FA == 0 & miss == 0 & aud == 1 & distractors == 1)"
   ]
  },
  {
   "cell_type": "code",
   "execution_count": 66,
   "metadata": {},
   "outputs": [
    {
     "data": {
      "text/plain": [
       "\n",
       "Call:\n",
       "lm(formula = peak ~ diagnosis, data = dataAud)\n",
       "\n",
       "Residuals:\n",
       "       Min         1Q     Median         3Q        Max \n",
       "-0.0015821 -0.0004790 -0.0002070  0.0003512  0.0025280 \n",
       "\n",
       "Coefficients:\n",
       "              Estimate Std. Error t value Pr(>|t|)    \n",
       "(Intercept)  0.0021798  0.0001705  12.781   <2e-16 ***\n",
       "diagnosis1  -0.0004091  0.0002466  -1.659    0.104    \n",
       "---\n",
       "Signif. codes:  0 ‘***’ 0.001 ‘**’ 0.01 ‘*’ 0.05 ‘.’ 0.1 ‘ ’ 1\n",
       "\n",
       "Residual standard error: 0.0008355 on 44 degrees of freedom\n",
       "Multiple R-squared:  0.05888,\tAdjusted R-squared:  0.03749 \n",
       "F-statistic: 2.753 on 1 and 44 DF,  p-value: 0.1042\n"
      ]
     },
     "metadata": {},
     "output_type": "display_data"
    },
    {
     "data": {
      "text/plain": [
       "\n",
       "Cohen's d\n",
       "\n",
       "d estimate: 0.489702 (small)\n",
       "95 percent confidence interval:\n",
       "     lower      upper \n",
       "-0.1139934  1.0933973 "
      ]
     },
     "metadata": {},
     "output_type": "display_data"
    }
   ],
   "source": [
    "#see effect of group\n",
    "\n",
    "con.fit = lm(peak ~ diagnosis, data = dataAud)\n",
    "summary(con.fit)\n",
    "cohen.d(dataAud$peak,dataAud$diagnosis,pooled=TRUE,paired=FALSE,na.rm=TRUE)"
   ]
  },
  {
   "cell_type": "code",
   "execution_count": 67,
   "metadata": {},
   "outputs": [
    {
     "data": {
      "text/html": [
       "1.67981838427748"
      ],
      "text/latex": [
       "1.67981838427748"
      ],
      "text/markdown": [
       "1.67981838427748"
      ],
      "text/plain": [
       "[1] 1.679818"
      ]
     },
     "metadata": {},
     "output_type": "display_data"
    }
   ],
   "source": [
    "#compute Bayes factor for effect of group\n",
    "\n",
    "con.fit = lm(peak ~ diagnosis, data = dataAud)\n",
    "no.fit = lm(peak ~ 1, data = dataAud)\n",
    "exp((BIC(con.fit)-BIC(no.fit))/2)"
   ]
  },
  {
   "cell_type": "code",
   "execution_count": 68,
   "metadata": {},
   "outputs": [
    {
     "data": {
      "text/plain": [
       "\n",
       "Call:\n",
       "lm(formula = peak ~ meds, data = dataAutAud)\n",
       "\n",
       "Residuals:\n",
       "       Min         1Q     Median         3Q        Max \n",
       "-0.0011699 -0.0003965 -0.0002289  0.0002473  0.0025266 \n",
       "\n",
       "Coefficients:\n",
       "             Estimate Std. Error t value Pr(>|t|)    \n",
       "(Intercept) 1.769e-03  2.748e-04   6.436 2.82e-06 ***\n",
       "meds1       3.382e-06  3.575e-04   0.009    0.993    \n",
       "---\n",
       "Signif. codes:  0 ‘***’ 0.001 ‘**’ 0.01 ‘*’ 0.05 ‘.’ 0.1 ‘ ’ 1\n",
       "\n",
       "Residual standard error: 0.0008244 on 20 degrees of freedom\n",
       "Multiple R-squared:  4.475e-06,\tAdjusted R-squared:  -0.05 \n",
       "F-statistic: 8.951e-05 on 1 and 20 DF,  p-value: 0.9925\n"
      ]
     },
     "metadata": {},
     "output_type": "display_data"
    },
    {
     "data": {
      "text/plain": [
       "\n",
       "Cohen's d\n",
       "\n",
       "d estimate: -0.004102441 (negligible)\n",
       "95 percent confidence interval:\n",
       "     lower      upper \n",
       "-0.9086378  0.9004329 "
      ]
     },
     "metadata": {},
     "output_type": "display_data"
    }
   ],
   "source": [
    "#check if meds affect results\n",
    "\n",
    "con.fit = lm(peak ~ meds, data = dataAutAud)\n",
    "summary(con.fit)\n",
    "cohen.d(dataAutAud$peak,dataAutAud$meds,pooled=TRUE,paired=FALSE,na.rm=TRUE)"
   ]
  },
  {
   "cell_type": "code",
   "execution_count": 69,
   "metadata": {},
   "outputs": [
    {
     "data": {
      "text/html": [
       "4.69018486714637"
      ],
      "text/latex": [
       "4.69018486714637"
      ],
      "text/markdown": [
       "4.69018486714637"
      ],
      "text/plain": [
       "[1] 4.690185"
      ]
     },
     "metadata": {},
     "output_type": "display_data"
    }
   ],
   "source": [
    "#compute Bayes factor for effect of meds\n",
    "\n",
    "con.fit = lm(peak ~ meds, data = dataAutAud)\n",
    "no.fit = lm(peak ~ 1, data = dataAutAud)\n",
    "exp((BIC(con.fit)-BIC(no.fit))/2)"
   ]
  },
  {
   "cell_type": "code",
   "execution_count": 70,
   "metadata": {},
   "outputs": [
    {
     "data": {
      "text/plain": [
       "\n",
       "Call:\n",
       "lm(formula = peak ~ age, data = dataAud)\n",
       "\n",
       "Residuals:\n",
       "       Min         1Q     Median         3Q        Max \n",
       "-0.0014092 -0.0005879 -0.0001486  0.0003720  0.0023752 \n",
       "\n",
       "Coefficients:\n",
       "              Estimate Std. Error t value Pr(>|t|)    \n",
       "(Intercept)  2.649e-03  5.120e-04   5.174 5.42e-06 ***\n",
       "age         -2.199e-05  1.642e-05  -1.339    0.188    \n",
       "---\n",
       "Signif. codes:  0 ‘***’ 0.001 ‘**’ 0.01 ‘*’ 0.05 ‘.’ 0.1 ‘ ’ 1\n",
       "\n",
       "Residual standard error: 0.0008442 on 44 degrees of freedom\n",
       "Multiple R-squared:  0.03913,\tAdjusted R-squared:  0.0173 \n",
       "F-statistic: 1.792 on 1 and 44 DF,  p-value: 0.1876\n"
      ]
     },
     "metadata": {},
     "output_type": "display_data"
    }
   ],
   "source": [
    "#check if age affects results\n",
    "\n",
    "con.fit = lm(peak ~ age, data = dataAud)\n",
    "summary(con.fit)"
   ]
  },
  {
   "cell_type": "code",
   "execution_count": 71,
   "metadata": {},
   "outputs": [
    {
     "data": {
      "text/html": [
       "2.70788168584094"
      ],
      "text/latex": [
       "2.70788168584094"
      ],
      "text/markdown": [
       "2.70788168584094"
      ],
      "text/plain": [
       "[1] 2.707882"
      ]
     },
     "metadata": {},
     "output_type": "display_data"
    }
   ],
   "source": [
    "#compute Bayes factor for effect of age\n",
    "\n",
    "con.fit = lm(peak ~ age, data = dataAud)\n",
    "no.fit = lm(peak ~ 1, data = dataAud)\n",
    "exp((BIC(con.fit)-BIC(no.fit))/2)"
   ]
  },
  {
   "cell_type": "code",
   "execution_count": 72,
   "metadata": {},
   "outputs": [
    {
     "data": {
      "image/png": "[encoded data removed]",
      "text/plain": [
       "plot without title"
      ]
     },
     "metadata": {},
     "output_type": "display_data"
    }
   ],
   "source": [
    "#plot data\n",
    "\n",
    "ggplot(data = dataAud) +\n",
    "geom_point(mapping = aes(x = diagnosis, y = peak)) +\n",
    "aes(x = diagnosis, color = diagnosis, y = peak) + \n",
    "stat_summary(fun.data = mean_se, geom = \"errorbar\", width = 0.2, size = 1) + \n",
    "scale_x_discrete(breaks = c(\"1\",\"0\"), labels = c(\"Autism\",\"Control\")) +\n",
    "scale_color_manual(breaks = c(\"1\",\"0\"), labels = c(\"Autism\", \"Control\"), values=c(\"blue\", \"red\")) +\n",
    "#scale_y_continuous(limits = c(0.5,0.9)) +\n",
    "ylab(\"Normalized Peak Pupil Amplitude\") +\n",
    "xlab(\"Diagnosis\") +\n",
    "theme_classic() +\n",
    "theme(legend.position=\"none\") +\n",
    "theme(axis.text=element_text(size=14)) +\n",
    "theme(axis.title=element_text(size=14))"
   ]
  }
 ],
 "metadata": {
  "kernelspec": {
   "display_name": "R",
   "language": "R",
   "name": "ir"
  },
  "language_info": {
   "codemirror_mode": "r",
   "file_extension": ".r",
   "mimetype": "text/x-r-source",
   "name": "R",
   "pygments_lexer": "r",
   "version": "3.5.2"
  }
 },
 "nbformat": 4,
 "nbformat_minor": 2
}
